{
 "cells": [
  {
   "cell_type": "code",
   "execution_count": 220,
   "id": "15b708b6",
   "metadata": {},
   "outputs": [],
   "source": [
    "import pandas as pd\n",
    "import numpy as np\n",
    "import matplotlib.pyplot as plt"
   ]
  },
  {
   "cell_type": "code",
   "execution_count": 557,
   "id": "a629f87d",
   "metadata": {},
   "outputs": [
    {
     "name": "stderr",
     "output_type": "stream",
     "text": [
      "C:\\Users\\Brian\\AppData\\Local\\Temp\\ipykernel_3980\\3755871208.py:1: DtypeWarning: Columns (9) have mixed types. Specify dtype option on import or set low_memory=False.\n",
      "  df= pd.read_csv('general_car_data.csv')\n"
     ]
    }
   ],
   "source": [
    "df= pd.read_csv('general_car_data.csv')"
   ]
  },
  {
   "cell_type": "code",
   "execution_count": 554,
   "id": "20a0b851",
   "metadata": {},
   "outputs": [],
   "source": [
    "# df.head()\n",
    "plt.rcParams['figure.figsize'] = [10, 5]\n",
    "plt.style.use('fivethirtyeight')"
   ]
  },
  {
   "cell_type": "code",
   "execution_count": 452,
   "id": "d44d9e25",
   "metadata": {},
   "outputs": [],
   "source": [
    "pd.set_option('display.max_columns', 40)"
   ]
  },
  {
   "cell_type": "code",
   "execution_count": 453,
   "id": "3e4a8034",
   "metadata": {},
   "outputs": [],
   "source": [
    "# df.corr()"
   ]
  },
  {
   "cell_type": "code",
   "execution_count": 454,
   "id": "564964fb",
   "metadata": {},
   "outputs": [],
   "source": [
    "# corr = df.corr()\n",
    "# corr.style.background_gradient(cmap='coolwarm')"
   ]
  },
  {
   "cell_type": "code",
   "execution_count": 455,
   "id": "784e1efe",
   "metadata": {},
   "outputs": [],
   "source": [
    "# corr = df1.corr()\n",
    "# corr.style.background_gradient(cmap='coolwarm')"
   ]
  },
  {
   "cell_type": "code",
   "execution_count": 456,
   "id": "7ccdd31a",
   "metadata": {
    "scrolled": true
   },
   "outputs": [],
   "source": [
    "# df.isnull().sum()"
   ]
  },
  {
   "cell_type": "code",
   "execution_count": 457,
   "id": "a5091f37",
   "metadata": {},
   "outputs": [
    {
     "data": {
      "text/plain": [
       "Index(['Unnamed: 0', 'Condition', 'Make', 'Body', 'Fuel', 'Second Condition',\n",
       "       'Registered Car', 'Model', 'Exchange Possible', 'Seats',\n",
       "       'Year of Manufacture', 'Color', 'Transmission', 'Mileage',\n",
       "       'price_valuation_txt', 'price_estimate', 'selling_price', 'advert_id',\n",
       "       'id_x', 'name', 'date_created_x', 'phone', 'page_url', 'adverts_count',\n",
       "       'status', 'date_created_y', 'date_moderated', 'date_edited',\n",
       "       'paid_info', 'region_name', 'count_images', 'count_views', 'id_y',\n",
       "       'description', 'boost', 'min_est', 'max_est', 'paid_infor', 'avg_est'],\n",
       "      dtype='object')"
      ]
     },
     "execution_count": 457,
     "metadata": {},
     "output_type": "execute_result"
    }
   ],
   "source": [
    "df.columns"
   ]
  },
  {
   "cell_type": "code",
   "execution_count": 458,
   "id": "7f934765",
   "metadata": {},
   "outputs": [],
   "source": [
    "df['Age']= df['Year of Manufacture'].apply(lambda x: (2022-int(x)) if pd.notna(x)  else x)"
   ]
  },
  {
   "cell_type": "code",
   "execution_count": 576,
   "id": "0b756afd",
   "metadata": {},
   "outputs": [
    {
     "data": {
      "text/plain": [
       "230"
      ]
     },
     "execution_count": 576,
     "metadata": {},
     "output_type": "execute_result"
    }
   ],
   "source": [
    "(df.Model.value_counts()<10).sum()"
   ]
  },
  {
   "cell_type": "code",
   "execution_count": 579,
   "id": "6684face",
   "metadata": {},
   "outputs": [
    {
     "data": {
      "text/html": [
       "<div>\n",
       "<style scoped>\n",
       "    .dataframe tbody tr th:only-of-type {\n",
       "        vertical-align: middle;\n",
       "    }\n",
       "\n",
       "    .dataframe tbody tr th {\n",
       "        vertical-align: top;\n",
       "    }\n",
       "\n",
       "    .dataframe thead th {\n",
       "        text-align: right;\n",
       "    }\n",
       "</style>\n",
       "<table border=\"1\" class=\"dataframe\">\n",
       "  <thead>\n",
       "    <tr style=\"text-align: right;\">\n",
       "      <th></th>\n",
       "      <th>Unnamed: 0</th>\n",
       "      <th>Year of Manufacture</th>\n",
       "      <th>Mileage</th>\n",
       "      <th>selling_price</th>\n",
       "      <th>advert_id</th>\n",
       "      <th>id_x</th>\n",
       "      <th>phone</th>\n",
       "      <th>adverts_count</th>\n",
       "      <th>count_images</th>\n",
       "      <th>count_views</th>\n",
       "      <th>id_y</th>\n",
       "      <th>min_est</th>\n",
       "      <th>max_est</th>\n",
       "      <th>avg_est</th>\n",
       "    </tr>\n",
       "  </thead>\n",
       "  <tbody>\n",
       "    <tr>\n",
       "      <th>count</th>\n",
       "      <td>17798.000000</td>\n",
       "      <td>17689.000000</td>\n",
       "      <td>1.244900e+04</td>\n",
       "      <td>1.778000e+04</td>\n",
       "      <td>1.778000e+04</td>\n",
       "      <td>1.778000e+04</td>\n",
       "      <td>0.0</td>\n",
       "      <td>17780.000000</td>\n",
       "      <td>17690.000000</td>\n",
       "      <td>17690.000000</td>\n",
       "      <td>1.778000e+04</td>\n",
       "      <td>1.462200e+04</td>\n",
       "      <td>1.462100e+04</td>\n",
       "      <td>1.462100e+04</td>\n",
       "    </tr>\n",
       "    <tr>\n",
       "      <th>mean</th>\n",
       "      <td>8898.500000</td>\n",
       "      <td>2013.539940</td>\n",
       "      <td>9.008506e+04</td>\n",
       "      <td>2.289817e+06</td>\n",
       "      <td>8.834256e+06</td>\n",
       "      <td>1.892474e+06</td>\n",
       "      <td>NaN</td>\n",
       "      <td>627.770416</td>\n",
       "      <td>8.890390</td>\n",
       "      <td>252.987564</td>\n",
       "      <td>8.834256e+06</td>\n",
       "      <td>2.223525e+06</td>\n",
       "      <td>2.345967e+06</td>\n",
       "      <td>2.284738e+06</td>\n",
       "    </tr>\n",
       "    <tr>\n",
       "      <th>std</th>\n",
       "      <td>5137.984381</td>\n",
       "      <td>3.000584</td>\n",
       "      <td>7.626886e+04</td>\n",
       "      <td>2.081253e+06</td>\n",
       "      <td>1.972373e+06</td>\n",
       "      <td>9.837891e+05</td>\n",
       "      <td>NaN</td>\n",
       "      <td>783.376166</td>\n",
       "      <td>3.530349</td>\n",
       "      <td>258.612470</td>\n",
       "      <td>1.972373e+06</td>\n",
       "      <td>1.868841e+06</td>\n",
       "      <td>1.981730e+06</td>\n",
       "      <td>1.924358e+06</td>\n",
       "    </tr>\n",
       "    <tr>\n",
       "      <th>min</th>\n",
       "      <td>0.000000</td>\n",
       "      <td>1958.000000</td>\n",
       "      <td>0.000000e+00</td>\n",
       "      <td>7.000000e+04</td>\n",
       "      <td>4.809480e+05</td>\n",
       "      <td>2.660000e+02</td>\n",
       "      <td>NaN</td>\n",
       "      <td>0.000000</td>\n",
       "      <td>2.000000</td>\n",
       "      <td>9.000000</td>\n",
       "      <td>4.809480e+05</td>\n",
       "      <td>2.500000e+05</td>\n",
       "      <td>2.870000e+05</td>\n",
       "      <td>2.685000e+05</td>\n",
       "    </tr>\n",
       "    <tr>\n",
       "      <th>25%</th>\n",
       "      <td>4449.250000</td>\n",
       "      <td>2014.000000</td>\n",
       "      <td>6.000000e+04</td>\n",
       "      <td>1.100000e+06</td>\n",
       "      <td>7.927916e+06</td>\n",
       "      <td>1.305796e+06</td>\n",
       "      <td>NaN</td>\n",
       "      <td>74.000000</td>\n",
       "      <td>6.000000</td>\n",
       "      <td>122.000000</td>\n",
       "      <td>7.927916e+06</td>\n",
       "      <td>1.100000e+06</td>\n",
       "      <td>1.150000e+06</td>\n",
       "      <td>1.125000e+06</td>\n",
       "    </tr>\n",
       "    <tr>\n",
       "      <th>50%</th>\n",
       "      <td>8898.500000</td>\n",
       "      <td>2014.000000</td>\n",
       "      <td>7.963700e+04</td>\n",
       "      <td>1.680000e+06</td>\n",
       "      <td>9.421684e+06</td>\n",
       "      <td>1.946001e+06</td>\n",
       "      <td>NaN</td>\n",
       "      <td>204.000000</td>\n",
       "      <td>8.000000</td>\n",
       "      <td>185.000000</td>\n",
       "      <td>9.421684e+06</td>\n",
       "      <td>1.650000e+06</td>\n",
       "      <td>1.710000e+06</td>\n",
       "      <td>1.675000e+06</td>\n",
       "    </tr>\n",
       "    <tr>\n",
       "      <th>75%</th>\n",
       "      <td>13347.750000</td>\n",
       "      <td>2015.000000</td>\n",
       "      <td>1.018460e+05</td>\n",
       "      <td>2.650000e+06</td>\n",
       "      <td>1.036273e+07</td>\n",
       "      <td>2.314350e+06</td>\n",
       "      <td>NaN</td>\n",
       "      <td>1393.000000</td>\n",
       "      <td>11.000000</td>\n",
       "      <td>298.000000</td>\n",
       "      <td>1.036273e+07</td>\n",
       "      <td>2.600000e+06</td>\n",
       "      <td>2.750000e+06</td>\n",
       "      <td>2.665000e+06</td>\n",
       "    </tr>\n",
       "    <tr>\n",
       "      <th>max</th>\n",
       "      <td>17797.000000</td>\n",
       "      <td>2022.000000</td>\n",
       "      <td>1.980000e+06</td>\n",
       "      <td>4.500000e+07</td>\n",
       "      <td>1.082561e+07</td>\n",
       "      <td>4.451866e+06</td>\n",
       "      <td>NaN</td>\n",
       "      <td>3123.000000</td>\n",
       "      <td>24.000000</td>\n",
       "      <td>6933.000000</td>\n",
       "      <td>1.082561e+07</td>\n",
       "      <td>1.699000e+07</td>\n",
       "      <td>1.753000e+07</td>\n",
       "      <td>1.726000e+07</td>\n",
       "    </tr>\n",
       "  </tbody>\n",
       "</table>\n",
       "</div>"
      ],
      "text/plain": [
       "         Unnamed: 0  Year of Manufacture       Mileage  selling_price  \\\n",
       "count  17798.000000         17689.000000  1.244900e+04   1.778000e+04   \n",
       "mean    8898.500000          2013.539940  9.008506e+04   2.289817e+06   \n",
       "std     5137.984381             3.000584  7.626886e+04   2.081253e+06   \n",
       "min        0.000000          1958.000000  0.000000e+00   7.000000e+04   \n",
       "25%     4449.250000          2014.000000  6.000000e+04   1.100000e+06   \n",
       "50%     8898.500000          2014.000000  7.963700e+04   1.680000e+06   \n",
       "75%    13347.750000          2015.000000  1.018460e+05   2.650000e+06   \n",
       "max    17797.000000          2022.000000  1.980000e+06   4.500000e+07   \n",
       "\n",
       "          advert_id          id_x  phone  adverts_count  count_images  \\\n",
       "count  1.778000e+04  1.778000e+04    0.0   17780.000000  17690.000000   \n",
       "mean   8.834256e+06  1.892474e+06    NaN     627.770416      8.890390   \n",
       "std    1.972373e+06  9.837891e+05    NaN     783.376166      3.530349   \n",
       "min    4.809480e+05  2.660000e+02    NaN       0.000000      2.000000   \n",
       "25%    7.927916e+06  1.305796e+06    NaN      74.000000      6.000000   \n",
       "50%    9.421684e+06  1.946001e+06    NaN     204.000000      8.000000   \n",
       "75%    1.036273e+07  2.314350e+06    NaN    1393.000000     11.000000   \n",
       "max    1.082561e+07  4.451866e+06    NaN    3123.000000     24.000000   \n",
       "\n",
       "        count_views          id_y       min_est       max_est       avg_est  \n",
       "count  17690.000000  1.778000e+04  1.462200e+04  1.462100e+04  1.462100e+04  \n",
       "mean     252.987564  8.834256e+06  2.223525e+06  2.345967e+06  2.284738e+06  \n",
       "std      258.612470  1.972373e+06  1.868841e+06  1.981730e+06  1.924358e+06  \n",
       "min        9.000000  4.809480e+05  2.500000e+05  2.870000e+05  2.685000e+05  \n",
       "25%      122.000000  7.927916e+06  1.100000e+06  1.150000e+06  1.125000e+06  \n",
       "50%      185.000000  9.421684e+06  1.650000e+06  1.710000e+06  1.675000e+06  \n",
       "75%      298.000000  1.036273e+07  2.600000e+06  2.750000e+06  2.665000e+06  \n",
       "max     6933.000000  1.082561e+07  1.699000e+07  1.753000e+07  1.726000e+07  "
      ]
     },
     "execution_count": 579,
     "metadata": {},
     "output_type": "execute_result"
    }
   ],
   "source": [
    "df.describe()"
   ]
  },
  {
   "cell_type": "code",
   "execution_count": null,
   "id": "dc8353db",
   "metadata": {},
   "outputs": [],
   "source": []
  },
  {
   "cell_type": "code",
   "execution_count": null,
   "id": "e960326d",
   "metadata": {},
   "outputs": [],
   "source": []
  },
  {
   "cell_type": "code",
   "execution_count": 459,
   "id": "bbb5632c",
   "metadata": {},
   "outputs": [],
   "source": [
    "cols1= ['Condition', 'Make','Age','Model','Transmission','Mileage', 'selling_price']"
   ]
  },
  {
   "cell_type": "code",
   "execution_count": 460,
   "id": "168aa1c4",
   "metadata": {},
   "outputs": [],
   "source": [
    "# df['Model'].value_counts()\n",
    "filt1= df['Model']=='Harrier'\n",
    "df1=df.loc[filt1]"
   ]
  },
  {
   "cell_type": "code",
   "execution_count": 461,
   "id": "316c36d2",
   "metadata": {},
   "outputs": [
    {
     "data": {
      "text/html": [
       "<div>\n",
       "<style scoped>\n",
       "    .dataframe tbody tr th:only-of-type {\n",
       "        vertical-align: middle;\n",
       "    }\n",
       "\n",
       "    .dataframe tbody tr th {\n",
       "        vertical-align: top;\n",
       "    }\n",
       "\n",
       "    .dataframe thead th {\n",
       "        text-align: right;\n",
       "    }\n",
       "</style>\n",
       "<table border=\"1\" class=\"dataframe\">\n",
       "  <thead>\n",
       "    <tr style=\"text-align: right;\">\n",
       "      <th></th>\n",
       "      <th>Condition</th>\n",
       "      <th>Make</th>\n",
       "      <th>Age</th>\n",
       "      <th>Model</th>\n",
       "      <th>Transmission</th>\n",
       "      <th>Mileage</th>\n",
       "      <th>selling_price</th>\n",
       "    </tr>\n",
       "  </thead>\n",
       "  <tbody>\n",
       "    <tr>\n",
       "      <th>22</th>\n",
       "      <td>Foreign Used</td>\n",
       "      <td>Toyota</td>\n",
       "      <td>7.0</td>\n",
       "      <td>Harrier</td>\n",
       "      <td>Automatic</td>\n",
       "      <td>97000.0</td>\n",
       "      <td>1720000.0</td>\n",
       "    </tr>\n",
       "    <tr>\n",
       "      <th>98</th>\n",
       "      <td>Foreign Used</td>\n",
       "      <td>Toyota</td>\n",
       "      <td>7.0</td>\n",
       "      <td>Harrier</td>\n",
       "      <td>Automatic</td>\n",
       "      <td>78000.0</td>\n",
       "      <td>2350000.0</td>\n",
       "    </tr>\n",
       "    <tr>\n",
       "      <th>146</th>\n",
       "      <td>Foreign Used</td>\n",
       "      <td>Toyota</td>\n",
       "      <td>7.0</td>\n",
       "      <td>Harrier</td>\n",
       "      <td>Automatic</td>\n",
       "      <td>57000.0</td>\n",
       "      <td>5600000.0</td>\n",
       "    </tr>\n",
       "    <tr>\n",
       "      <th>173</th>\n",
       "      <td>Foreign Used</td>\n",
       "      <td>Toyota</td>\n",
       "      <td>7.0</td>\n",
       "      <td>Harrier</td>\n",
       "      <td>Automatic</td>\n",
       "      <td>91000.0</td>\n",
       "      <td>2770000.0</td>\n",
       "    </tr>\n",
       "    <tr>\n",
       "      <th>193</th>\n",
       "      <td>Foreign Used</td>\n",
       "      <td>Toyota</td>\n",
       "      <td>7.0</td>\n",
       "      <td>Harrier</td>\n",
       "      <td>Automatic</td>\n",
       "      <td>91000.0</td>\n",
       "      <td>770000.0</td>\n",
       "    </tr>\n",
       "    <tr>\n",
       "      <th>...</th>\n",
       "      <td>...</td>\n",
       "      <td>...</td>\n",
       "      <td>...</td>\n",
       "      <td>...</td>\n",
       "      <td>...</td>\n",
       "      <td>...</td>\n",
       "      <td>...</td>\n",
       "    </tr>\n",
       "    <tr>\n",
       "      <th>17397</th>\n",
       "      <td>Foreign Used</td>\n",
       "      <td>Toyota</td>\n",
       "      <td>7.0</td>\n",
       "      <td>Harrier</td>\n",
       "      <td>Automatic</td>\n",
       "      <td>63000.0</td>\n",
       "      <td>1000000.0</td>\n",
       "    </tr>\n",
       "    <tr>\n",
       "      <th>17489</th>\n",
       "      <td>Kenyan Used</td>\n",
       "      <td>Toyota</td>\n",
       "      <td>11.0</td>\n",
       "      <td>Harrier</td>\n",
       "      <td>Automatic</td>\n",
       "      <td>NaN</td>\n",
       "      <td>3500000.0</td>\n",
       "    </tr>\n",
       "    <tr>\n",
       "      <th>17522</th>\n",
       "      <td>Kenyan Used</td>\n",
       "      <td>Toyota</td>\n",
       "      <td>12.0</td>\n",
       "      <td>Harrier</td>\n",
       "      <td>Automatic</td>\n",
       "      <td>135000.0</td>\n",
       "      <td>2450000.0</td>\n",
       "    </tr>\n",
       "    <tr>\n",
       "      <th>17569</th>\n",
       "      <td>Foreign Used</td>\n",
       "      <td>Toyota</td>\n",
       "      <td>8.0</td>\n",
       "      <td>Harrier</td>\n",
       "      <td>Automatic</td>\n",
       "      <td>68000.0</td>\n",
       "      <td>4000000.0</td>\n",
       "    </tr>\n",
       "    <tr>\n",
       "      <th>17751</th>\n",
       "      <td>Kenyan Used</td>\n",
       "      <td>Toyota</td>\n",
       "      <td>19.0</td>\n",
       "      <td>Harrier</td>\n",
       "      <td>Automatic</td>\n",
       "      <td>NaN</td>\n",
       "      <td>1200000.0</td>\n",
       "    </tr>\n",
       "  </tbody>\n",
       "</table>\n",
       "<p>709 rows × 7 columns</p>\n",
       "</div>"
      ],
      "text/plain": [
       "          Condition    Make   Age    Model Transmission   Mileage  \\\n",
       "22     Foreign Used  Toyota   7.0  Harrier    Automatic   97000.0   \n",
       "98     Foreign Used  Toyota   7.0  Harrier    Automatic   78000.0   \n",
       "146    Foreign Used  Toyota   7.0  Harrier    Automatic   57000.0   \n",
       "173    Foreign Used  Toyota   7.0  Harrier    Automatic   91000.0   \n",
       "193    Foreign Used  Toyota   7.0  Harrier    Automatic   91000.0   \n",
       "...             ...     ...   ...      ...          ...       ...   \n",
       "17397  Foreign Used  Toyota   7.0  Harrier    Automatic   63000.0   \n",
       "17489   Kenyan Used  Toyota  11.0  Harrier    Automatic       NaN   \n",
       "17522   Kenyan Used  Toyota  12.0  Harrier    Automatic  135000.0   \n",
       "17569  Foreign Used  Toyota   8.0  Harrier    Automatic   68000.0   \n",
       "17751   Kenyan Used  Toyota  19.0  Harrier    Automatic       NaN   \n",
       "\n",
       "       selling_price  \n",
       "22         1720000.0  \n",
       "98         2350000.0  \n",
       "146        5600000.0  \n",
       "173        2770000.0  \n",
       "193         770000.0  \n",
       "...              ...  \n",
       "17397      1000000.0  \n",
       "17489      3500000.0  \n",
       "17522      2450000.0  \n",
       "17569      4000000.0  \n",
       "17751      1200000.0  \n",
       "\n",
       "[709 rows x 7 columns]"
      ]
     },
     "execution_count": 461,
     "metadata": {},
     "output_type": "execute_result"
    }
   ],
   "source": [
    "df1 = df1[cols1]\n",
    "df1"
   ]
  },
  {
   "cell_type": "code",
   "execution_count": 462,
   "id": "d10a3ca8",
   "metadata": {
    "scrolled": true
   },
   "outputs": [
    {
     "data": {
      "text/plain": [
       "Condition          0\n",
       "Make               0\n",
       "Age                0\n",
       "Model              0\n",
       "Transmission       0\n",
       "Mileage          193\n",
       "selling_price      1\n",
       "dtype: int64"
      ]
     },
     "execution_count": 462,
     "metadata": {},
     "output_type": "execute_result"
    }
   ],
   "source": [
    "df1.isnull().sum()"
   ]
  },
  {
   "cell_type": "code",
   "execution_count": 463,
   "id": "04183096",
   "metadata": {},
   "outputs": [],
   "source": [
    "df1=df1.dropna()"
   ]
  },
  {
   "cell_type": "code",
   "execution_count": 464,
   "id": "dccaaa15",
   "metadata": {
    "scrolled": true
   },
   "outputs": [
    {
     "data": {
      "text/html": [
       "<div>\n",
       "<style scoped>\n",
       "    .dataframe tbody tr th:only-of-type {\n",
       "        vertical-align: middle;\n",
       "    }\n",
       "\n",
       "    .dataframe tbody tr th {\n",
       "        vertical-align: top;\n",
       "    }\n",
       "\n",
       "    .dataframe thead th {\n",
       "        text-align: right;\n",
       "    }\n",
       "</style>\n",
       "<table border=\"1\" class=\"dataframe\">\n",
       "  <thead>\n",
       "    <tr style=\"text-align: right;\">\n",
       "      <th></th>\n",
       "      <th>Condition</th>\n",
       "      <th>Make</th>\n",
       "      <th>Age</th>\n",
       "      <th>Model</th>\n",
       "      <th>Transmission</th>\n",
       "      <th>Mileage</th>\n",
       "      <th>selling_price</th>\n",
       "    </tr>\n",
       "  </thead>\n",
       "  <tbody>\n",
       "    <tr>\n",
       "      <th>22</th>\n",
       "      <td>Foreign Used</td>\n",
       "      <td>Toyota</td>\n",
       "      <td>7.0</td>\n",
       "      <td>Harrier</td>\n",
       "      <td>Automatic</td>\n",
       "      <td>97000.0</td>\n",
       "      <td>1720000.0</td>\n",
       "    </tr>\n",
       "    <tr>\n",
       "      <th>98</th>\n",
       "      <td>Foreign Used</td>\n",
       "      <td>Toyota</td>\n",
       "      <td>7.0</td>\n",
       "      <td>Harrier</td>\n",
       "      <td>Automatic</td>\n",
       "      <td>78000.0</td>\n",
       "      <td>2350000.0</td>\n",
       "    </tr>\n",
       "    <tr>\n",
       "      <th>146</th>\n",
       "      <td>Foreign Used</td>\n",
       "      <td>Toyota</td>\n",
       "      <td>7.0</td>\n",
       "      <td>Harrier</td>\n",
       "      <td>Automatic</td>\n",
       "      <td>57000.0</td>\n",
       "      <td>5600000.0</td>\n",
       "    </tr>\n",
       "    <tr>\n",
       "      <th>173</th>\n",
       "      <td>Foreign Used</td>\n",
       "      <td>Toyota</td>\n",
       "      <td>7.0</td>\n",
       "      <td>Harrier</td>\n",
       "      <td>Automatic</td>\n",
       "      <td>91000.0</td>\n",
       "      <td>2770000.0</td>\n",
       "    </tr>\n",
       "    <tr>\n",
       "      <th>193</th>\n",
       "      <td>Foreign Used</td>\n",
       "      <td>Toyota</td>\n",
       "      <td>7.0</td>\n",
       "      <td>Harrier</td>\n",
       "      <td>Automatic</td>\n",
       "      <td>91000.0</td>\n",
       "      <td>770000.0</td>\n",
       "    </tr>\n",
       "  </tbody>\n",
       "</table>\n",
       "</div>"
      ],
      "text/plain": [
       "        Condition    Make  Age    Model Transmission  Mileage  selling_price\n",
       "22   Foreign Used  Toyota  7.0  Harrier    Automatic  97000.0      1720000.0\n",
       "98   Foreign Used  Toyota  7.0  Harrier    Automatic  78000.0      2350000.0\n",
       "146  Foreign Used  Toyota  7.0  Harrier    Automatic  57000.0      5600000.0\n",
       "173  Foreign Used  Toyota  7.0  Harrier    Automatic  91000.0      2770000.0\n",
       "193  Foreign Used  Toyota  7.0  Harrier    Automatic  91000.0       770000.0"
      ]
     },
     "execution_count": 464,
     "metadata": {},
     "output_type": "execute_result"
    }
   ],
   "source": [
    "df1.head()"
   ]
  },
  {
   "cell_type": "code",
   "execution_count": 465,
   "id": "5d56e8c4",
   "metadata": {},
   "outputs": [
    {
     "data": {
      "text/plain": [
       "(515, 7)"
      ]
     },
     "execution_count": 465,
     "metadata": {},
     "output_type": "execute_result"
    }
   ],
   "source": [
    "df1.shape"
   ]
  },
  {
   "cell_type": "code",
   "execution_count": 466,
   "id": "2fe93031",
   "metadata": {},
   "outputs": [],
   "source": [
    "plt.rcParams['figure.figsize'] = [10, 5]\n",
    "plt.style.use('fivethirtyeight')"
   ]
  },
  {
   "cell_type": "code",
   "execution_count": 467,
   "id": "a6c8488f",
   "metadata": {},
   "outputs": [
    {
     "data": {
      "text/plain": [
       "<matplotlib.collections.PathCollection at 0x265f1485b80>"
      ]
     },
     "execution_count": 467,
     "metadata": {},
     "output_type": "execute_result"
    },
    {
     "data": {
      "image/png": "[encoded data removed]",
      "text/plain": [
       "<Figure size 720x360 with 1 Axes>"
      ]
     },
     "metadata": {},
     "output_type": "display_data"
    }
   ],
   "source": [
    "plt.scatter(x=df1.selling_price, y=df1.Age)"
   ]
  },
  {
   "cell_type": "code",
   "execution_count": 468,
   "id": "a62a4b85",
   "metadata": {},
   "outputs": [
    {
     "data": {
      "text/html": [
       "<div>\n",
       "<style scoped>\n",
       "    .dataframe tbody tr th:only-of-type {\n",
       "        vertical-align: middle;\n",
       "    }\n",
       "\n",
       "    .dataframe tbody tr th {\n",
       "        vertical-align: top;\n",
       "    }\n",
       "\n",
       "    .dataframe thead th {\n",
       "        text-align: right;\n",
       "    }\n",
       "</style>\n",
       "<table border=\"1\" class=\"dataframe\">\n",
       "  <thead>\n",
       "    <tr style=\"text-align: right;\">\n",
       "      <th></th>\n",
       "      <th>Age</th>\n",
       "      <th>Mileage</th>\n",
       "      <th>selling_price</th>\n",
       "    </tr>\n",
       "  </thead>\n",
       "  <tbody>\n",
       "    <tr>\n",
       "      <th>Age</th>\n",
       "      <td>1.000000</td>\n",
       "      <td>0.342184</td>\n",
       "      <td>-0.047107</td>\n",
       "    </tr>\n",
       "    <tr>\n",
       "      <th>Mileage</th>\n",
       "      <td>0.342184</td>\n",
       "      <td>1.000000</td>\n",
       "      <td>-0.005714</td>\n",
       "    </tr>\n",
       "    <tr>\n",
       "      <th>selling_price</th>\n",
       "      <td>-0.047107</td>\n",
       "      <td>-0.005714</td>\n",
       "      <td>1.000000</td>\n",
       "    </tr>\n",
       "  </tbody>\n",
       "</table>\n",
       "</div>"
      ],
      "text/plain": [
       "                    Age   Mileage  selling_price\n",
       "Age            1.000000  0.342184      -0.047107\n",
       "Mileage        0.342184  1.000000      -0.005714\n",
       "selling_price -0.047107 -0.005714       1.000000"
      ]
     },
     "execution_count": 468,
     "metadata": {},
     "output_type": "execute_result"
    }
   ],
   "source": [
    "df1.corr()"
   ]
  },
  {
   "cell_type": "markdown",
   "id": "e3d1e3d5",
   "metadata": {},
   "source": [
    "## prediction for specific model "
   ]
  },
  {
   "cell_type": "code",
   "execution_count": 469,
   "id": "e3d9b5f0",
   "metadata": {},
   "outputs": [],
   "source": [
    "import matplotlib.pyplot as plt\n",
    "%matplotlib inline\n",
    "import seaborn as sns\n",
    "from sklearn.model_selection import train_test_split\n",
    "from sklearn.preprocessing import StandardScaler\n",
    "from sklearn.linear_model import LinearRegression\n",
    "from sklearn import metrics"
   ]
  },
  {
   "cell_type": "code",
   "execution_count": 470,
   "id": "8e993f03",
   "metadata": {},
   "outputs": [
    {
     "data": {
      "text/plain": [
       "Index(['Condition', 'Make', 'Age', 'Model', 'Transmission', 'Mileage',\n",
       "       'selling_price'],\n",
       "      dtype='object')"
      ]
     },
     "execution_count": 470,
     "metadata": {},
     "output_type": "execute_result"
    }
   ],
   "source": [
    "df1.columns"
   ]
  },
  {
   "cell_type": "code",
   "execution_count": 471,
   "id": "4a750f6d",
   "metadata": {},
   "outputs": [],
   "source": [
    "q = df1['selling_price'].quantile(.75)\n",
    "filt2 = df1['selling_price'] <q\n",
    "df1 = df1.loc[filt2]"
   ]
  },
  {
   "cell_type": "code",
   "execution_count": 473,
   "id": "4198011a",
   "metadata": {},
   "outputs": [],
   "source": [
    "# one hot encoding\n",
    "df1 = pd.get_dummies(df1, columns=['Condition', 'Transmission'], drop_first=True)"
   ]
  },
  {
   "cell_type": "code",
   "execution_count": 476,
   "id": "fe62c72f",
   "metadata": {},
   "outputs": [],
   "source": [
    "# df1.columns\n",
    "ls_drops=['Make', 'Model']"
   ]
  },
  {
   "cell_type": "code",
   "execution_count": 477,
   "id": "6ead4096",
   "metadata": {},
   "outputs": [],
   "source": [
    "df1 = df1.drop(ls_drops, axis=1)"
   ]
  },
  {
   "cell_type": "code",
   "execution_count": 478,
   "id": "68542b4e",
   "metadata": {},
   "outputs": [
    {
     "data": {
      "text/plain": [
       "Index(['Age', 'Mileage', 'selling_price', 'Condition_Kenyan Used',\n",
       "       'Transmission_CVT'],\n",
       "      dtype='object')"
      ]
     },
     "execution_count": 478,
     "metadata": {},
     "output_type": "execute_result"
    }
   ],
   "source": [
    "df1.columns"
   ]
  },
  {
   "cell_type": "code",
   "execution_count": 479,
   "id": "634efe12",
   "metadata": {},
   "outputs": [],
   "source": [
    "x= df1.drop('selling_price', axis=1)\n",
    "y= df1.selling_price"
   ]
  },
  {
   "cell_type": "code",
   "execution_count": 480,
   "id": "1fe14c47",
   "metadata": {},
   "outputs": [],
   "source": [
    "x_train, x_test, y_train, y_test = train_test_split(x, y, test_size=0.3, random_state=42)"
   ]
  },
  {
   "cell_type": "code",
   "execution_count": 481,
   "id": "9aa03cd7",
   "metadata": {},
   "outputs": [
    {
     "data": {
      "text/html": [
       "<div>\n",
       "<style scoped>\n",
       "    .dataframe tbody tr th:only-of-type {\n",
       "        vertical-align: middle;\n",
       "    }\n",
       "\n",
       "    .dataframe tbody tr th {\n",
       "        vertical-align: top;\n",
       "    }\n",
       "\n",
       "    .dataframe thead th {\n",
       "        text-align: right;\n",
       "    }\n",
       "</style>\n",
       "<table border=\"1\" class=\"dataframe\">\n",
       "  <thead>\n",
       "    <tr style=\"text-align: right;\">\n",
       "      <th></th>\n",
       "      <th>Age</th>\n",
       "      <th>Mileage</th>\n",
       "      <th>Condition_Kenyan Used</th>\n",
       "      <th>Transmission_CVT</th>\n",
       "    </tr>\n",
       "  </thead>\n",
       "  <tbody>\n",
       "    <tr>\n",
       "      <th>1039</th>\n",
       "      <td>7.0</td>\n",
       "      <td>78555.0</td>\n",
       "      <td>0</td>\n",
       "      <td>0</td>\n",
       "    </tr>\n",
       "    <tr>\n",
       "      <th>9065</th>\n",
       "      <td>15.0</td>\n",
       "      <td>124000.0</td>\n",
       "      <td>1</td>\n",
       "      <td>0</td>\n",
       "    </tr>\n",
       "    <tr>\n",
       "      <th>14271</th>\n",
       "      <td>7.0</td>\n",
       "      <td>65000.0</td>\n",
       "      <td>0</td>\n",
       "      <td>0</td>\n",
       "    </tr>\n",
       "    <tr>\n",
       "      <th>6109</th>\n",
       "      <td>18.0</td>\n",
       "      <td>93256.0</td>\n",
       "      <td>1</td>\n",
       "      <td>0</td>\n",
       "    </tr>\n",
       "    <tr>\n",
       "      <th>9617</th>\n",
       "      <td>8.0</td>\n",
       "      <td>70000.0</td>\n",
       "      <td>0</td>\n",
       "      <td>0</td>\n",
       "    </tr>\n",
       "    <tr>\n",
       "      <th>...</th>\n",
       "      <td>...</td>\n",
       "      <td>...</td>\n",
       "      <td>...</td>\n",
       "      <td>...</td>\n",
       "    </tr>\n",
       "    <tr>\n",
       "      <th>3512</th>\n",
       "      <td>8.0</td>\n",
       "      <td>78000.0</td>\n",
       "      <td>0</td>\n",
       "      <td>0</td>\n",
       "    </tr>\n",
       "    <tr>\n",
       "      <th>4974</th>\n",
       "      <td>6.0</td>\n",
       "      <td>89000.0</td>\n",
       "      <td>0</td>\n",
       "      <td>0</td>\n",
       "    </tr>\n",
       "    <tr>\n",
       "      <th>11247</th>\n",
       "      <td>8.0</td>\n",
       "      <td>91.0</td>\n",
       "      <td>0</td>\n",
       "      <td>0</td>\n",
       "    </tr>\n",
       "    <tr>\n",
       "      <th>14776</th>\n",
       "      <td>7.0</td>\n",
       "      <td>42000.0</td>\n",
       "      <td>0</td>\n",
       "      <td>0</td>\n",
       "    </tr>\n",
       "    <tr>\n",
       "      <th>4741</th>\n",
       "      <td>12.0</td>\n",
       "      <td>109000.0</td>\n",
       "      <td>1</td>\n",
       "      <td>0</td>\n",
       "    </tr>\n",
       "  </tbody>\n",
       "</table>\n",
       "<p>270 rows × 4 columns</p>\n",
       "</div>"
      ],
      "text/plain": [
       "        Age   Mileage  Condition_Kenyan Used  Transmission_CVT\n",
       "1039    7.0   78555.0                      0                 0\n",
       "9065   15.0  124000.0                      1                 0\n",
       "14271   7.0   65000.0                      0                 0\n",
       "6109   18.0   93256.0                      1                 0\n",
       "9617    8.0   70000.0                      0                 0\n",
       "...     ...       ...                    ...               ...\n",
       "3512    8.0   78000.0                      0                 0\n",
       "4974    6.0   89000.0                      0                 0\n",
       "11247   8.0      91.0                      0                 0\n",
       "14776   7.0   42000.0                      0                 0\n",
       "4741   12.0  109000.0                      1                 0\n",
       "\n",
       "[270 rows x 4 columns]"
      ]
     },
     "execution_count": 481,
     "metadata": {},
     "output_type": "execute_result"
    }
   ],
   "source": [
    "x_train"
   ]
  },
  {
   "cell_type": "code",
   "execution_count": 482,
   "id": "88f66114",
   "metadata": {},
   "outputs": [],
   "source": [
    "# normalize the data\n",
    "scaler = StandardScaler()\n",
    "x_train = scaler.fit_transform(x_train)\n",
    "x_test = scaler.transform(x_test)"
   ]
  },
  {
   "cell_type": "code",
   "execution_count": 483,
   "id": "32b5b7fb",
   "metadata": {},
   "outputs": [],
   "source": [
    "model=LinearRegression()\n",
    "model.fit(x_train, y_train)\n",
    "pred = model.predict(x_test)"
   ]
  },
  {
   "cell_type": "code",
   "execution_count": 484,
   "id": "6a5c0eb3",
   "metadata": {},
   "outputs": [],
   "source": [
    "from sklearn.metrics import mean_absolute_error, mean_squared_error, r2_score"
   ]
  },
  {
   "cell_type": "code",
   "execution_count": 485,
   "id": "1b885ead",
   "metadata": {},
   "outputs": [
    {
     "name": "stdout",
     "output_type": "stream",
     "text": [
      "MAE 533770.6963542207\n",
      "MSE 389501274718.4182\n",
      "R2 -66.66223455417463\n"
     ]
    }
   ],
   "source": [
    "print('MAE', (mean_absolute_error(pred,y_test)))\n",
    "print('MSE', (mean_squared_error(pred,y_test)))\n",
    "print('R2', (metrics.r2_score(pred,y_test)))"
   ]
  },
  {
   "cell_type": "code",
   "execution_count": 555,
   "id": "5641990b",
   "metadata": {},
   "outputs": [
    {
     "data": {
      "image/png": "[encoded data removed]",
      "text/plain": [
       "<Figure size 720x360 with 1 Axes>"
      ]
     },
     "metadata": {},
     "output_type": "display_data"
    }
   ],
   "source": [
    "sns.regplot(x=pred, y=y_test)\n",
    "plt.xlabel('Predicted Price')\n",
    "plt.ylabel('Actual Price')\n",
    "plt.title('Linear Model')\n",
    "plt.show()"
   ]
  },
  {
   "cell_type": "code",
   "execution_count": 487,
   "id": "88769acb",
   "metadata": {},
   "outputs": [
    {
     "data": {
      "text/plain": [
       "-0.03506467514252276"
      ]
     },
     "execution_count": 487,
     "metadata": {},
     "output_type": "execute_result"
    }
   ],
   "source": [
    "model.score(x_test, y_test)"
   ]
  },
  {
   "cell_type": "markdown",
   "id": "ee3e7454",
   "metadata": {},
   "source": [
    "### Decision tree regressor "
   ]
  },
  {
   "cell_type": "code",
   "execution_count": 488,
   "id": "3676534e",
   "metadata": {},
   "outputs": [
    {
     "data": {
      "text/plain": [
       "DecisionTreeRegressor(random_state=0)"
      ]
     },
     "execution_count": 488,
     "metadata": {},
     "output_type": "execute_result"
    }
   ],
   "source": [
    "from sklearn.tree import DecisionTreeRegressor \n",
    "\n",
    "# create a regressor object\n",
    "regressor = DecisionTreeRegressor(random_state = 0) \n",
    "  \n",
    "# fit the regressor with X and Y data\n",
    "regressor.fit(x_train, y_train)"
   ]
  },
  {
   "cell_type": "code",
   "execution_count": 489,
   "id": "75d82034",
   "metadata": {},
   "outputs": [],
   "source": [
    "predictions = regressor.predict(x_test)"
   ]
  },
  {
   "cell_type": "code",
   "execution_count": 490,
   "id": "bb2a27a9",
   "metadata": {
    "scrolled": true
   },
   "outputs": [],
   "source": [
    "# predictions"
   ]
  },
  {
   "cell_type": "code",
   "execution_count": 491,
   "id": "83a33881",
   "metadata": {},
   "outputs": [
    {
     "data": {
      "text/plain": [
       "-0.8258408357731368"
      ]
     },
     "execution_count": 491,
     "metadata": {},
     "output_type": "execute_result"
    }
   ],
   "source": [
    "regressor.score(x_test, y_test)"
   ]
  },
  {
   "cell_type": "code",
   "execution_count": 492,
   "id": "0d155822",
   "metadata": {},
   "outputs": [
    {
     "name": "stdout",
     "output_type": "stream",
     "text": [
      "MAE 662823.2729885057\n",
      "MSE 687075262102.4913\n",
      "R2 -1.6107117692697082\n"
     ]
    }
   ],
   "source": [
    "print('MAE', (mean_absolute_error(predictions,y_test)))\n",
    "print('MSE', (mean_squared_error(predictions,y_test)))\n",
    "print('R2', (metrics.r2_score(predictions,y_test)))"
   ]
  },
  {
   "cell_type": "code",
   "execution_count": 556,
   "id": "6795d876",
   "metadata": {},
   "outputs": [
    {
     "ename": "ValueError",
     "evalue": "all the input array dimensions for the concatenation axis must match exactly, but along dimension 0, the array at index 0 has size 116 and the array at index 1 has size 3518",
     "output_type": "error",
     "traceback": [
      "\u001b[1;31m---------------------------------------------------------------------------\u001b[0m",
      "\u001b[1;31mValueError\u001b[0m                                Traceback (most recent call last)",
      "Input \u001b[1;32mIn [556]\u001b[0m, in \u001b[0;36m<cell line: 1>\u001b[1;34m()\u001b[0m\n\u001b[1;32m----> 1\u001b[0m \u001b[43msns\u001b[49m\u001b[38;5;241;43m.\u001b[39;49m\u001b[43mregplot\u001b[49m\u001b[43m(\u001b[49m\u001b[43mx\u001b[49m\u001b[38;5;241;43m=\u001b[39;49m\u001b[43mpredictions\u001b[49m\u001b[43m,\u001b[49m\u001b[43m \u001b[49m\u001b[43my\u001b[49m\u001b[38;5;241;43m=\u001b[39;49m\u001b[43my_test\u001b[49m\u001b[43m)\u001b[49m\n\u001b[0;32m      2\u001b[0m plt\u001b[38;5;241m.\u001b[39mxlabel(\u001b[38;5;124m'\u001b[39m\u001b[38;5;124mPredicted Price\u001b[39m\u001b[38;5;124m'\u001b[39m)\n\u001b[0;32m      3\u001b[0m plt\u001b[38;5;241m.\u001b[39mylabel(\u001b[38;5;124m'\u001b[39m\u001b[38;5;124mActual Price\u001b[39m\u001b[38;5;124m'\u001b[39m)\n",
      "File \u001b[1;32m~\\anaconda3\\lib\\site-packages\\seaborn\\_decorators.py:46\u001b[0m, in \u001b[0;36m_deprecate_positional_args.<locals>.inner_f\u001b[1;34m(*args, **kwargs)\u001b[0m\n\u001b[0;32m     36\u001b[0m     warnings\u001b[38;5;241m.\u001b[39mwarn(\n\u001b[0;32m     37\u001b[0m         \u001b[38;5;124m\"\u001b[39m\u001b[38;5;124mPass the following variable\u001b[39m\u001b[38;5;132;01m{}\u001b[39;00m\u001b[38;5;124m as \u001b[39m\u001b[38;5;132;01m{}\u001b[39;00m\u001b[38;5;124mkeyword arg\u001b[39m\u001b[38;5;132;01m{}\u001b[39;00m\u001b[38;5;124m: \u001b[39m\u001b[38;5;132;01m{}\u001b[39;00m\u001b[38;5;124m. \u001b[39m\u001b[38;5;124m\"\u001b[39m\n\u001b[0;32m     38\u001b[0m         \u001b[38;5;124m\"\u001b[39m\u001b[38;5;124mFrom version 0.12, the only valid positional argument \u001b[39m\u001b[38;5;124m\"\u001b[39m\n\u001b[1;32m   (...)\u001b[0m\n\u001b[0;32m     43\u001b[0m         \u001b[38;5;167;01mFutureWarning\u001b[39;00m\n\u001b[0;32m     44\u001b[0m     )\n\u001b[0;32m     45\u001b[0m kwargs\u001b[38;5;241m.\u001b[39mupdate({k: arg \u001b[38;5;28;01mfor\u001b[39;00m k, arg \u001b[38;5;129;01min\u001b[39;00m \u001b[38;5;28mzip\u001b[39m(sig\u001b[38;5;241m.\u001b[39mparameters, args)})\n\u001b[1;32m---> 46\u001b[0m \u001b[38;5;28;01mreturn\u001b[39;00m f(\u001b[38;5;241m*\u001b[39m\u001b[38;5;241m*\u001b[39mkwargs)\n",
      "File \u001b[1;32m~\\anaconda3\\lib\\site-packages\\seaborn\\regression.py:851\u001b[0m, in \u001b[0;36mregplot\u001b[1;34m(x, y, data, x_estimator, x_bins, x_ci, scatter, fit_reg, ci, n_boot, units, seed, order, logistic, lowess, robust, logx, x_partial, y_partial, truncate, dropna, x_jitter, y_jitter, label, color, marker, scatter_kws, line_kws, ax)\u001b[0m\n\u001b[0;32m    837\u001b[0m \u001b[38;5;129m@_deprecate_positional_args\u001b[39m\n\u001b[0;32m    838\u001b[0m \u001b[38;5;28;01mdef\u001b[39;00m \u001b[38;5;21mregplot\u001b[39m(\n\u001b[0;32m    839\u001b[0m     \u001b[38;5;241m*\u001b[39m,\n\u001b[1;32m   (...)\u001b[0m\n\u001b[0;32m    848\u001b[0m     scatter_kws\u001b[38;5;241m=\u001b[39m\u001b[38;5;28;01mNone\u001b[39;00m, line_kws\u001b[38;5;241m=\u001b[39m\u001b[38;5;28;01mNone\u001b[39;00m, ax\u001b[38;5;241m=\u001b[39m\u001b[38;5;28;01mNone\u001b[39;00m\n\u001b[0;32m    849\u001b[0m ):\n\u001b[1;32m--> 851\u001b[0m     plotter \u001b[38;5;241m=\u001b[39m \u001b[43m_RegressionPlotter\u001b[49m\u001b[43m(\u001b[49m\u001b[43mx\u001b[49m\u001b[43m,\u001b[49m\u001b[43m \u001b[49m\u001b[43my\u001b[49m\u001b[43m,\u001b[49m\u001b[43m \u001b[49m\u001b[43mdata\u001b[49m\u001b[43m,\u001b[49m\u001b[43m \u001b[49m\u001b[43mx_estimator\u001b[49m\u001b[43m,\u001b[49m\u001b[43m \u001b[49m\u001b[43mx_bins\u001b[49m\u001b[43m,\u001b[49m\u001b[43m \u001b[49m\u001b[43mx_ci\u001b[49m\u001b[43m,\u001b[49m\n\u001b[0;32m    852\u001b[0m \u001b[43m                                 \u001b[49m\u001b[43mscatter\u001b[49m\u001b[43m,\u001b[49m\u001b[43m \u001b[49m\u001b[43mfit_reg\u001b[49m\u001b[43m,\u001b[49m\u001b[43m \u001b[49m\u001b[43mci\u001b[49m\u001b[43m,\u001b[49m\u001b[43m \u001b[49m\u001b[43mn_boot\u001b[49m\u001b[43m,\u001b[49m\u001b[43m \u001b[49m\u001b[43munits\u001b[49m\u001b[43m,\u001b[49m\u001b[43m \u001b[49m\u001b[43mseed\u001b[49m\u001b[43m,\u001b[49m\n\u001b[0;32m    853\u001b[0m \u001b[43m                                 \u001b[49m\u001b[43morder\u001b[49m\u001b[43m,\u001b[49m\u001b[43m \u001b[49m\u001b[43mlogistic\u001b[49m\u001b[43m,\u001b[49m\u001b[43m \u001b[49m\u001b[43mlowess\u001b[49m\u001b[43m,\u001b[49m\u001b[43m \u001b[49m\u001b[43mrobust\u001b[49m\u001b[43m,\u001b[49m\u001b[43m \u001b[49m\u001b[43mlogx\u001b[49m\u001b[43m,\u001b[49m\n\u001b[0;32m    854\u001b[0m \u001b[43m                                 \u001b[49m\u001b[43mx_partial\u001b[49m\u001b[43m,\u001b[49m\u001b[43m \u001b[49m\u001b[43my_partial\u001b[49m\u001b[43m,\u001b[49m\u001b[43m \u001b[49m\u001b[43mtruncate\u001b[49m\u001b[43m,\u001b[49m\u001b[43m \u001b[49m\u001b[43mdropna\u001b[49m\u001b[43m,\u001b[49m\n\u001b[0;32m    855\u001b[0m \u001b[43m                                 \u001b[49m\u001b[43mx_jitter\u001b[49m\u001b[43m,\u001b[49m\u001b[43m \u001b[49m\u001b[43my_jitter\u001b[49m\u001b[43m,\u001b[49m\u001b[43m \u001b[49m\u001b[43mcolor\u001b[49m\u001b[43m,\u001b[49m\u001b[43m \u001b[49m\u001b[43mlabel\u001b[49m\u001b[43m)\u001b[49m\n\u001b[0;32m    857\u001b[0m     \u001b[38;5;28;01mif\u001b[39;00m ax \u001b[38;5;129;01mis\u001b[39;00m \u001b[38;5;28;01mNone\u001b[39;00m:\n\u001b[0;32m    858\u001b[0m         ax \u001b[38;5;241m=\u001b[39m plt\u001b[38;5;241m.\u001b[39mgca()\n",
      "File \u001b[1;32m~\\anaconda3\\lib\\site-packages\\seaborn\\regression.py:114\u001b[0m, in \u001b[0;36m_RegressionPlotter.__init__\u001b[1;34m(self, x, y, data, x_estimator, x_bins, x_ci, scatter, fit_reg, ci, n_boot, units, seed, order, logistic, lowess, robust, logx, x_partial, y_partial, truncate, dropna, x_jitter, y_jitter, color, label)\u001b[0m\n\u001b[0;32m    112\u001b[0m \u001b[38;5;66;03m# Drop null observations\u001b[39;00m\n\u001b[0;32m    113\u001b[0m \u001b[38;5;28;01mif\u001b[39;00m dropna:\n\u001b[1;32m--> 114\u001b[0m     \u001b[38;5;28;43mself\u001b[39;49m\u001b[38;5;241;43m.\u001b[39;49m\u001b[43mdropna\u001b[49m\u001b[43m(\u001b[49m\u001b[38;5;124;43m\"\u001b[39;49m\u001b[38;5;124;43mx\u001b[39;49m\u001b[38;5;124;43m\"\u001b[39;49m\u001b[43m,\u001b[49m\u001b[43m \u001b[49m\u001b[38;5;124;43m\"\u001b[39;49m\u001b[38;5;124;43my\u001b[39;49m\u001b[38;5;124;43m\"\u001b[39;49m\u001b[43m,\u001b[49m\u001b[43m \u001b[49m\u001b[38;5;124;43m\"\u001b[39;49m\u001b[38;5;124;43munits\u001b[39;49m\u001b[38;5;124;43m\"\u001b[39;49m\u001b[43m,\u001b[49m\u001b[43m \u001b[49m\u001b[38;5;124;43m\"\u001b[39;49m\u001b[38;5;124;43mx_partial\u001b[39;49m\u001b[38;5;124;43m\"\u001b[39;49m\u001b[43m,\u001b[49m\u001b[43m \u001b[49m\u001b[38;5;124;43m\"\u001b[39;49m\u001b[38;5;124;43my_partial\u001b[39;49m\u001b[38;5;124;43m\"\u001b[39;49m\u001b[43m)\u001b[49m\n\u001b[0;32m    116\u001b[0m \u001b[38;5;66;03m# Regress nuisance variables out of the data\u001b[39;00m\n\u001b[0;32m    117\u001b[0m \u001b[38;5;28;01mif\u001b[39;00m \u001b[38;5;28mself\u001b[39m\u001b[38;5;241m.\u001b[39mx_partial \u001b[38;5;129;01mis\u001b[39;00m \u001b[38;5;129;01mnot\u001b[39;00m \u001b[38;5;28;01mNone\u001b[39;00m:\n",
      "File \u001b[1;32m~\\anaconda3\\lib\\site-packages\\seaborn\\regression.py:62\u001b[0m, in \u001b[0;36m_LinearPlotter.dropna\u001b[1;34m(self, *vars)\u001b[0m\n\u001b[0;32m     60\u001b[0m vals \u001b[38;5;241m=\u001b[39m [\u001b[38;5;28mgetattr\u001b[39m(\u001b[38;5;28mself\u001b[39m, var) \u001b[38;5;28;01mfor\u001b[39;00m var \u001b[38;5;129;01min\u001b[39;00m \u001b[38;5;28mvars\u001b[39m]\n\u001b[0;32m     61\u001b[0m vals \u001b[38;5;241m=\u001b[39m [v \u001b[38;5;28;01mfor\u001b[39;00m v \u001b[38;5;129;01min\u001b[39;00m vals \u001b[38;5;28;01mif\u001b[39;00m v \u001b[38;5;129;01mis\u001b[39;00m \u001b[38;5;129;01mnot\u001b[39;00m \u001b[38;5;28;01mNone\u001b[39;00m]\n\u001b[1;32m---> 62\u001b[0m not_na \u001b[38;5;241m=\u001b[39m np\u001b[38;5;241m.\u001b[39mall(\u001b[43mnp\u001b[49m\u001b[38;5;241;43m.\u001b[39;49m\u001b[43mcolumn_stack\u001b[49m\u001b[43m(\u001b[49m\u001b[43m[\u001b[49m\u001b[43mpd\u001b[49m\u001b[38;5;241;43m.\u001b[39;49m\u001b[43mnotnull\u001b[49m\u001b[43m(\u001b[49m\u001b[43mv\u001b[49m\u001b[43m)\u001b[49m\u001b[43m \u001b[49m\u001b[38;5;28;43;01mfor\u001b[39;49;00m\u001b[43m \u001b[49m\u001b[43mv\u001b[49m\u001b[43m \u001b[49m\u001b[38;5;129;43;01min\u001b[39;49;00m\u001b[43m \u001b[49m\u001b[43mvals\u001b[49m\u001b[43m]\u001b[49m\u001b[43m)\u001b[49m, axis\u001b[38;5;241m=\u001b[39m\u001b[38;5;241m1\u001b[39m)\n\u001b[0;32m     63\u001b[0m \u001b[38;5;28;01mfor\u001b[39;00m var \u001b[38;5;129;01min\u001b[39;00m \u001b[38;5;28mvars\u001b[39m:\n\u001b[0;32m     64\u001b[0m     val \u001b[38;5;241m=\u001b[39m \u001b[38;5;28mgetattr\u001b[39m(\u001b[38;5;28mself\u001b[39m, var)\n",
      "File \u001b[1;32m<__array_function__ internals>:5\u001b[0m, in \u001b[0;36mcolumn_stack\u001b[1;34m(*args, **kwargs)\u001b[0m\n",
      "File \u001b[1;32m~\\anaconda3\\lib\\site-packages\\numpy\\lib\\shape_base.py:656\u001b[0m, in \u001b[0;36mcolumn_stack\u001b[1;34m(tup)\u001b[0m\n\u001b[0;32m    654\u001b[0m         arr \u001b[38;5;241m=\u001b[39m array(arr, copy\u001b[38;5;241m=\u001b[39m\u001b[38;5;28;01mFalse\u001b[39;00m, subok\u001b[38;5;241m=\u001b[39m\u001b[38;5;28;01mTrue\u001b[39;00m, ndmin\u001b[38;5;241m=\u001b[39m\u001b[38;5;241m2\u001b[39m)\u001b[38;5;241m.\u001b[39mT\n\u001b[0;32m    655\u001b[0m     arrays\u001b[38;5;241m.\u001b[39mappend(arr)\n\u001b[1;32m--> 656\u001b[0m \u001b[38;5;28;01mreturn\u001b[39;00m \u001b[43m_nx\u001b[49m\u001b[38;5;241;43m.\u001b[39;49m\u001b[43mconcatenate\u001b[49m\u001b[43m(\u001b[49m\u001b[43marrays\u001b[49m\u001b[43m,\u001b[49m\u001b[43m \u001b[49m\u001b[38;5;241;43m1\u001b[39;49m\u001b[43m)\u001b[49m\n",
      "File \u001b[1;32m<__array_function__ internals>:5\u001b[0m, in \u001b[0;36mconcatenate\u001b[1;34m(*args, **kwargs)\u001b[0m\n",
      "\u001b[1;31mValueError\u001b[0m: all the input array dimensions for the concatenation axis must match exactly, but along dimension 0, the array at index 0 has size 116 and the array at index 1 has size 3518"
     ]
    }
   ],
   "source": [
    "sns.regplot(x=predictions, y=y_test)\n",
    "plt.xlabel('Predicted Price')\n",
    "plt.ylabel('Actual Price')\n",
    "plt.title('Decision Tree regressor')\n",
    "plt.show()"
   ]
  },
  {
   "cell_type": "markdown",
   "id": "9abe936e",
   "metadata": {},
   "source": [
    "### Random forest regressor"
   ]
  },
  {
   "cell_type": "code",
   "execution_count": 582,
   "id": "a5f98a88",
   "metadata": {},
   "outputs": [
    {
     "data": {
      "text/plain": [
       "RandomForestRegressor(random_state=0)"
      ]
     },
     "execution_count": 582,
     "metadata": {},
     "output_type": "execute_result"
    }
   ],
   "source": [
    "# import the regressor\n",
    "from sklearn.ensemble import RandomForestRegressor\n",
    "  \n",
    " # create regressor object\n",
    "r_regressor = RandomForestRegressor(n_estimators = 100, random_state = 0)\n",
    "  \n",
    "# fit the regressor with x and y data\n",
    "r_regressor.fit(x_train, y_train) "
   ]
  },
  {
   "cell_type": "code",
   "execution_count": 583,
   "id": "4c974955",
   "metadata": {},
   "outputs": [],
   "source": [
    "r_predictions = r_regressor.predict(x_test)"
   ]
  },
  {
   "cell_type": "code",
   "execution_count": 584,
   "id": "9734e1f2",
   "metadata": {},
   "outputs": [
    {
     "data": {
      "text/plain": [
       "-0.3042356439709999"
      ]
     },
     "execution_count": 584,
     "metadata": {},
     "output_type": "execute_result"
    }
   ],
   "source": [
    "r_regressor.score(x_test, y_test)"
   ]
  },
  {
   "cell_type": "code",
   "execution_count": 580,
   "id": "2a94cb25",
   "metadata": {},
   "outputs": [
    {
     "name": "stdout",
     "output_type": "stream",
     "text": [
      "MAE 1000733.1960284638\n",
      "MSE 1738410630974.9487\n",
      "R2 -3.649599356245118\n"
     ]
    }
   ],
   "source": [
    "print('MAE', (mean_absolute_error(r_predictions,y_test)))\n",
    "print('MSE', (mean_squared_error(r_predictions,y_test)))\n",
    "print('R2', (metrics.r2_score(r_predictions,y_test)))"
   ]
  },
  {
   "cell_type": "code",
   "execution_count": 497,
   "id": "b695f3ea",
   "metadata": {},
   "outputs": [
    {
     "data": {
      "image/png": "[encoded data removed]",
      "text/plain": [
       "<Figure size 432x288 with 1 Axes>"
      ]
     },
     "metadata": {
      "needs_background": "light"
     },
     "output_type": "display_data"
    }
   ],
   "source": [
    "sns.regplot(x=r_predictions, y=y_test)\n",
    "plt.xlabel('Predicted Price')\n",
    "plt.ylabel('Actual Price')\n",
    "plt.title('Random Forest regressor')\n",
    "plt.show()"
   ]
  },
  {
   "cell_type": "markdown",
   "id": "c1d4da81",
   "metadata": {},
   "source": [
    "## Predict car prices with linear regression"
   ]
  },
  {
   "cell_type": "code",
   "execution_count": null,
   "id": "2b998f45",
   "metadata": {},
   "outputs": [],
   "source": []
  },
  {
   "cell_type": "code",
   "execution_count": 498,
   "id": "5af7fa9c",
   "metadata": {},
   "outputs": [],
   "source": [
    "import matplotlib.pyplot as plt\n",
    "%matplotlib inline\n",
    "import seaborn as sns\n",
    "from sklearn.model_selection import train_test_split\n",
    "from sklearn.preprocessing import StandardScaler\n",
    "from sklearn.linear_model import LinearRegression\n",
    "from sklearn import metrics"
   ]
  },
  {
   "cell_type": "code",
   "execution_count": 499,
   "id": "e452353a",
   "metadata": {},
   "outputs": [],
   "source": [
    "# df.corr()"
   ]
  },
  {
   "cell_type": "code",
   "execution_count": 526,
   "id": "98ec9f1e",
   "metadata": {},
   "outputs": [
    {
     "data": {
      "text/html": [
       "<div>\n",
       "<style scoped>\n",
       "    .dataframe tbody tr th:only-of-type {\n",
       "        vertical-align: middle;\n",
       "    }\n",
       "\n",
       "    .dataframe tbody tr th {\n",
       "        vertical-align: top;\n",
       "    }\n",
       "\n",
       "    .dataframe thead th {\n",
       "        text-align: right;\n",
       "    }\n",
       "</style>\n",
       "<table border=\"1\" class=\"dataframe\">\n",
       "  <thead>\n",
       "    <tr style=\"text-align: right;\">\n",
       "      <th></th>\n",
       "      <th>Condition</th>\n",
       "      <th>Make</th>\n",
       "      <th>Age</th>\n",
       "      <th>Model</th>\n",
       "      <th>Transmission</th>\n",
       "      <th>Mileage</th>\n",
       "      <th>selling_price</th>\n",
       "    </tr>\n",
       "  </thead>\n",
       "  <tbody>\n",
       "    <tr>\n",
       "      <th>0</th>\n",
       "      <td>Kenyan Used</td>\n",
       "      <td>Toyota</td>\n",
       "      <td>10.0</td>\n",
       "      <td>Crown</td>\n",
       "      <td>Automatic</td>\n",
       "      <td>NaN</td>\n",
       "      <td>1270000.0</td>\n",
       "    </tr>\n",
       "    <tr>\n",
       "      <th>1</th>\n",
       "      <td>Foreign Used</td>\n",
       "      <td>Mazda</td>\n",
       "      <td>6.0</td>\n",
       "      <td>CX-5</td>\n",
       "      <td>Automatic</td>\n",
       "      <td>74000.0</td>\n",
       "      <td>2750000.0</td>\n",
       "    </tr>\n",
       "    <tr>\n",
       "      <th>2</th>\n",
       "      <td>Foreign Used</td>\n",
       "      <td>Mazda</td>\n",
       "      <td>7.0</td>\n",
       "      <td>Demio</td>\n",
       "      <td>Automatic</td>\n",
       "      <td>117000.0</td>\n",
       "      <td>1090000.0</td>\n",
       "    </tr>\n",
       "    <tr>\n",
       "      <th>3</th>\n",
       "      <td>Kenyan Used</td>\n",
       "      <td>Mazda</td>\n",
       "      <td>9.0</td>\n",
       "      <td>CX-5</td>\n",
       "      <td>AMT</td>\n",
       "      <td>92929.0</td>\n",
       "      <td>1720000.0</td>\n",
       "    </tr>\n",
       "    <tr>\n",
       "      <th>4</th>\n",
       "      <td>Foreign Used</td>\n",
       "      <td>Peugeot</td>\n",
       "      <td>8.0</td>\n",
       "      <td>508</td>\n",
       "      <td>Automatic</td>\n",
       "      <td>91000.0</td>\n",
       "      <td>1999000.0</td>\n",
       "    </tr>\n",
       "    <tr>\n",
       "      <th>...</th>\n",
       "      <td>...</td>\n",
       "      <td>...</td>\n",
       "      <td>...</td>\n",
       "      <td>...</td>\n",
       "      <td>...</td>\n",
       "      <td>...</td>\n",
       "      <td>...</td>\n",
       "    </tr>\n",
       "    <tr>\n",
       "      <th>17793</th>\n",
       "      <td>NaN</td>\n",
       "      <td>NaN</td>\n",
       "      <td>NaN</td>\n",
       "      <td>NaN</td>\n",
       "      <td>NaN</td>\n",
       "      <td>NaN</td>\n",
       "      <td>4400000.0</td>\n",
       "    </tr>\n",
       "    <tr>\n",
       "      <th>17794</th>\n",
       "      <td>NaN</td>\n",
       "      <td>NaN</td>\n",
       "      <td>NaN</td>\n",
       "      <td>NaN</td>\n",
       "      <td>NaN</td>\n",
       "      <td>NaN</td>\n",
       "      <td>1700000.0</td>\n",
       "    </tr>\n",
       "    <tr>\n",
       "      <th>17795</th>\n",
       "      <td>NaN</td>\n",
       "      <td>NaN</td>\n",
       "      <td>NaN</td>\n",
       "      <td>NaN</td>\n",
       "      <td>NaN</td>\n",
       "      <td>NaN</td>\n",
       "      <td>2200000.0</td>\n",
       "    </tr>\n",
       "    <tr>\n",
       "      <th>17796</th>\n",
       "      <td>NaN</td>\n",
       "      <td>NaN</td>\n",
       "      <td>NaN</td>\n",
       "      <td>NaN</td>\n",
       "      <td>NaN</td>\n",
       "      <td>NaN</td>\n",
       "      <td>1850000.0</td>\n",
       "    </tr>\n",
       "    <tr>\n",
       "      <th>17797</th>\n",
       "      <td>NaN</td>\n",
       "      <td>NaN</td>\n",
       "      <td>NaN</td>\n",
       "      <td>NaN</td>\n",
       "      <td>NaN</td>\n",
       "      <td>NaN</td>\n",
       "      <td>6000000.0</td>\n",
       "    </tr>\n",
       "  </tbody>\n",
       "</table>\n",
       "<p>17798 rows × 7 columns</p>\n",
       "</div>"
      ],
      "text/plain": [
       "          Condition     Make   Age  Model Transmission   Mileage  \\\n",
       "0       Kenyan Used   Toyota  10.0  Crown    Automatic       NaN   \n",
       "1      Foreign Used    Mazda   6.0   CX-5    Automatic   74000.0   \n",
       "2      Foreign Used    Mazda   7.0  Demio    Automatic  117000.0   \n",
       "3       Kenyan Used    Mazda   9.0   CX-5          AMT   92929.0   \n",
       "4      Foreign Used  Peugeot   8.0    508    Automatic   91000.0   \n",
       "...             ...      ...   ...    ...          ...       ...   \n",
       "17793           NaN      NaN   NaN    NaN          NaN       NaN   \n",
       "17794           NaN      NaN   NaN    NaN          NaN       NaN   \n",
       "17795           NaN      NaN   NaN    NaN          NaN       NaN   \n",
       "17796           NaN      NaN   NaN    NaN          NaN       NaN   \n",
       "17797           NaN      NaN   NaN    NaN          NaN       NaN   \n",
       "\n",
       "       selling_price  \n",
       "0          1270000.0  \n",
       "1          2750000.0  \n",
       "2          1090000.0  \n",
       "3          1720000.0  \n",
       "4          1999000.0  \n",
       "...              ...  \n",
       "17793      4400000.0  \n",
       "17794      1700000.0  \n",
       "17795      2200000.0  \n",
       "17796      1850000.0  \n",
       "17797      6000000.0  \n",
       "\n",
       "[17798 rows x 7 columns]"
      ]
     },
     "execution_count": 526,
     "metadata": {},
     "output_type": "execute_result"
    }
   ],
   "source": [
    "df.columns\n",
    "df2 = df[cols1]\n",
    "df2"
   ]
  },
  {
   "cell_type": "code",
   "execution_count": 527,
   "id": "2ca6792e",
   "metadata": {},
   "outputs": [],
   "source": [
    "df2 =df2.dropna()"
   ]
  },
  {
   "cell_type": "code",
   "execution_count": 528,
   "id": "8d114552",
   "metadata": {},
   "outputs": [],
   "source": [
    "q = df2['selling_price'].quantile(.95)\n",
    "filt2 = df2['selling_price'] <q\n",
    "df2 = df2.loc[filt2]"
   ]
  },
  {
   "cell_type": "code",
   "execution_count": 529,
   "id": "5d63b8fe",
   "metadata": {},
   "outputs": [
    {
     "data": {
      "text/plain": [
       "Index(['Condition', 'Make', 'Age', 'Model', 'Transmission', 'Mileage',\n",
       "       'selling_price'],\n",
       "      dtype='object')"
      ]
     },
     "execution_count": 529,
     "metadata": {},
     "output_type": "execute_result"
    }
   ],
   "source": [
    "df2.columns"
   ]
  },
  {
   "cell_type": "code",
   "execution_count": 533,
   "id": "541b537d",
   "metadata": {},
   "outputs": [],
   "source": [
    "# df2 = df2.drop(['min_est', 'max_est'], axis = 1)"
   ]
  },
  {
   "cell_type": "code",
   "execution_count": 535,
   "id": "2e806c77",
   "metadata": {},
   "outputs": [],
   "source": [
    "# one hot encoding\n",
    "# df2 = pd.get_dummies(df2, columns=['Condition', 'Make','Model','Transmission'], drop_first=True)"
   ]
  },
  {
   "cell_type": "code",
   "execution_count": 536,
   "id": "501253b7",
   "metadata": {},
   "outputs": [
    {
     "data": {
      "text/plain": [
       "Index(['Age', 'Mileage', 'selling_price', 'Condition_Foreign Used',\n",
       "       'Condition_Kenyan Used', 'Make_BMW', 'Make_Bentley', 'Make_Cadillac',\n",
       "       'Make_Chevrolet', 'Make_Chrysler',\n",
       "       ...\n",
       "       'Model_X6', 'Model_XC60', 'Model_XF', 'Model_XV', 'Model_Xenon',\n",
       "       'Model_bB', 'Model_iQ', 'Transmission_Automatic', 'Transmission_CVT',\n",
       "       'Transmission_Manual'],\n",
       "      dtype='object', length=371)"
      ]
     },
     "execution_count": 536,
     "metadata": {},
     "output_type": "execute_result"
    }
   ],
   "source": [
    "df2.columns"
   ]
  },
  {
   "cell_type": "code",
   "execution_count": 506,
   "id": "f212ee7a",
   "metadata": {},
   "outputs": [],
   "source": [
    "# Check the correlation\n",
    "# plt.figure(figsize=(10,7))\n",
    "# sns.heatmap(df.corr(), annot=True)\n",
    "# plt.title('Correlation between variables')\n",
    "# plt.show()"
   ]
  },
  {
   "cell_type": "code",
   "execution_count": 537,
   "id": "aec3d309",
   "metadata": {},
   "outputs": [],
   "source": [
    "x= df2.drop('selling_price', axis=1)\n",
    "y= df2['selling_price']"
   ]
  },
  {
   "cell_type": "code",
   "execution_count": 538,
   "id": "1a3b14fc",
   "metadata": {},
   "outputs": [
    {
     "data": {
      "text/plain": [
       "6100000.0"
      ]
     },
     "execution_count": 538,
     "metadata": {},
     "output_type": "execute_result"
    }
   ],
   "source": [
    "df2.selling_price.max()"
   ]
  },
  {
   "cell_type": "code",
   "execution_count": 539,
   "id": "34e0c3b3",
   "metadata": {},
   "outputs": [
    {
     "name": "stdout",
     "output_type": "stream",
     "text": [
      "(11726, 370) (11726,)\n"
     ]
    }
   ],
   "source": [
    "print(x.shape, y.shape)"
   ]
  },
  {
   "cell_type": "code",
   "execution_count": 540,
   "id": "25bd21a5",
   "metadata": {},
   "outputs": [],
   "source": [
    "# Separate the training and the test data\n",
    "x_train, x_test, y_train, y_test = train_test_split(x, y, test_size=0.3, random_state=42)"
   ]
  },
  {
   "cell_type": "code",
   "execution_count": 541,
   "id": "2f9e0127",
   "metadata": {},
   "outputs": [
    {
     "name": "stdout",
     "output_type": "stream",
     "text": [
      "(8208, 370) (3518, 370)\n"
     ]
    }
   ],
   "source": [
    "print(x_train.shape, x_test.shape)"
   ]
  },
  {
   "cell_type": "code",
   "execution_count": 542,
   "id": "889ec5f2",
   "metadata": {},
   "outputs": [],
   "source": [
    "#normalize the data\n",
    "scaler = StandardScaler()\n",
    "x_train = scaler.fit_transform(x_train)\n",
    "x_test = scaler.transform(x_test)"
   ]
  },
  {
   "cell_type": "code",
   "execution_count": 543,
   "id": "fa9ecb30",
   "metadata": {},
   "outputs": [],
   "source": [
    "model=LinearRegression()\n",
    "model.fit(x_train, y_train)\n",
    "pred = model.predict(x_test)"
   ]
  },
  {
   "cell_type": "code",
   "execution_count": 544,
   "id": "a9e032bd",
   "metadata": {},
   "outputs": [],
   "source": [
    "# model.fit(x_train, y_train)"
   ]
  },
  {
   "cell_type": "code",
   "execution_count": 545,
   "id": "49b54c61",
   "metadata": {},
   "outputs": [],
   "source": [
    "# pred = model.predict(x_test)"
   ]
  },
  {
   "cell_type": "code",
   "execution_count": 546,
   "id": "88144828",
   "metadata": {},
   "outputs": [],
   "source": [
    "from sklearn.metrics import mean_absolute_error, mean_squared_error, r2_score"
   ]
  },
  {
   "cell_type": "code",
   "execution_count": 547,
   "id": "87bdbf5b",
   "metadata": {},
   "outputs": [
    {
     "name": "stdout",
     "output_type": "stream",
     "text": [
      "MAE 7.068626258296326e+17\n",
      "MSE 2.245133524624347e+38\n",
      "R2 -0.0016959568630137145\n"
     ]
    }
   ],
   "source": [
    "print('MAE', (mean_absolute_error(pred,y_test)))\n",
    "print('MSE', (mean_squared_error(pred,y_test)))\n",
    "print('R2', (metrics.r2_score(pred,y_test)))"
   ]
  },
  {
   "cell_type": "code",
   "execution_count": 548,
   "id": "ca1b50f1",
   "metadata": {},
   "outputs": [
    {
     "data": {
      "image/png": "[encoded data removed]",
      "text/plain": [
       "<Figure size 432x288 with 1 Axes>"
      ]
     },
     "metadata": {
      "needs_background": "light"
     },
     "output_type": "display_data"
    }
   ],
   "source": [
    "sns.regplot(x=pred, y=y_test)\n",
    "plt.xlabel('Predicted Price')\n",
    "plt.ylabel('Actual Price')\n",
    "plt.title('Linear Model')\n",
    "plt.show()"
   ]
  },
  {
   "cell_type": "code",
   "execution_count": 549,
   "id": "2bb0d238",
   "metadata": {},
   "outputs": [
    {
     "data": {
      "text/plain": [
       "-1.6844024743723e+26"
      ]
     },
     "execution_count": 549,
     "metadata": {},
     "output_type": "execute_result"
    }
   ],
   "source": [
    "model.score(x_test, y_test)"
   ]
  },
  {
   "cell_type": "markdown",
   "id": "0f2ebadf",
   "metadata": {},
   "source": [
    "### Random forest regressor"
   ]
  },
  {
   "cell_type": "code",
   "execution_count": 585,
   "id": "4a1396e2",
   "metadata": {},
   "outputs": [
    {
     "data": {
      "text/plain": [
       "RandomForestRegressor(random_state=0)"
      ]
     },
     "execution_count": 585,
     "metadata": {},
     "output_type": "execute_result"
    }
   ],
   "source": [
    "from sklearn.ensemble import RandomForestRegressor\n",
    "  \n",
    " # create regressor object\n",
    "r_regressor = RandomForestRegressor(n_estimators = 100, random_state = 0)\n",
    "  \n",
    "# fit the regressor with x and y data\n",
    "r_regressor.fit(x_train, y_train)"
   ]
  },
  {
   "cell_type": "code",
   "execution_count": 586,
   "id": "082c57fa",
   "metadata": {},
   "outputs": [
    {
     "data": {
      "text/plain": [
       "-0.3042356439709999"
      ]
     },
     "execution_count": 586,
     "metadata": {},
     "output_type": "execute_result"
    }
   ],
   "source": [
    "r_regressor.score(x_test, y_test)"
   ]
  },
  {
   "cell_type": "code",
   "execution_count": 587,
   "id": "d7a58ff1",
   "metadata": {},
   "outputs": [],
   "source": [
    "r_predictions = r_regressor.predict(x_test)"
   ]
  },
  {
   "cell_type": "code",
   "execution_count": 552,
   "id": "ce2e6f83",
   "metadata": {},
   "outputs": [
    {
     "name": "stdout",
     "output_type": "stream",
     "text": [
      "MAE 1000733.1960284638\n",
      "MSE 1738410630974.9487\n",
      "R2 -3.649599356245118\n"
     ]
    }
   ],
   "source": [
    "print('MAE', (mean_absolute_error(r_predictions,y_test)))\n",
    "print('MSE', (mean_squared_error(r_predictions,y_test)))\n",
    "print('R2', (metrics.r2_score(r_predictions,y_test)))"
   ]
  },
  {
   "cell_type": "code",
   "execution_count": 553,
   "id": "cf1d2f80",
   "metadata": {},
   "outputs": [
    {
     "data": {
      "image/png": "[encoded data removed]",
      "text/plain": [
       "<Figure size 432x288 with 1 Axes>"
      ]
     },
     "metadata": {
      "needs_background": "light"
     },
     "output_type": "display_data"
    }
   ],
   "source": [
    "sns.regplot(x=r_predictions, y=y_test)\n",
    "plt.xlabel('Predicted Price')\n",
    "plt.ylabel('Actual Price')\n",
    "plt.title('Linear Model')\n",
    "plt.show()"
   ]
  },
  {
   "cell_type": "code",
   "execution_count": null,
   "id": "aec7dd23",
   "metadata": {},
   "outputs": [],
   "source": []
  },
  {
   "cell_type": "code",
   "execution_count": null,
   "id": "f7847128",
   "metadata": {},
   "outputs": [],
   "source": []
  }
 ],
 "metadata": {
  "kernelspec": {
   "display_name": "Python 3 (ipykernel)",
   "language": "python",
   "name": "python3"
  },
  "language_info": {
   "codemirror_mode": {
    "name": "ipython",
    "version": 3
   },
   "file_extension": ".py",
   "mimetype": "text/x-python",
   "name": "python",
   "nbconvert_exporter": "python",
   "pygments_lexer": "ipython3",
   "version": "3.9.12"
  }
 },
 "nbformat": 4,
 "nbformat_minor": 5
}
