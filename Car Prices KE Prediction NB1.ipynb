{
 "cells": [
  {
   "cell_type": "markdown",
   "id": "76422bad",
   "metadata": {},
   "source": [
    "# Predicting car prices in Kenya with data collected from Jiji.co.ke"
   ]
  },
  {
   "cell_type": "code",
   "execution_count": 1,
   "id": "2aa32b8a",
   "metadata": {},
   "outputs": [],
   "source": [
    "import pandas as pd\n",
    "import numpy as np\n",
    "from matplotlib import pyplot as plt\n",
    "%matplotlib inline\n",
    "import matplotlib \n",
    "matplotlib.rcParams[\"figure.figsize\"] = (20,10)"
   ]
  },
  {
   "cell_type": "code",
   "execution_count": 2,
   "id": "fd5eff4d",
   "metadata": {},
   "outputs": [
    {
     "name": "stderr",
     "output_type": "stream",
     "text": [
      "C:\\Users\\Brian\\AppData\\Local\\Temp\\ipykernel_11236\\3609153498.py:1: DtypeWarning: Columns (9) have mixed types. Specify dtype option on import or set low_memory=False.\n",
      "  df1= pd.read_csv('general_car_data.csv')\n"
     ]
    },
    {
     "data": {
      "text/html": [
       "<div>\n",
       "<style scoped>\n",
       "    .dataframe tbody tr th:only-of-type {\n",
       "        vertical-align: middle;\n",
       "    }\n",
       "\n",
       "    .dataframe tbody tr th {\n",
       "        vertical-align: top;\n",
       "    }\n",
       "\n",
       "    .dataframe thead th {\n",
       "        text-align: right;\n",
       "    }\n",
       "</style>\n",
       "<table border=\"1\" class=\"dataframe\">\n",
       "  <thead>\n",
       "    <tr style=\"text-align: right;\">\n",
       "      <th></th>\n",
       "      <th>Unnamed: 0</th>\n",
       "      <th>Condition</th>\n",
       "      <th>Make</th>\n",
       "      <th>Body</th>\n",
       "      <th>Fuel</th>\n",
       "      <th>Second Condition</th>\n",
       "      <th>Registered Car</th>\n",
       "      <th>Model</th>\n",
       "      <th>Exchange Possible</th>\n",
       "      <th>Seats</th>\n",
       "      <th>...</th>\n",
       "      <th>region_name</th>\n",
       "      <th>count_images</th>\n",
       "      <th>count_views</th>\n",
       "      <th>id_y</th>\n",
       "      <th>description</th>\n",
       "      <th>boost</th>\n",
       "      <th>min_est</th>\n",
       "      <th>max_est</th>\n",
       "      <th>paid_infor</th>\n",
       "      <th>avg_est</th>\n",
       "    </tr>\n",
       "  </thead>\n",
       "  <tbody>\n",
       "    <tr>\n",
       "      <th>0</th>\n",
       "      <td>0</td>\n",
       "      <td>Kenyan Used</td>\n",
       "      <td>Toyota</td>\n",
       "      <td>NaN</td>\n",
       "      <td>NaN</td>\n",
       "      <td>['Original parts', 'Unpainted', 'No faults']</td>\n",
       "      <td>Yes</td>\n",
       "      <td>Crown</td>\n",
       "      <td>['No']</td>\n",
       "      <td>NaN</td>\n",
       "      <td>...</td>\n",
       "      <td>Kilimani</td>\n",
       "      <td>5.0</td>\n",
       "      <td>125.0</td>\n",
       "      <td>10593924.0</td>\n",
       "      <td>Alloy wheels Fog lights Steering controls beig...</td>\n",
       "      <td>40X Diamond</td>\n",
       "      <td>1400000.0</td>\n",
       "      <td>1450000.0</td>\n",
       "      <td>Sponsored</td>\n",
       "      <td>1425000.0</td>\n",
       "    </tr>\n",
       "    <tr>\n",
       "      <th>1</th>\n",
       "      <td>1</td>\n",
       "      <td>Foreign Used</td>\n",
       "      <td>Mazda</td>\n",
       "      <td>NaN</td>\n",
       "      <td>NaN</td>\n",
       "      <td>['No faults']</td>\n",
       "      <td>NaN</td>\n",
       "      <td>CX-5</td>\n",
       "      <td>NaN</td>\n",
       "      <td>NaN</td>\n",
       "      <td>...</td>\n",
       "      <td>Kilimani</td>\n",
       "      <td>8.0</td>\n",
       "      <td>36.0</td>\n",
       "      <td>10717151.0</td>\n",
       "      <td>Mazda CX-5, petrol, 2016, 2000cc, white in col...</td>\n",
       "      <td>VIP TOP+</td>\n",
       "      <td>2500000.0</td>\n",
       "      <td>2650000.0</td>\n",
       "      <td>Sponsored</td>\n",
       "      <td>2575000.0</td>\n",
       "    </tr>\n",
       "    <tr>\n",
       "      <th>2</th>\n",
       "      <td>2</td>\n",
       "      <td>Foreign Used</td>\n",
       "      <td>Mazda</td>\n",
       "      <td>NaN</td>\n",
       "      <td>NaN</td>\n",
       "      <td>['No faults']</td>\n",
       "      <td>Yes</td>\n",
       "      <td>Demio</td>\n",
       "      <td>NaN</td>\n",
       "      <td>NaN</td>\n",
       "      <td>...</td>\n",
       "      <td>Ridgeways</td>\n",
       "      <td>6.0</td>\n",
       "      <td>314.0</td>\n",
       "      <td>10417467.0</td>\n",
       "      <td>2015 Mazda demio diesel,alloy rims, steering c...</td>\n",
       "      <td>VIP TOP+</td>\n",
       "      <td>1080000.0</td>\n",
       "      <td>1100000.0</td>\n",
       "      <td>Sponsored</td>\n",
       "      <td>1090000.0</td>\n",
       "    </tr>\n",
       "    <tr>\n",
       "      <th>3</th>\n",
       "      <td>3</td>\n",
       "      <td>Kenyan Used</td>\n",
       "      <td>Mazda</td>\n",
       "      <td>NaN</td>\n",
       "      <td>NaN</td>\n",
       "      <td>['No faults', 'Original parts']</td>\n",
       "      <td>Yes</td>\n",
       "      <td>CX-5</td>\n",
       "      <td>NaN</td>\n",
       "      <td>NaN</td>\n",
       "      <td>...</td>\n",
       "      <td>Langata</td>\n",
       "      <td>9.0</td>\n",
       "      <td>87.0</td>\n",
       "      <td>10754171.0</td>\n",
       "      <td>2200cc Diesel,\\nSkyactive,\\ncruise control,\\nI...</td>\n",
       "      <td>VIP TOP+</td>\n",
       "      <td>NaN</td>\n",
       "      <td>NaN</td>\n",
       "      <td>Sponsored</td>\n",
       "      <td>NaN</td>\n",
       "    </tr>\n",
       "    <tr>\n",
       "      <th>4</th>\n",
       "      <td>4</td>\n",
       "      <td>Foreign Used</td>\n",
       "      <td>Peugeot</td>\n",
       "      <td>NaN</td>\n",
       "      <td>NaN</td>\n",
       "      <td>['No faults']</td>\n",
       "      <td>No</td>\n",
       "      <td>508</td>\n",
       "      <td>['Yes']</td>\n",
       "      <td>NaN</td>\n",
       "      <td>...</td>\n",
       "      <td>Nairobi Central</td>\n",
       "      <td>17.0</td>\n",
       "      <td>2344.0</td>\n",
       "      <td>7115429.0</td>\n",
       "      <td>Peugeot 508 \\n\\n2014 Model | 1600cc petrol eng...</td>\n",
       "      <td>5X Diamond</td>\n",
       "      <td>NaN</td>\n",
       "      <td>NaN</td>\n",
       "      <td>Sponsored</td>\n",
       "      <td>NaN</td>\n",
       "    </tr>\n",
       "  </tbody>\n",
       "</table>\n",
       "<p>5 rows × 39 columns</p>\n",
       "</div>"
      ],
      "text/plain": [
       "   Unnamed: 0     Condition     Make Body Fuel  \\\n",
       "0           0   Kenyan Used   Toyota  NaN  NaN   \n",
       "1           1  Foreign Used    Mazda  NaN  NaN   \n",
       "2           2  Foreign Used    Mazda  NaN  NaN   \n",
       "3           3   Kenyan Used    Mazda  NaN  NaN   \n",
       "4           4  Foreign Used  Peugeot  NaN  NaN   \n",
       "\n",
       "                               Second Condition Registered Car  Model  \\\n",
       "0  ['Original parts', 'Unpainted', 'No faults']            Yes  Crown   \n",
       "1                                 ['No faults']            NaN   CX-5   \n",
       "2                                 ['No faults']            Yes  Demio   \n",
       "3               ['No faults', 'Original parts']            Yes   CX-5   \n",
       "4                                 ['No faults']             No    508   \n",
       "\n",
       "  Exchange Possible Seats  ...      region_name count_images count_views  \\\n",
       "0            ['No']   NaN  ...         Kilimani          5.0       125.0   \n",
       "1               NaN   NaN  ...         Kilimani          8.0        36.0   \n",
       "2               NaN   NaN  ...        Ridgeways          6.0       314.0   \n",
       "3               NaN   NaN  ...          Langata          9.0        87.0   \n",
       "4           ['Yes']   NaN  ...  Nairobi Central         17.0      2344.0   \n",
       "\n",
       "         id_y                                        description        boost  \\\n",
       "0  10593924.0  Alloy wheels Fog lights Steering controls beig...  40X Diamond   \n",
       "1  10717151.0  Mazda CX-5, petrol, 2016, 2000cc, white in col...     VIP TOP+   \n",
       "2  10417467.0  2015 Mazda demio diesel,alloy rims, steering c...     VIP TOP+   \n",
       "3  10754171.0  2200cc Diesel,\\nSkyactive,\\ncruise control,\\nI...     VIP TOP+   \n",
       "4   7115429.0  Peugeot 508 \\n\\n2014 Model | 1600cc petrol eng...   5X Diamond   \n",
       "\n",
       "     min_est    max_est  paid_infor    avg_est  \n",
       "0  1400000.0  1450000.0   Sponsored  1425000.0  \n",
       "1  2500000.0  2650000.0   Sponsored  2575000.0  \n",
       "2  1080000.0  1100000.0   Sponsored  1090000.0  \n",
       "3        NaN        NaN   Sponsored        NaN  \n",
       "4        NaN        NaN   Sponsored        NaN  \n",
       "\n",
       "[5 rows x 39 columns]"
      ]
     },
     "execution_count": 2,
     "metadata": {},
     "output_type": "execute_result"
    }
   ],
   "source": [
    "df1= pd.read_csv('general_car_data.csv')\n",
    "df1.head()"
   ]
  },
  {
   "cell_type": "code",
   "execution_count": 3,
   "id": "a487a547",
   "metadata": {},
   "outputs": [
    {
     "data": {
      "text/plain": [
       "Index(['Unnamed: 0', 'Condition', 'Make', 'Body', 'Fuel', 'Second Condition',\n",
       "       'Registered Car', 'Model', 'Exchange Possible', 'Seats',\n",
       "       'Year of Manufacture', 'Color', 'Transmission', 'Mileage',\n",
       "       'price_valuation_txt', 'price_estimate', 'selling_price', 'advert_id',\n",
       "       'id_x', 'name', 'date_created_x', 'phone', 'page_url', 'adverts_count',\n",
       "       'status', 'date_created_y', 'date_moderated', 'date_edited',\n",
       "       'paid_info', 'region_name', 'count_images', 'count_views', 'id_y',\n",
       "       'description', 'boost', 'min_est', 'max_est', 'paid_infor', 'avg_est'],\n",
       "      dtype='object')"
      ]
     },
     "execution_count": 3,
     "metadata": {},
     "output_type": "execute_result"
    }
   ],
   "source": [
    "df1.columns"
   ]
  },
  {
   "cell_type": "code",
   "execution_count": 18,
   "id": "70386feb",
   "metadata": {},
   "outputs": [],
   "source": [
    "# Creat a new column called Age:\n",
    "df1['Age']= df1['Year of Manufacture'].apply(lambda x: (2022-int(x)) if pd.notna(x)  else x)"
   ]
  },
  {
   "cell_type": "markdown",
   "id": "74db9da7",
   "metadata": {},
   "source": [
    "### Select features that can be used in training"
   ]
  },
  {
   "cell_type": "code",
   "execution_count": 19,
   "id": "f84b49a5",
   "metadata": {},
   "outputs": [],
   "source": [
    "selected_cols= ['Condition', 'Make','Model','Age','Transmission','Mileage', 'selling_price', 'Color','Registered Car','region_name']"
   ]
  },
  {
   "cell_type": "code",
   "execution_count": 20,
   "id": "50839c39",
   "metadata": {},
   "outputs": [
    {
     "data": {
      "text/html": [
       "<div>\n",
       "<style scoped>\n",
       "    .dataframe tbody tr th:only-of-type {\n",
       "        vertical-align: middle;\n",
       "    }\n",
       "\n",
       "    .dataframe tbody tr th {\n",
       "        vertical-align: top;\n",
       "    }\n",
       "\n",
       "    .dataframe thead th {\n",
       "        text-align: right;\n",
       "    }\n",
       "</style>\n",
       "<table border=\"1\" class=\"dataframe\">\n",
       "  <thead>\n",
       "    <tr style=\"text-align: right;\">\n",
       "      <th></th>\n",
       "      <th>Condition</th>\n",
       "      <th>Make</th>\n",
       "      <th>Model</th>\n",
       "      <th>Age</th>\n",
       "      <th>Transmission</th>\n",
       "      <th>Mileage</th>\n",
       "      <th>selling_price</th>\n",
       "      <th>Color</th>\n",
       "      <th>Registered Car</th>\n",
       "      <th>region_name</th>\n",
       "    </tr>\n",
       "  </thead>\n",
       "  <tbody>\n",
       "    <tr>\n",
       "      <th>0</th>\n",
       "      <td>Kenyan Used</td>\n",
       "      <td>Toyota</td>\n",
       "      <td>Crown</td>\n",
       "      <td>10.0</td>\n",
       "      <td>Automatic</td>\n",
       "      <td>NaN</td>\n",
       "      <td>1270000.0</td>\n",
       "      <td>White</td>\n",
       "      <td>Yes</td>\n",
       "      <td>Kilimani</td>\n",
       "    </tr>\n",
       "    <tr>\n",
       "      <th>1</th>\n",
       "      <td>Foreign Used</td>\n",
       "      <td>Mazda</td>\n",
       "      <td>CX-5</td>\n",
       "      <td>6.0</td>\n",
       "      <td>Automatic</td>\n",
       "      <td>74000.0</td>\n",
       "      <td>2750000.0</td>\n",
       "      <td>White</td>\n",
       "      <td>NaN</td>\n",
       "      <td>Kilimani</td>\n",
       "    </tr>\n",
       "    <tr>\n",
       "      <th>2</th>\n",
       "      <td>Foreign Used</td>\n",
       "      <td>Mazda</td>\n",
       "      <td>Demio</td>\n",
       "      <td>7.0</td>\n",
       "      <td>Automatic</td>\n",
       "      <td>117000.0</td>\n",
       "      <td>1090000.0</td>\n",
       "      <td>Silver</td>\n",
       "      <td>Yes</td>\n",
       "      <td>Ridgeways</td>\n",
       "    </tr>\n",
       "    <tr>\n",
       "      <th>3</th>\n",
       "      <td>Kenyan Used</td>\n",
       "      <td>Mazda</td>\n",
       "      <td>CX-5</td>\n",
       "      <td>9.0</td>\n",
       "      <td>AMT</td>\n",
       "      <td>92929.0</td>\n",
       "      <td>1720000.0</td>\n",
       "      <td>Black</td>\n",
       "      <td>Yes</td>\n",
       "      <td>Langata</td>\n",
       "    </tr>\n",
       "    <tr>\n",
       "      <th>4</th>\n",
       "      <td>Foreign Used</td>\n",
       "      <td>Peugeot</td>\n",
       "      <td>508</td>\n",
       "      <td>8.0</td>\n",
       "      <td>Automatic</td>\n",
       "      <td>91000.0</td>\n",
       "      <td>1999000.0</td>\n",
       "      <td>Black</td>\n",
       "      <td>No</td>\n",
       "      <td>Nairobi Central</td>\n",
       "    </tr>\n",
       "  </tbody>\n",
       "</table>\n",
       "</div>"
      ],
      "text/plain": [
       "      Condition     Make  Model   Age Transmission   Mileage  selling_price  \\\n",
       "0   Kenyan Used   Toyota  Crown  10.0    Automatic       NaN      1270000.0   \n",
       "1  Foreign Used    Mazda   CX-5   6.0    Automatic   74000.0      2750000.0   \n",
       "2  Foreign Used    Mazda  Demio   7.0    Automatic  117000.0      1090000.0   \n",
       "3   Kenyan Used    Mazda   CX-5   9.0          AMT   92929.0      1720000.0   \n",
       "4  Foreign Used  Peugeot    508   8.0    Automatic   91000.0      1999000.0   \n",
       "\n",
       "    Color Registered Car      region_name  \n",
       "0   White            Yes         Kilimani  \n",
       "1   White            NaN         Kilimani  \n",
       "2  Silver            Yes        Ridgeways  \n",
       "3   Black            Yes          Langata  \n",
       "4   Black             No  Nairobi Central  "
      ]
     },
     "execution_count": 20,
     "metadata": {},
     "output_type": "execute_result"
    }
   ],
   "source": [
    "df2= df1[selected_cols]\n",
    "df2.head(5)"
   ]
  },
  {
   "cell_type": "markdown",
   "id": "4aaa2264",
   "metadata": {},
   "source": [
    "### Clean data & Drop nulls"
   ]
  },
  {
   "cell_type": "code",
   "execution_count": 21,
   "id": "d70de661",
   "metadata": {},
   "outputs": [
    {
     "data": {
      "text/plain": [
       "Condition          109\n",
       "Make               109\n",
       "Model              109\n",
       "Age                109\n",
       "Transmission        19\n",
       "Mileage           5349\n",
       "selling_price       18\n",
       "Color               22\n",
       "Registered Car    2482\n",
       "region_name         18\n",
       "dtype: int64"
      ]
     },
     "execution_count": 21,
     "metadata": {},
     "output_type": "execute_result"
    }
   ],
   "source": [
    "df2.isnull().sum()"
   ]
  },
  {
   "cell_type": "code",
   "execution_count": 29,
   "id": "5f452eb1",
   "metadata": {},
   "outputs": [],
   "source": [
    "# For this drop all the nulls - We can modify this later to avoud dropping nulls but substitute.\n",
    "df3 = df2.dropna()"
   ]
  },
  {
   "cell_type": "code",
   "execution_count": 30,
   "id": "7d111459",
   "metadata": {},
   "outputs": [
    {
     "data": {
      "text/html": [
       "<div>\n",
       "<style scoped>\n",
       "    .dataframe tbody tr th:only-of-type {\n",
       "        vertical-align: middle;\n",
       "    }\n",
       "\n",
       "    .dataframe tbody tr th {\n",
       "        vertical-align: top;\n",
       "    }\n",
       "\n",
       "    .dataframe thead th {\n",
       "        text-align: right;\n",
       "    }\n",
       "</style>\n",
       "<table border=\"1\" class=\"dataframe\">\n",
       "  <thead>\n",
       "    <tr style=\"text-align: right;\">\n",
       "      <th></th>\n",
       "      <th>Condition</th>\n",
       "      <th>Make</th>\n",
       "      <th>Model</th>\n",
       "      <th>Age</th>\n",
       "      <th>Transmission</th>\n",
       "      <th>Mileage</th>\n",
       "      <th>selling_price</th>\n",
       "      <th>Color</th>\n",
       "      <th>Registered Car</th>\n",
       "      <th>region_name</th>\n",
       "    </tr>\n",
       "  </thead>\n",
       "  <tbody>\n",
       "    <tr>\n",
       "      <th>2</th>\n",
       "      <td>Foreign Used</td>\n",
       "      <td>Mazda</td>\n",
       "      <td>Demio</td>\n",
       "      <td>7.0</td>\n",
       "      <td>Automatic</td>\n",
       "      <td>117000.0</td>\n",
       "      <td>1090000.0</td>\n",
       "      <td>Silver</td>\n",
       "      <td>Yes</td>\n",
       "      <td>Ridgeways</td>\n",
       "    </tr>\n",
       "    <tr>\n",
       "      <th>3</th>\n",
       "      <td>Kenyan Used</td>\n",
       "      <td>Mazda</td>\n",
       "      <td>CX-5</td>\n",
       "      <td>9.0</td>\n",
       "      <td>AMT</td>\n",
       "      <td>92929.0</td>\n",
       "      <td>1720000.0</td>\n",
       "      <td>Black</td>\n",
       "      <td>Yes</td>\n",
       "      <td>Langata</td>\n",
       "    </tr>\n",
       "    <tr>\n",
       "      <th>4</th>\n",
       "      <td>Foreign Used</td>\n",
       "      <td>Peugeot</td>\n",
       "      <td>508</td>\n",
       "      <td>8.0</td>\n",
       "      <td>Automatic</td>\n",
       "      <td>91000.0</td>\n",
       "      <td>1999000.0</td>\n",
       "      <td>Black</td>\n",
       "      <td>No</td>\n",
       "      <td>Nairobi Central</td>\n",
       "    </tr>\n",
       "    <tr>\n",
       "      <th>8</th>\n",
       "      <td>Kenyan Used</td>\n",
       "      <td>Honda</td>\n",
       "      <td>Fit</td>\n",
       "      <td>8.0</td>\n",
       "      <td>Automatic</td>\n",
       "      <td>117000.0</td>\n",
       "      <td>1050000.0</td>\n",
       "      <td>Silver</td>\n",
       "      <td>Yes</td>\n",
       "      <td>Nairobi Central</td>\n",
       "    </tr>\n",
       "    <tr>\n",
       "      <th>10</th>\n",
       "      <td>Foreign Used</td>\n",
       "      <td>Nissan</td>\n",
       "      <td>X-Trail</td>\n",
       "      <td>7.0</td>\n",
       "      <td>Automatic</td>\n",
       "      <td>87000.0</td>\n",
       "      <td>2500000.0</td>\n",
       "      <td>Black</td>\n",
       "      <td>Yes</td>\n",
       "      <td>Kilimani</td>\n",
       "    </tr>\n",
       "  </tbody>\n",
       "</table>\n",
       "</div>"
      ],
      "text/plain": [
       "       Condition     Make    Model  Age Transmission   Mileage  selling_price  \\\n",
       "2   Foreign Used    Mazda    Demio  7.0    Automatic  117000.0      1090000.0   \n",
       "3    Kenyan Used    Mazda     CX-5  9.0          AMT   92929.0      1720000.0   \n",
       "4   Foreign Used  Peugeot      508  8.0    Automatic   91000.0      1999000.0   \n",
       "8    Kenyan Used    Honda      Fit  8.0    Automatic  117000.0      1050000.0   \n",
       "10  Foreign Used   Nissan  X-Trail  7.0    Automatic   87000.0      2500000.0   \n",
       "\n",
       "     Color Registered Car      region_name  \n",
       "2   Silver            Yes        Ridgeways  \n",
       "3    Black            Yes          Langata  \n",
       "4    Black             No  Nairobi Central  \n",
       "8   Silver            Yes  Nairobi Central  \n",
       "10   Black            Yes         Kilimani  "
      ]
     },
     "execution_count": 30,
     "metadata": {},
     "output_type": "execute_result"
    }
   ],
   "source": [
    "df3.head()"
   ]
  },
  {
   "cell_type": "markdown",
   "id": "c15bd869",
   "metadata": {},
   "source": [
    "## Feature Engineering"
   ]
  },
  {
   "cell_type": "markdown",
   "id": "295e8502",
   "metadata": {},
   "source": [
    "#### New feature, mileage/year"
   ]
  },
  {
   "cell_type": "code",
   "execution_count": 65,
   "id": "00226476",
   "metadata": {},
   "outputs": [],
   "source": [
    "df4= df3.copy()"
   ]
  },
  {
   "cell_type": "code",
   "execution_count": 66,
   "id": "b02e35b0",
   "metadata": {},
   "outputs": [],
   "source": [
    "def get_mpy(mil, age):\n",
    "    if age>0:\n",
    "        return mil/age\n",
    "    else:\n",
    "        return mil"
   ]
  },
  {
   "cell_type": "code",
   "execution_count": 71,
   "id": "ecf3cb74",
   "metadata": {},
   "outputs": [
    {
     "data": {
      "text/html": [
       "<div>\n",
       "<style scoped>\n",
       "    .dataframe tbody tr th:only-of-type {\n",
       "        vertical-align: middle;\n",
       "    }\n",
       "\n",
       "    .dataframe tbody tr th {\n",
       "        vertical-align: top;\n",
       "    }\n",
       "\n",
       "    .dataframe thead th {\n",
       "        text-align: right;\n",
       "    }\n",
       "</style>\n",
       "<table border=\"1\" class=\"dataframe\">\n",
       "  <thead>\n",
       "    <tr style=\"text-align: right;\">\n",
       "      <th></th>\n",
       "      <th>Condition</th>\n",
       "      <th>Make</th>\n",
       "      <th>Model</th>\n",
       "      <th>Age</th>\n",
       "      <th>Transmission</th>\n",
       "      <th>Mileage</th>\n",
       "      <th>selling_price</th>\n",
       "      <th>Color</th>\n",
       "      <th>Registered Car</th>\n",
       "      <th>region_name</th>\n",
       "      <th>mpy</th>\n",
       "    </tr>\n",
       "  </thead>\n",
       "  <tbody>\n",
       "    <tr>\n",
       "      <th>2</th>\n",
       "      <td>Foreign Used</td>\n",
       "      <td>Mazda</td>\n",
       "      <td>Demio</td>\n",
       "      <td>7.0</td>\n",
       "      <td>Automatic</td>\n",
       "      <td>117000.0</td>\n",
       "      <td>1090000.0</td>\n",
       "      <td>Silver</td>\n",
       "      <td>Yes</td>\n",
       "      <td>Ridgeways</td>\n",
       "      <td>16714.285714</td>\n",
       "    </tr>\n",
       "    <tr>\n",
       "      <th>3</th>\n",
       "      <td>Kenyan Used</td>\n",
       "      <td>Mazda</td>\n",
       "      <td>CX-5</td>\n",
       "      <td>9.0</td>\n",
       "      <td>AMT</td>\n",
       "      <td>92929.0</td>\n",
       "      <td>1720000.0</td>\n",
       "      <td>Black</td>\n",
       "      <td>Yes</td>\n",
       "      <td>Langata</td>\n",
       "      <td>10325.444444</td>\n",
       "    </tr>\n",
       "    <tr>\n",
       "      <th>4</th>\n",
       "      <td>Foreign Used</td>\n",
       "      <td>Peugeot</td>\n",
       "      <td>508</td>\n",
       "      <td>8.0</td>\n",
       "      <td>Automatic</td>\n",
       "      <td>91000.0</td>\n",
       "      <td>1999000.0</td>\n",
       "      <td>Black</td>\n",
       "      <td>No</td>\n",
       "      <td>Nairobi Central</td>\n",
       "      <td>11375.000000</td>\n",
       "    </tr>\n",
       "    <tr>\n",
       "      <th>8</th>\n",
       "      <td>Kenyan Used</td>\n",
       "      <td>Honda</td>\n",
       "      <td>Fit</td>\n",
       "      <td>8.0</td>\n",
       "      <td>Automatic</td>\n",
       "      <td>117000.0</td>\n",
       "      <td>1050000.0</td>\n",
       "      <td>Silver</td>\n",
       "      <td>Yes</td>\n",
       "      <td>Nairobi Central</td>\n",
       "      <td>14625.000000</td>\n",
       "    </tr>\n",
       "    <tr>\n",
       "      <th>10</th>\n",
       "      <td>Foreign Used</td>\n",
       "      <td>Nissan</td>\n",
       "      <td>X-Trail</td>\n",
       "      <td>7.0</td>\n",
       "      <td>Automatic</td>\n",
       "      <td>87000.0</td>\n",
       "      <td>2500000.0</td>\n",
       "      <td>Black</td>\n",
       "      <td>Yes</td>\n",
       "      <td>Kilimani</td>\n",
       "      <td>12428.571429</td>\n",
       "    </tr>\n",
       "  </tbody>\n",
       "</table>\n",
       "</div>"
      ],
      "text/plain": [
       "       Condition     Make    Model  Age Transmission   Mileage  selling_price  \\\n",
       "2   Foreign Used    Mazda    Demio  7.0    Automatic  117000.0      1090000.0   \n",
       "3    Kenyan Used    Mazda     CX-5  9.0          AMT   92929.0      1720000.0   \n",
       "4   Foreign Used  Peugeot      508  8.0    Automatic   91000.0      1999000.0   \n",
       "8    Kenyan Used    Honda      Fit  8.0    Automatic  117000.0      1050000.0   \n",
       "10  Foreign Used   Nissan  X-Trail  7.0    Automatic   87000.0      2500000.0   \n",
       "\n",
       "     Color Registered Car      region_name           mpy  \n",
       "2   Silver            Yes        Ridgeways  16714.285714  \n",
       "3    Black            Yes          Langata  10325.444444  \n",
       "4    Black             No  Nairobi Central  11375.000000  \n",
       "8   Silver            Yes  Nairobi Central  14625.000000  \n",
       "10   Black            Yes         Kilimani  12428.571429  "
      ]
     },
     "execution_count": 71,
     "metadata": {},
     "output_type": "execute_result"
    }
   ],
   "source": [
    "df4['mpy'] = df4.apply(lambda x: get_mpy(x.Mileage, x.Age), axis=1)\n",
    "df4.head()\n"
   ]
  },
  {
   "cell_type": "markdown",
   "id": "e992242c",
   "metadata": {},
   "source": [
    "## Dimensionality reduction"
   ]
  },
  {
   "cell_type": "markdown",
   "id": "b749d32e",
   "metadata": {},
   "source": [
    "### Explore cat variables for dimension reduction"
   ]
  },
  {
   "cell_type": "code",
   "execution_count": 72,
   "id": "28c04079",
   "metadata": {},
   "outputs": [],
   "source": [
    "df5 = df4.copy()"
   ]
  },
  {
   "cell_type": "code",
   "execution_count": 73,
   "id": "11bc25b2",
   "metadata": {},
   "outputs": [
    {
     "data": {
      "text/plain": [
       "130"
      ]
     },
     "execution_count": 73,
     "metadata": {},
     "output_type": "execute_result"
    }
   ],
   "source": [
    "(df5.Model.value_counts()>10).sum()"
   ]
  },
  {
   "cell_type": "markdown",
   "id": "7a7131f7",
   "metadata": {},
   "source": [
    "#### For the categorical variables: Make, Model, Color, & Region name, pick only those above 10 counts, create Other for the rest"
   ]
  },
  {
   "cell_type": "code",
   "execution_count": 74,
   "id": "21de0276",
   "metadata": {},
   "outputs": [],
   "source": [
    "# Function to create  a new feature category for counts less than 10\n",
    "def create_other(df, feature):\n",
    "    stats = df[feature].value_counts(ascending=False)\n",
    "    stats_less_than_10 = stats[stats<=10]\n",
    "    stats_less_than_10\n",
    "    df[feature] = df[feature].apply(lambda x: 'other' if x in stats_less_than_10 else x)\n",
    "    "
   ]
  },
  {
   "cell_type": "code",
   "execution_count": 75,
   "id": "6a69f662",
   "metadata": {},
   "outputs": [],
   "source": [
    "# df5.columns\n",
    "features = ['Make', 'Model','Color','region_name']"
   ]
  },
  {
   "cell_type": "code",
   "execution_count": 76,
   "id": "f898e738",
   "metadata": {},
   "outputs": [],
   "source": [
    "for feat in features:\n",
    "    create_other(df5, feat)"
   ]
  },
  {
   "cell_type": "markdown",
   "id": "ac5ea26a",
   "metadata": {},
   "source": [
    "# Outlier Removal"
   ]
  },
  {
   "cell_type": "markdown",
   "id": "956cdfb7",
   "metadata": {},
   "source": [
    "### Outlier removal using standard deviation & Mean"
   ]
  },
  {
   "cell_type": "code",
   "execution_count": 77,
   "id": "753dc4f5",
   "metadata": {},
   "outputs": [],
   "source": [
    "df6 = df5.copy()"
   ]
  },
  {
   "cell_type": "code",
   "execution_count": 78,
   "id": "fcc0d750",
   "metadata": {},
   "outputs": [
    {
     "data": {
      "text/html": [
       "<div>\n",
       "<style scoped>\n",
       "    .dataframe tbody tr th:only-of-type {\n",
       "        vertical-align: middle;\n",
       "    }\n",
       "\n",
       "    .dataframe tbody tr th {\n",
       "        vertical-align: top;\n",
       "    }\n",
       "\n",
       "    .dataframe thead th {\n",
       "        text-align: right;\n",
       "    }\n",
       "</style>\n",
       "<table border=\"1\" class=\"dataframe\">\n",
       "  <thead>\n",
       "    <tr style=\"text-align: right;\">\n",
       "      <th></th>\n",
       "      <th>Age</th>\n",
       "      <th>Mileage</th>\n",
       "      <th>selling_price</th>\n",
       "      <th>mpy</th>\n",
       "    </tr>\n",
       "  </thead>\n",
       "  <tbody>\n",
       "    <tr>\n",
       "      <th>count</th>\n",
       "      <td>11187.000000</td>\n",
       "      <td>1.118700e+04</td>\n",
       "      <td>1.118700e+04</td>\n",
       "      <td>11187.000000</td>\n",
       "    </tr>\n",
       "    <tr>\n",
       "      <th>mean</th>\n",
       "      <td>8.551086</td>\n",
       "      <td>8.928362e+04</td>\n",
       "      <td>2.309831e+06</td>\n",
       "      <td>10588.219238</td>\n",
       "    </tr>\n",
       "    <tr>\n",
       "      <th>std</th>\n",
       "      <td>3.094748</td>\n",
       "      <td>7.009986e+04</td>\n",
       "      <td>2.154064e+06</td>\n",
       "      <td>7627.198949</td>\n",
       "    </tr>\n",
       "    <tr>\n",
       "      <th>min</th>\n",
       "      <td>0.000000</td>\n",
       "      <td>0.000000e+00</td>\n",
       "      <td>7.000000e+04</td>\n",
       "      <td>0.000000</td>\n",
       "    </tr>\n",
       "    <tr>\n",
       "      <th>25%</th>\n",
       "      <td>7.000000</td>\n",
       "      <td>6.000000e+04</td>\n",
       "      <td>1.100000e+06</td>\n",
       "      <td>7812.500000</td>\n",
       "    </tr>\n",
       "    <tr>\n",
       "      <th>50%</th>\n",
       "      <td>8.000000</td>\n",
       "      <td>8.000000e+04</td>\n",
       "      <td>1.699000e+06</td>\n",
       "      <td>9750.000000</td>\n",
       "    </tr>\n",
       "    <tr>\n",
       "      <th>75%</th>\n",
       "      <td>8.000000</td>\n",
       "      <td>1.020000e+05</td>\n",
       "      <td>2.650000e+06</td>\n",
       "      <td>12107.062500</td>\n",
       "    </tr>\n",
       "    <tr>\n",
       "      <th>max</th>\n",
       "      <td>64.000000</td>\n",
       "      <td>1.980000e+06</td>\n",
       "      <td>4.500000e+07</td>\n",
       "      <td>177142.857143</td>\n",
       "    </tr>\n",
       "  </tbody>\n",
       "</table>\n",
       "</div>"
      ],
      "text/plain": [
       "                Age       Mileage  selling_price            mpy\n",
       "count  11187.000000  1.118700e+04   1.118700e+04   11187.000000\n",
       "mean       8.551086  8.928362e+04   2.309831e+06   10588.219238\n",
       "std        3.094748  7.009986e+04   2.154064e+06    7627.198949\n",
       "min        0.000000  0.000000e+00   7.000000e+04       0.000000\n",
       "25%        7.000000  6.000000e+04   1.100000e+06    7812.500000\n",
       "50%        8.000000  8.000000e+04   1.699000e+06    9750.000000\n",
       "75%        8.000000  1.020000e+05   2.650000e+06   12107.062500\n",
       "max       64.000000  1.980000e+06   4.500000e+07  177142.857143"
      ]
     },
     "execution_count": 78,
     "metadata": {},
     "output_type": "execute_result"
    }
   ],
   "source": [
    "df6.describe()"
   ]
  },
  {
   "cell_type": "code",
   "execution_count": 80,
   "id": "b72f0888",
   "metadata": {},
   "outputs": [
    {
     "data": {
      "text/plain": [
       "(11187, 11)"
      ]
     },
     "execution_count": 80,
     "metadata": {},
     "output_type": "execute_result"
    }
   ],
   "source": [
    "df6.shape"
   ]
  },
  {
   "cell_type": "code",
   "execution_count": 87,
   "id": "f51e8112",
   "metadata": {},
   "outputs": [],
   "source": [
    "models= df6.groupby('Model')"
   ]
  },
  {
   "cell_type": "code",
   "execution_count": 99,
   "id": "c34412e9",
   "metadata": {
    "scrolled": true
   },
   "outputs": [],
   "source": [
    "# models.agg(Mean = ('selling_price', np.mean), Std= ('selling_price', np.std) )"
   ]
  },
  {
   "cell_type": "code",
   "execution_count": 100,
   "id": "57a35637",
   "metadata": {
    "scrolled": true
   },
   "outputs": [],
   "source": [
    "# for key, subdf in models:\n",
    "#     print(subdf.selling_price)"
   ]
  },
  {
   "cell_type": "code",
   "execution_count": 108,
   "id": "794edde6",
   "metadata": {},
   "outputs": [],
   "source": [
    "def remove_pps_outliers(df, feature):\n",
    "    df_out = pd.DataFrame()\n",
    "    for key, subdf in df.groupby('Model'):\n",
    "        m = np.mean(subdf[feature])\n",
    "        st = np.std(subdf[feature])\n",
    "        reduced_df = subdf[(subdf[feature]>(m-st)) & (subdf[feature]<=(m+st))]\n",
    "        df_out = pd.concat([df_out,reduced_df],ignore_index=True)\n",
    "    return df_out\n"
   ]
  },
  {
   "cell_type": "code",
   "execution_count": 109,
   "id": "1b40e872",
   "metadata": {},
   "outputs": [
    {
     "data": {
      "text/plain": [
       "(9811, 11)"
      ]
     },
     "execution_count": 109,
     "metadata": {},
     "output_type": "execute_result"
    }
   ],
   "source": [
    "df7 = remove_pps_outliers(df6, 'selling_price')\n",
    "df7.shape"
   ]
  },
  {
   "cell_type": "code",
   "execution_count": 110,
   "id": "7fc32ad3",
   "metadata": {},
   "outputs": [
    {
     "data": {
      "text/plain": [
       "(8015, 11)"
      ]
     },
     "execution_count": 110,
     "metadata": {},
     "output_type": "execute_result"
    }
   ],
   "source": [
    "df8 = remove_pps_outliers(df7, 'mpy')\n",
    "df8.shape"
   ]
  },
  {
   "cell_type": "code",
   "execution_count": 114,
   "id": "a9fd4534",
   "metadata": {},
   "outputs": [
    {
     "data": {
      "text/plain": [
       "(6415, 11)"
      ]
     },
     "execution_count": 114,
     "metadata": {},
     "output_type": "execute_result"
    }
   ],
   "source": [
    "df9 = remove_pps_outliers(df8, 'Age')\n",
    "df9.shape"
   ]
  },
  {
   "cell_type": "code",
   "execution_count": 115,
   "id": "68d156de",
   "metadata": {},
   "outputs": [
    {
     "data": {
      "image/png": "[encoded data removed]",
      "text/plain": [
       "<Figure size 1440x720 with 1 Axes>"
      ]
     },
     "metadata": {
      "needs_background": "light"
     },
     "output_type": "display_data"
    }
   ],
   "source": [
    "plt.hist(df9.Age)\n",
    "plt.show()"
   ]
  },
  {
   "cell_type": "code",
   "execution_count": 116,
   "id": "c66f0b96",
   "metadata": {},
   "outputs": [
    {
     "data": {
      "text/html": [
       "<div>\n",
       "<style scoped>\n",
       "    .dataframe tbody tr th:only-of-type {\n",
       "        vertical-align: middle;\n",
       "    }\n",
       "\n",
       "    .dataframe tbody tr th {\n",
       "        vertical-align: top;\n",
       "    }\n",
       "\n",
       "    .dataframe thead th {\n",
       "        text-align: right;\n",
       "    }\n",
       "</style>\n",
       "<table border=\"1\" class=\"dataframe\">\n",
       "  <thead>\n",
       "    <tr style=\"text-align: right;\">\n",
       "      <th></th>\n",
       "      <th>Condition</th>\n",
       "      <th>Make</th>\n",
       "      <th>Model</th>\n",
       "      <th>Age</th>\n",
       "      <th>Transmission</th>\n",
       "      <th>Mileage</th>\n",
       "      <th>selling_price</th>\n",
       "      <th>Color</th>\n",
       "      <th>Registered Car</th>\n",
       "      <th>region_name</th>\n",
       "      <th>mpy</th>\n",
       "    </tr>\n",
       "  </thead>\n",
       "  <tbody>\n",
       "    <tr>\n",
       "      <th>0</th>\n",
       "      <td>Kenyan Used</td>\n",
       "      <td>BMW</td>\n",
       "      <td>116i</td>\n",
       "      <td>14.0</td>\n",
       "      <td>Automatic</td>\n",
       "      <td>164400.0</td>\n",
       "      <td>950000.0</td>\n",
       "      <td>Silver</td>\n",
       "      <td>Yes</td>\n",
       "      <td>Nairobi Central</td>\n",
       "      <td>11742.857143</td>\n",
       "    </tr>\n",
       "    <tr>\n",
       "      <th>1</th>\n",
       "      <td>Foreign Used</td>\n",
       "      <td>BMW</td>\n",
       "      <td>116i</td>\n",
       "      <td>6.0</td>\n",
       "      <td>Automatic</td>\n",
       "      <td>62000.0</td>\n",
       "      <td>3100000.0</td>\n",
       "      <td>White</td>\n",
       "      <td>Yes</td>\n",
       "      <td>Kilimani</td>\n",
       "      <td>10333.333333</td>\n",
       "    </tr>\n",
       "    <tr>\n",
       "      <th>2</th>\n",
       "      <td>Foreign Used</td>\n",
       "      <td>BMW</td>\n",
       "      <td>116i</td>\n",
       "      <td>8.0</td>\n",
       "      <td>Automatic</td>\n",
       "      <td>72000.0</td>\n",
       "      <td>940000.0</td>\n",
       "      <td>Orange</td>\n",
       "      <td>No</td>\n",
       "      <td>Mombasa CBD</td>\n",
       "      <td>9000.000000</td>\n",
       "    </tr>\n",
       "    <tr>\n",
       "      <th>3</th>\n",
       "      <td>Foreign Used</td>\n",
       "      <td>BMW</td>\n",
       "      <td>116i</td>\n",
       "      <td>7.0</td>\n",
       "      <td>Automatic</td>\n",
       "      <td>58000.0</td>\n",
       "      <td>1670000.0</td>\n",
       "      <td>Red</td>\n",
       "      <td>Yes</td>\n",
       "      <td>Mombasa CBD</td>\n",
       "      <td>8285.714286</td>\n",
       "    </tr>\n",
       "    <tr>\n",
       "      <th>4</th>\n",
       "      <td>Foreign Used</td>\n",
       "      <td>BMW</td>\n",
       "      <td>116i</td>\n",
       "      <td>7.0</td>\n",
       "      <td>Automatic</td>\n",
       "      <td>64000.0</td>\n",
       "      <td>980000.0</td>\n",
       "      <td>White</td>\n",
       "      <td>No</td>\n",
       "      <td>Mombasa CBD</td>\n",
       "      <td>9142.857143</td>\n",
       "    </tr>\n",
       "  </tbody>\n",
       "</table>\n",
       "</div>"
      ],
      "text/plain": [
       "      Condition Make Model   Age Transmission   Mileage  selling_price  \\\n",
       "0   Kenyan Used  BMW  116i  14.0    Automatic  164400.0       950000.0   \n",
       "1  Foreign Used  BMW  116i   6.0    Automatic   62000.0      3100000.0   \n",
       "2  Foreign Used  BMW  116i   8.0    Automatic   72000.0       940000.0   \n",
       "3  Foreign Used  BMW  116i   7.0    Automatic   58000.0      1670000.0   \n",
       "4  Foreign Used  BMW  116i   7.0    Automatic   64000.0       980000.0   \n",
       "\n",
       "    Color Registered Car      region_name           mpy  \n",
       "0  Silver            Yes  Nairobi Central  11742.857143  \n",
       "1   White            Yes         Kilimani  10333.333333  \n",
       "2  Orange             No      Mombasa CBD   9000.000000  \n",
       "3     Red            Yes      Mombasa CBD   8285.714286  \n",
       "4   White             No      Mombasa CBD   9142.857143  "
      ]
     },
     "execution_count": 116,
     "metadata": {},
     "output_type": "execute_result"
    }
   ],
   "source": [
    "df8.head()"
   ]
  },
  {
   "cell_type": "markdown",
   "id": "0c31279e",
   "metadata": {},
   "source": [
    "# Drop columns to not use in Training"
   ]
  },
  {
   "cell_type": "code",
   "execution_count": 141,
   "id": "f888e201",
   "metadata": {},
   "outputs": [],
   "source": [
    "#drop mpy:\n",
    "cols_to_drop= ['mpy', 'region_name']\n",
    "df9 = df8.drop(cols_to_drop, axis=1)"
   ]
  },
  {
   "cell_type": "markdown",
   "id": "fd78fc98",
   "metadata": {},
   "source": [
    "## One hot encoding"
   ]
  },
  {
   "cell_type": "code",
   "execution_count": 142,
   "id": "3a4553ce",
   "metadata": {},
   "outputs": [],
   "source": [
    "# Fields to encode:\n",
    "cat_features = ['Condition', 'Make', 'Model', 'Transmission','Color', 'Registered Car']"
   ]
  },
  {
   "cell_type": "code",
   "execution_count": 143,
   "id": "2b6ce38e",
   "metadata": {},
   "outputs": [],
   "source": [
    "dummies = pd.get_dummies(df9, columns=cat_features,  drop_first=True)"
   ]
  },
  {
   "cell_type": "code",
   "execution_count": 144,
   "id": "03c7f35e",
   "metadata": {},
   "outputs": [],
   "source": [
    "df10 = dummies.copy()"
   ]
  },
  {
   "cell_type": "code",
   "execution_count": 145,
   "id": "aa6cba8a",
   "metadata": {},
   "outputs": [
    {
     "data": {
      "text/plain": [
       "(8015, 179)"
      ]
     },
     "execution_count": 145,
     "metadata": {},
     "output_type": "execute_result"
    }
   ],
   "source": [
    "df10.shape"
   ]
  },
  {
   "cell_type": "markdown",
   "id": "7324472a",
   "metadata": {},
   "source": [
    "# Building a Model"
   ]
  },
  {
   "cell_type": "code",
   "execution_count": 146,
   "id": "22de2c1b",
   "metadata": {},
   "outputs": [],
   "source": [
    "X = df10.drop('selling_price', axis=1)"
   ]
  },
  {
   "cell_type": "code",
   "execution_count": 147,
   "id": "e72f30d8",
   "metadata": {},
   "outputs": [
    {
     "data": {
      "text/html": [
       "<div>\n",
       "<style scoped>\n",
       "    .dataframe tbody tr th:only-of-type {\n",
       "        vertical-align: middle;\n",
       "    }\n",
       "\n",
       "    .dataframe tbody tr th {\n",
       "        vertical-align: top;\n",
       "    }\n",
       "\n",
       "    .dataframe thead th {\n",
       "        text-align: right;\n",
       "    }\n",
       "</style>\n",
       "<table border=\"1\" class=\"dataframe\">\n",
       "  <thead>\n",
       "    <tr style=\"text-align: right;\">\n",
       "      <th></th>\n",
       "      <th>Age</th>\n",
       "      <th>Mileage</th>\n",
       "      <th>Condition_Foreign Used</th>\n",
       "      <th>Condition_Kenyan Used</th>\n",
       "      <th>Make_BMW</th>\n",
       "      <th>Make_Citroen</th>\n",
       "      <th>Make_Daihatsu</th>\n",
       "      <th>Make_Ford</th>\n",
       "      <th>Make_Honda</th>\n",
       "      <th>Make_Isuzu</th>\n",
       "      <th>...</th>\n",
       "      <th>Color_Other</th>\n",
       "      <th>Color_Pearl</th>\n",
       "      <th>Color_Pink</th>\n",
       "      <th>Color_Purple</th>\n",
       "      <th>Color_Red</th>\n",
       "      <th>Color_Silver</th>\n",
       "      <th>Color_Teal</th>\n",
       "      <th>Color_White</th>\n",
       "      <th>Color_Yellow</th>\n",
       "      <th>Registered Car_Yes</th>\n",
       "    </tr>\n",
       "  </thead>\n",
       "  <tbody>\n",
       "    <tr>\n",
       "      <th>0</th>\n",
       "      <td>14.0</td>\n",
       "      <td>164400.0</td>\n",
       "      <td>0</td>\n",
       "      <td>1</td>\n",
       "      <td>1</td>\n",
       "      <td>0</td>\n",
       "      <td>0</td>\n",
       "      <td>0</td>\n",
       "      <td>0</td>\n",
       "      <td>0</td>\n",
       "      <td>...</td>\n",
       "      <td>0</td>\n",
       "      <td>0</td>\n",
       "      <td>0</td>\n",
       "      <td>0</td>\n",
       "      <td>0</td>\n",
       "      <td>1</td>\n",
       "      <td>0</td>\n",
       "      <td>0</td>\n",
       "      <td>0</td>\n",
       "      <td>1</td>\n",
       "    </tr>\n",
       "    <tr>\n",
       "      <th>1</th>\n",
       "      <td>6.0</td>\n",
       "      <td>62000.0</td>\n",
       "      <td>1</td>\n",
       "      <td>0</td>\n",
       "      <td>1</td>\n",
       "      <td>0</td>\n",
       "      <td>0</td>\n",
       "      <td>0</td>\n",
       "      <td>0</td>\n",
       "      <td>0</td>\n",
       "      <td>...</td>\n",
       "      <td>0</td>\n",
       "      <td>0</td>\n",
       "      <td>0</td>\n",
       "      <td>0</td>\n",
       "      <td>0</td>\n",
       "      <td>0</td>\n",
       "      <td>0</td>\n",
       "      <td>1</td>\n",
       "      <td>0</td>\n",
       "      <td>1</td>\n",
       "    </tr>\n",
       "    <tr>\n",
       "      <th>2</th>\n",
       "      <td>8.0</td>\n",
       "      <td>72000.0</td>\n",
       "      <td>1</td>\n",
       "      <td>0</td>\n",
       "      <td>1</td>\n",
       "      <td>0</td>\n",
       "      <td>0</td>\n",
       "      <td>0</td>\n",
       "      <td>0</td>\n",
       "      <td>0</td>\n",
       "      <td>...</td>\n",
       "      <td>0</td>\n",
       "      <td>0</td>\n",
       "      <td>0</td>\n",
       "      <td>0</td>\n",
       "      <td>0</td>\n",
       "      <td>0</td>\n",
       "      <td>0</td>\n",
       "      <td>0</td>\n",
       "      <td>0</td>\n",
       "      <td>0</td>\n",
       "    </tr>\n",
       "    <tr>\n",
       "      <th>3</th>\n",
       "      <td>7.0</td>\n",
       "      <td>58000.0</td>\n",
       "      <td>1</td>\n",
       "      <td>0</td>\n",
       "      <td>1</td>\n",
       "      <td>0</td>\n",
       "      <td>0</td>\n",
       "      <td>0</td>\n",
       "      <td>0</td>\n",
       "      <td>0</td>\n",
       "      <td>...</td>\n",
       "      <td>0</td>\n",
       "      <td>0</td>\n",
       "      <td>0</td>\n",
       "      <td>0</td>\n",
       "      <td>1</td>\n",
       "      <td>0</td>\n",
       "      <td>0</td>\n",
       "      <td>0</td>\n",
       "      <td>0</td>\n",
       "      <td>1</td>\n",
       "    </tr>\n",
       "    <tr>\n",
       "      <th>4</th>\n",
       "      <td>7.0</td>\n",
       "      <td>64000.0</td>\n",
       "      <td>1</td>\n",
       "      <td>0</td>\n",
       "      <td>1</td>\n",
       "      <td>0</td>\n",
       "      <td>0</td>\n",
       "      <td>0</td>\n",
       "      <td>0</td>\n",
       "      <td>0</td>\n",
       "      <td>...</td>\n",
       "      <td>0</td>\n",
       "      <td>0</td>\n",
       "      <td>0</td>\n",
       "      <td>0</td>\n",
       "      <td>0</td>\n",
       "      <td>0</td>\n",
       "      <td>0</td>\n",
       "      <td>1</td>\n",
       "      <td>0</td>\n",
       "      <td>0</td>\n",
       "    </tr>\n",
       "  </tbody>\n",
       "</table>\n",
       "<p>5 rows × 178 columns</p>\n",
       "</div>"
      ],
      "text/plain": [
       "    Age   Mileage  Condition_Foreign Used  Condition_Kenyan Used  Make_BMW  \\\n",
       "0  14.0  164400.0                       0                      1         1   \n",
       "1   6.0   62000.0                       1                      0         1   \n",
       "2   8.0   72000.0                       1                      0         1   \n",
       "3   7.0   58000.0                       1                      0         1   \n",
       "4   7.0   64000.0                       1                      0         1   \n",
       "\n",
       "   Make_Citroen  Make_Daihatsu  Make_Ford  Make_Honda  Make_Isuzu  ...  \\\n",
       "0             0              0          0           0           0  ...   \n",
       "1             0              0          0           0           0  ...   \n",
       "2             0              0          0           0           0  ...   \n",
       "3             0              0          0           0           0  ...   \n",
       "4             0              0          0           0           0  ...   \n",
       "\n",
       "   Color_Other  Color_Pearl  Color_Pink  Color_Purple  Color_Red  \\\n",
       "0            0            0           0             0          0   \n",
       "1            0            0           0             0          0   \n",
       "2            0            0           0             0          0   \n",
       "3            0            0           0             0          1   \n",
       "4            0            0           0             0          0   \n",
       "\n",
       "   Color_Silver  Color_Teal  Color_White  Color_Yellow  Registered Car_Yes  \n",
       "0             1           0            0             0                   1  \n",
       "1             0           0            1             0                   1  \n",
       "2             0           0            0             0                   0  \n",
       "3             0           0            0             0                   1  \n",
       "4             0           0            1             0                   0  \n",
       "\n",
       "[5 rows x 178 columns]"
      ]
     },
     "execution_count": 147,
     "metadata": {},
     "output_type": "execute_result"
    }
   ],
   "source": [
    "X.head()"
   ]
  },
  {
   "cell_type": "code",
   "execution_count": 148,
   "id": "396502b1",
   "metadata": {},
   "outputs": [
    {
     "data": {
      "text/plain": [
       "(8015,)"
      ]
     },
     "execution_count": 148,
     "metadata": {},
     "output_type": "execute_result"
    }
   ],
   "source": [
    "y = df10.selling_price\n",
    "y.shape"
   ]
  },
  {
   "cell_type": "markdown",
   "id": "3d5857c1",
   "metadata": {},
   "source": [
    "### Split training & test data"
   ]
  },
  {
   "cell_type": "code",
   "execution_count": 149,
   "id": "27bc2e44",
   "metadata": {},
   "outputs": [],
   "source": [
    "from sklearn.model_selection import train_test_split\n",
    "X_train, X_test, y_train, y_test = train_test_split(X,y,test_size=0.2,random_state=10)"
   ]
  },
  {
   "cell_type": "markdown",
   "id": "bf21ab97",
   "metadata": {},
   "source": [
    "### Linear Model"
   ]
  },
  {
   "cell_type": "code",
   "execution_count": 150,
   "id": "422bc0ca",
   "metadata": {},
   "outputs": [
    {
     "data": {
      "text/plain": [
       "-0.035323011544098115"
      ]
     },
     "execution_count": 150,
     "metadata": {},
     "output_type": "execute_result"
    }
   ],
   "source": [
    "from sklearn.linear_model import LinearRegression\n",
    "lr_clf = LinearRegression()\n",
    "lr_clf.fit(X_train,y_train)\n",
    "lr_clf.score(X_test,y_test)"
   ]
  },
  {
   "cell_type": "code",
   "execution_count": 151,
   "id": "af199d46",
   "metadata": {},
   "outputs": [],
   "source": [
    "lr_pred = lr_clf.predict(X_test)"
   ]
  },
  {
   "cell_type": "code",
   "execution_count": 152,
   "id": "c2ed015c",
   "metadata": {},
   "outputs": [
    {
     "data": {
      "text/plain": [
       "-0.035323011544098115"
      ]
     },
     "execution_count": 152,
     "metadata": {},
     "output_type": "execute_result"
    }
   ],
   "source": [
    "from sklearn.metrics import r2_score\n",
    "r2_score(y_test, lr_pred)"
   ]
  },
  {
   "cell_type": "markdown",
   "id": "82ec6515",
   "metadata": {},
   "source": [
    "### Using k fold cross validation to measure accuracy of the linear model"
   ]
  },
  {
   "cell_type": "code",
   "execution_count": 153,
   "id": "22852805",
   "metadata": {},
   "outputs": [
    {
     "data": {
      "text/plain": [
       "array([-0.02153065,  0.00504552, -0.01895611, -0.02227095, -0.01951642])"
      ]
     },
     "execution_count": 153,
     "metadata": {},
     "output_type": "execute_result"
    }
   ],
   "source": [
    "from sklearn.model_selection import ShuffleSplit\n",
    "from sklearn.model_selection import cross_val_score\n",
    "\n",
    "cv = ShuffleSplit(n_splits=5, test_size=0.2, random_state=0)\n",
    "\n",
    "cross_val_score(LinearRegression(), X, y, cv=cv)"
   ]
  },
  {
   "cell_type": "markdown",
   "id": "b47e1731",
   "metadata": {},
   "source": [
    "### Find best model using GridSearchCV"
   ]
  },
  {
   "cell_type": "code",
   "execution_count": 154,
   "id": "c863e5a7",
   "metadata": {
    "scrolled": true
   },
   "outputs": [
    {
     "name": "stderr",
     "output_type": "stream",
     "text": [
      "C:\\Users\\Brian\\anaconda3\\envs\\py3-TF\\lib\\site-packages\\sklearn\\linear_model\\_base.py:141: FutureWarning: 'normalize' was deprecated in version 1.0 and will be removed in 1.2.\n",
      "If you wish to scale the data, use Pipeline with a StandardScaler in a preprocessing stage. To reproduce the previous behavior:\n",
      "\n",
      "from sklearn.pipeline import make_pipeline\n",
      "\n",
      "model = make_pipeline(StandardScaler(with_mean=False), LinearRegression())\n",
      "\n",
      "If you wish to pass a sample_weight parameter, you need to pass it as a fit parameter to each step of the pipeline as follows:\n",
      "\n",
      "kwargs = {s[0] + '__sample_weight': sample_weight for s in model.steps}\n",
      "model.fit(X, y, **kwargs)\n",
      "\n",
      "\n",
      "  warnings.warn(\n",
      "C:\\Users\\Brian\\anaconda3\\envs\\py3-TF\\lib\\site-packages\\sklearn\\linear_model\\_base.py:141: FutureWarning: 'normalize' was deprecated in version 1.0 and will be removed in 1.2.\n",
      "If you wish to scale the data, use Pipeline with a StandardScaler in a preprocessing stage. To reproduce the previous behavior:\n",
      "\n",
      "from sklearn.pipeline import make_pipeline\n",
      "\n",
      "model = make_pipeline(StandardScaler(with_mean=False), LinearRegression())\n",
      "\n",
      "If you wish to pass a sample_weight parameter, you need to pass it as a fit parameter to each step of the pipeline as follows:\n",
      "\n",
      "kwargs = {s[0] + '__sample_weight': sample_weight for s in model.steps}\n",
      "model.fit(X, y, **kwargs)\n",
      "\n",
      "\n",
      "  warnings.warn(\n",
      "C:\\Users\\Brian\\anaconda3\\envs\\py3-TF\\lib\\site-packages\\sklearn\\linear_model\\_base.py:141: FutureWarning: 'normalize' was deprecated in version 1.0 and will be removed in 1.2.\n",
      "If you wish to scale the data, use Pipeline with a StandardScaler in a preprocessing stage. To reproduce the previous behavior:\n",
      "\n",
      "from sklearn.pipeline import make_pipeline\n",
      "\n",
      "model = make_pipeline(StandardScaler(with_mean=False), LinearRegression())\n",
      "\n",
      "If you wish to pass a sample_weight parameter, you need to pass it as a fit parameter to each step of the pipeline as follows:\n",
      "\n",
      "kwargs = {s[0] + '__sample_weight': sample_weight for s in model.steps}\n",
      "model.fit(X, y, **kwargs)\n",
      "\n",
      "\n",
      "  warnings.warn(\n",
      "C:\\Users\\Brian\\anaconda3\\envs\\py3-TF\\lib\\site-packages\\sklearn\\linear_model\\_base.py:141: FutureWarning: 'normalize' was deprecated in version 1.0 and will be removed in 1.2.\n",
      "If you wish to scale the data, use Pipeline with a StandardScaler in a preprocessing stage. To reproduce the previous behavior:\n",
      "\n",
      "from sklearn.pipeline import make_pipeline\n",
      "\n",
      "model = make_pipeline(StandardScaler(with_mean=False), LinearRegression())\n",
      "\n",
      "If you wish to pass a sample_weight parameter, you need to pass it as a fit parameter to each step of the pipeline as follows:\n",
      "\n",
      "kwargs = {s[0] + '__sample_weight': sample_weight for s in model.steps}\n",
      "model.fit(X, y, **kwargs)\n",
      "\n",
      "\n",
      "  warnings.warn(\n",
      "C:\\Users\\Brian\\anaconda3\\envs\\py3-TF\\lib\\site-packages\\sklearn\\linear_model\\_base.py:141: FutureWarning: 'normalize' was deprecated in version 1.0 and will be removed in 1.2.\n",
      "If you wish to scale the data, use Pipeline with a StandardScaler in a preprocessing stage. To reproduce the previous behavior:\n",
      "\n",
      "from sklearn.pipeline import make_pipeline\n",
      "\n",
      "model = make_pipeline(StandardScaler(with_mean=False), LinearRegression())\n",
      "\n",
      "If you wish to pass a sample_weight parameter, you need to pass it as a fit parameter to each step of the pipeline as follows:\n",
      "\n",
      "kwargs = {s[0] + '__sample_weight': sample_weight for s in model.steps}\n",
      "model.fit(X, y, **kwargs)\n",
      "\n",
      "\n",
      "  warnings.warn(\n",
      "C:\\Users\\Brian\\anaconda3\\envs\\py3-TF\\lib\\site-packages\\sklearn\\linear_model\\_base.py:148: FutureWarning: 'normalize' was deprecated in version 1.0 and will be removed in 1.2. Please leave the normalize parameter to its default value to silence this warning. The default behavior of this estimator is to not do any normalization. If normalization is needed please use sklearn.preprocessing.StandardScaler instead.\n",
      "  warnings.warn(\n",
      "C:\\Users\\Brian\\anaconda3\\envs\\py3-TF\\lib\\site-packages\\sklearn\\linear_model\\_base.py:148: FutureWarning: 'normalize' was deprecated in version 1.0 and will be removed in 1.2. Please leave the normalize parameter to its default value to silence this warning. The default behavior of this estimator is to not do any normalization. If normalization is needed please use sklearn.preprocessing.StandardScaler instead.\n",
      "  warnings.warn(\n",
      "C:\\Users\\Brian\\anaconda3\\envs\\py3-TF\\lib\\site-packages\\sklearn\\linear_model\\_base.py:148: FutureWarning: 'normalize' was deprecated in version 1.0 and will be removed in 1.2. Please leave the normalize parameter to its default value to silence this warning. The default behavior of this estimator is to not do any normalization. If normalization is needed please use sklearn.preprocessing.StandardScaler instead.\n",
      "  warnings.warn(\n",
      "C:\\Users\\Brian\\anaconda3\\envs\\py3-TF\\lib\\site-packages\\sklearn\\linear_model\\_base.py:148: FutureWarning: 'normalize' was deprecated in version 1.0 and will be removed in 1.2. Please leave the normalize parameter to its default value to silence this warning. The default behavior of this estimator is to not do any normalization. If normalization is needed please use sklearn.preprocessing.StandardScaler instead.\n",
      "  warnings.warn(\n",
      "C:\\Users\\Brian\\anaconda3\\envs\\py3-TF\\lib\\site-packages\\sklearn\\linear_model\\_base.py:148: FutureWarning: 'normalize' was deprecated in version 1.0 and will be removed in 1.2. Please leave the normalize parameter to its default value to silence this warning. The default behavior of this estimator is to not do any normalization. If normalization is needed please use sklearn.preprocessing.StandardScaler instead.\n",
      "  warnings.warn(\n",
      "C:\\Users\\Brian\\anaconda3\\envs\\py3-TF\\lib\\site-packages\\sklearn\\linear_model\\_base.py:141: FutureWarning: 'normalize' was deprecated in version 1.0 and will be removed in 1.2.\n",
      "If you wish to scale the data, use Pipeline with a StandardScaler in a preprocessing stage. To reproduce the previous behavior:\n",
      "\n",
      "from sklearn.pipeline import make_pipeline\n",
      "\n",
      "model = make_pipeline(StandardScaler(with_mean=False), LinearRegression())\n",
      "\n",
      "If you wish to pass a sample_weight parameter, you need to pass it as a fit parameter to each step of the pipeline as follows:\n",
      "\n",
      "kwargs = {s[0] + '__sample_weight': sample_weight for s in model.steps}\n",
      "model.fit(X, y, **kwargs)\n",
      "\n",
      "\n",
      "  warnings.warn(\n",
      "C:\\Users\\Brian\\anaconda3\\envs\\py3-TF\\lib\\site-packages\\sklearn\\linear_model\\_coordinate_descent.py:648: ConvergenceWarning: Objective did not converge. You might want to increase the number of iterations, check the scale of the features or consider increasing regularisation. Duality gap: 2.577e+15, tolerance: 5.350e+11\n",
      "  model = cd_fast.enet_coordinate_descent(\n",
      "C:\\Users\\Brian\\anaconda3\\envs\\py3-TF\\lib\\site-packages\\sklearn\\linear_model\\_coordinate_descent.py:648: ConvergenceWarning: Objective did not converge. You might want to increase the number of iterations, check the scale of the features or consider increasing regularisation. Duality gap: 2.608e+15, tolerance: 5.381e+11\n",
      "  model = cd_fast.enet_coordinate_descent(\n",
      "C:\\Users\\Brian\\anaconda3\\envs\\py3-TF\\lib\\site-packages\\sklearn\\linear_model\\_coordinate_descent.py:648: ConvergenceWarning: Objective did not converge. You might want to increase the number of iterations, check the scale of the features or consider increasing regularisation. Duality gap: 2.591e+15, tolerance: 5.376e+11\n",
      "  model = cd_fast.enet_coordinate_descent(\n",
      "C:\\Users\\Brian\\anaconda3\\envs\\py3-TF\\lib\\site-packages\\sklearn\\linear_model\\_coordinate_descent.py:648: ConvergenceWarning: Objective did not converge. You might want to increase the number of iterations, check the scale of the features or consider increasing regularisation. Duality gap: 2.590e+15, tolerance: 5.375e+11\n",
      "  model = cd_fast.enet_coordinate_descent(\n",
      "C:\\Users\\Brian\\anaconda3\\envs\\py3-TF\\lib\\site-packages\\sklearn\\linear_model\\_coordinate_descent.py:648: ConvergenceWarning: Objective did not converge. You might want to increase the number of iterations, check the scale of the features or consider increasing regularisation. Duality gap: 2.572e+15, tolerance: 5.345e+11\n",
      "  model = cd_fast.enet_coordinate_descent(\n",
      "C:\\Users\\Brian\\anaconda3\\envs\\py3-TF\\lib\\site-packages\\sklearn\\linear_model\\_coordinate_descent.py:648: ConvergenceWarning: Objective did not converge. You might want to increase the number of iterations, check the scale of the features or consider increasing regularisation. Duality gap: 2.572e+15, tolerance: 5.350e+11\n",
      "  model = cd_fast.enet_coordinate_descent(\n"
     ]
    },
    {
     "name": "stderr",
     "output_type": "stream",
     "text": [
      "C:\\Users\\Brian\\anaconda3\\envs\\py3-TF\\lib\\site-packages\\sklearn\\linear_model\\_coordinate_descent.py:648: ConvergenceWarning: Objective did not converge. You might want to increase the number of iterations, check the scale of the features or consider increasing regularisation. Duality gap: 2.602e+15, tolerance: 5.381e+11\n",
      "  model = cd_fast.enet_coordinate_descent(\n",
      "C:\\Users\\Brian\\anaconda3\\envs\\py3-TF\\lib\\site-packages\\sklearn\\linear_model\\_coordinate_descent.py:648: ConvergenceWarning: Objective did not converge. You might want to increase the number of iterations, check the scale of the features or consider increasing regularisation. Duality gap: 2.583e+15, tolerance: 5.376e+11\n",
      "  model = cd_fast.enet_coordinate_descent(\n",
      "C:\\Users\\Brian\\anaconda3\\envs\\py3-TF\\lib\\site-packages\\sklearn\\linear_model\\_coordinate_descent.py:648: ConvergenceWarning: Objective did not converge. You might want to increase the number of iterations, check the scale of the features or consider increasing regularisation. Duality gap: 2.375e+15, tolerance: 5.375e+11\n",
      "  model = cd_fast.enet_coordinate_descent(\n",
      "C:\\Users\\Brian\\anaconda3\\envs\\py3-TF\\lib\\site-packages\\sklearn\\linear_model\\_coordinate_descent.py:648: ConvergenceWarning: Objective did not converge. You might want to increase the number of iterations, check the scale of the features or consider increasing regularisation. Duality gap: 2.567e+15, tolerance: 5.345e+11\n",
      "  model = cd_fast.enet_coordinate_descent(\n",
      "C:\\Users\\Brian\\anaconda3\\envs\\py3-TF\\lib\\site-packages\\sklearn\\linear_model\\_coordinate_descent.py:648: ConvergenceWarning: Objective did not converge. You might want to increase the number of iterations, check the scale of the features or consider increasing regularisation. Duality gap: 2.578e+15, tolerance: 5.350e+11\n",
      "  model = cd_fast.enet_coordinate_descent(\n",
      "C:\\Users\\Brian\\anaconda3\\envs\\py3-TF\\lib\\site-packages\\sklearn\\linear_model\\_coordinate_descent.py:648: ConvergenceWarning: Objective did not converge. You might want to increase the number of iterations, check the scale of the features or consider increasing regularisation. Duality gap: 2.608e+15, tolerance: 5.381e+11\n",
      "  model = cd_fast.enet_coordinate_descent(\n",
      "C:\\Users\\Brian\\anaconda3\\envs\\py3-TF\\lib\\site-packages\\sklearn\\linear_model\\_coordinate_descent.py:648: ConvergenceWarning: Objective did not converge. You might want to increase the number of iterations, check the scale of the features or consider increasing regularisation. Duality gap: 2.590e+15, tolerance: 5.376e+11\n",
      "  model = cd_fast.enet_coordinate_descent(\n",
      "C:\\Users\\Brian\\anaconda3\\envs\\py3-TF\\lib\\site-packages\\sklearn\\linear_model\\_coordinate_descent.py:648: ConvergenceWarning: Objective did not converge. You might want to increase the number of iterations, check the scale of the features or consider increasing regularisation. Duality gap: 2.590e+15, tolerance: 5.375e+11\n",
      "  model = cd_fast.enet_coordinate_descent(\n",
      "C:\\Users\\Brian\\anaconda3\\envs\\py3-TF\\lib\\site-packages\\sklearn\\linear_model\\_coordinate_descent.py:648: ConvergenceWarning: Objective did not converge. You might want to increase the number of iterations, check the scale of the features or consider increasing regularisation. Duality gap: 2.572e+15, tolerance: 5.345e+11\n",
      "  model = cd_fast.enet_coordinate_descent(\n",
      "C:\\Users\\Brian\\anaconda3\\envs\\py3-TF\\lib\\site-packages\\sklearn\\linear_model\\_coordinate_descent.py:648: ConvergenceWarning: Objective did not converge. You might want to increase the number of iterations, check the scale of the features or consider increasing regularisation. Duality gap: 2.570e+15, tolerance: 5.350e+11\n",
      "  model = cd_fast.enet_coordinate_descent(\n",
      "C:\\Users\\Brian\\anaconda3\\envs\\py3-TF\\lib\\site-packages\\sklearn\\linear_model\\_coordinate_descent.py:648: ConvergenceWarning: Objective did not converge. You might want to increase the number of iterations, check the scale of the features or consider increasing regularisation. Duality gap: 2.548e+15, tolerance: 5.381e+11\n",
      "  model = cd_fast.enet_coordinate_descent(\n",
      "C:\\Users\\Brian\\anaconda3\\envs\\py3-TF\\lib\\site-packages\\sklearn\\linear_model\\_coordinate_descent.py:648: ConvergenceWarning: Objective did not converge. You might want to increase the number of iterations, check the scale of the features or consider increasing regularisation. Duality gap: 2.582e+15, tolerance: 5.376e+11\n",
      "  model = cd_fast.enet_coordinate_descent(\n",
      "C:\\Users\\Brian\\anaconda3\\envs\\py3-TF\\lib\\site-packages\\sklearn\\linear_model\\_coordinate_descent.py:648: ConvergenceWarning: Objective did not converge. You might want to increase the number of iterations, check the scale of the features or consider increasing regularisation. Duality gap: 2.567e+15, tolerance: 5.375e+11\n",
      "  model = cd_fast.enet_coordinate_descent(\n",
      "C:\\Users\\Brian\\anaconda3\\envs\\py3-TF\\lib\\site-packages\\sklearn\\linear_model\\_coordinate_descent.py:648: ConvergenceWarning: Objective did not converge. You might want to increase the number of iterations, check the scale of the features or consider increasing regularisation. Duality gap: 2.560e+15, tolerance: 5.345e+11\n",
      "  model = cd_fast.enet_coordinate_descent(\n",
      "C:\\Users\\Brian\\anaconda3\\envs\\py3-TF\\lib\\site-packages\\sklearn\\linear_model\\_coordinate_descent.py:648: ConvergenceWarning: Objective did not converge. You might want to increase the number of iterations, check the scale of the features or consider increasing regularisation. Duality gap: 3.243e+15, tolerance: 6.690e+11\n",
      "  model = cd_fast.enet_coordinate_descent(\n",
      "C:\\Users\\Brian\\anaconda3\\envs\\py3-TF\\lib\\site-packages\\sklearn\\tree\\_classes.py:397: FutureWarning: Criterion 'mse' was deprecated in v1.0 and will be removed in version 1.2. Use `criterion='squared_error'` which is equivalent.\n",
      "  warnings.warn(\n",
      "C:\\Users\\Brian\\anaconda3\\envs\\py3-TF\\lib\\site-packages\\sklearn\\tree\\_classes.py:397: FutureWarning: Criterion 'mse' was deprecated in v1.0 and will be removed in version 1.2. Use `criterion='squared_error'` which is equivalent.\n",
      "  warnings.warn(\n",
      "C:\\Users\\Brian\\anaconda3\\envs\\py3-TF\\lib\\site-packages\\sklearn\\tree\\_classes.py:397: FutureWarning: Criterion 'mse' was deprecated in v1.0 and will be removed in version 1.2. Use `criterion='squared_error'` which is equivalent.\n",
      "  warnings.warn(\n",
      "C:\\Users\\Brian\\anaconda3\\envs\\py3-TF\\lib\\site-packages\\sklearn\\tree\\_classes.py:397: FutureWarning: Criterion 'mse' was deprecated in v1.0 and will be removed in version 1.2. Use `criterion='squared_error'` which is equivalent.\n",
      "  warnings.warn(\n",
      "C:\\Users\\Brian\\anaconda3\\envs\\py3-TF\\lib\\site-packages\\sklearn\\tree\\_classes.py:397: FutureWarning: Criterion 'mse' was deprecated in v1.0 and will be removed in version 1.2. Use `criterion='squared_error'` which is equivalent.\n",
      "  warnings.warn(\n",
      "C:\\Users\\Brian\\anaconda3\\envs\\py3-TF\\lib\\site-packages\\sklearn\\tree\\_classes.py:397: FutureWarning: Criterion 'mse' was deprecated in v1.0 and will be removed in version 1.2. Use `criterion='squared_error'` which is equivalent.\n",
      "  warnings.warn(\n",
      "C:\\Users\\Brian\\anaconda3\\envs\\py3-TF\\lib\\site-packages\\sklearn\\tree\\_classes.py:397: FutureWarning: Criterion 'mse' was deprecated in v1.0 and will be removed in version 1.2. Use `criterion='squared_error'` which is equivalent.\n",
      "  warnings.warn(\n",
      "C:\\Users\\Brian\\anaconda3\\envs\\py3-TF\\lib\\site-packages\\sklearn\\tree\\_classes.py:397: FutureWarning: Criterion 'mse' was deprecated in v1.0 and will be removed in version 1.2. Use `criterion='squared_error'` which is equivalent.\n",
      "  warnings.warn(\n",
      "C:\\Users\\Brian\\anaconda3\\envs\\py3-TF\\lib\\site-packages\\sklearn\\tree\\_classes.py:397: FutureWarning: Criterion 'mse' was deprecated in v1.0 and will be removed in version 1.2. Use `criterion='squared_error'` which is equivalent.\n",
      "  warnings.warn(\n",
      "C:\\Users\\Brian\\anaconda3\\envs\\py3-TF\\lib\\site-packages\\sklearn\\tree\\_classes.py:397: FutureWarning: Criterion 'mse' was deprecated in v1.0 and will be removed in version 1.2. Use `criterion='squared_error'` which is equivalent.\n",
      "  warnings.warn(\n"
     ]
    },
    {
     "data": {
      "text/html": [
       "<div>\n",
       "<style scoped>\n",
       "    .dataframe tbody tr th:only-of-type {\n",
       "        vertical-align: middle;\n",
       "    }\n",
       "\n",
       "    .dataframe tbody tr th {\n",
       "        vertical-align: top;\n",
       "    }\n",
       "\n",
       "    .dataframe thead th {\n",
       "        text-align: right;\n",
       "    }\n",
       "</style>\n",
       "<table border=\"1\" class=\"dataframe\">\n",
       "  <thead>\n",
       "    <tr style=\"text-align: right;\">\n",
       "      <th></th>\n",
       "      <th>model</th>\n",
       "      <th>best_score</th>\n",
       "      <th>best_params</th>\n",
       "    </tr>\n",
       "  </thead>\n",
       "  <tbody>\n",
       "    <tr>\n",
       "      <th>0</th>\n",
       "      <td>linear_regression</td>\n",
       "      <td>-0.015446</td>\n",
       "      <td>{'normalize': True}</td>\n",
       "    </tr>\n",
       "    <tr>\n",
       "      <th>1</th>\n",
       "      <td>lasso</td>\n",
       "      <td>-0.015099</td>\n",
       "      <td>{'alpha': 2, 'selection': 'random'}</td>\n",
       "    </tr>\n",
       "    <tr>\n",
       "      <th>2</th>\n",
       "      <td>decision_tree</td>\n",
       "      <td>-0.843218</td>\n",
       "      <td>{'criterion': 'friedman_mse', 'splitter': 'ran...</td>\n",
       "    </tr>\n",
       "  </tbody>\n",
       "</table>\n",
       "</div>"
      ],
      "text/plain": [
       "               model  best_score  \\\n",
       "0  linear_regression   -0.015446   \n",
       "1              lasso   -0.015099   \n",
       "2      decision_tree   -0.843218   \n",
       "\n",
       "                                         best_params  \n",
       "0                                {'normalize': True}  \n",
       "1                {'alpha': 2, 'selection': 'random'}  \n",
       "2  {'criterion': 'friedman_mse', 'splitter': 'ran...  "
      ]
     },
     "execution_count": 154,
     "metadata": {},
     "output_type": "execute_result"
    }
   ],
   "source": [
    "from sklearn.model_selection import GridSearchCV\n",
    "\n",
    "from sklearn.linear_model import Lasso\n",
    "from sklearn.tree import DecisionTreeRegressor\n",
    "\n",
    "def find_best_model_using_gridsearchcv(X,y):\n",
    "    algos = {\n",
    "        'linear_regression' : {\n",
    "            'model': LinearRegression(),\n",
    "            'params': {\n",
    "                'normalize': [True, False]\n",
    "            }\n",
    "        },\n",
    "        'lasso': {\n",
    "            'model': Lasso(),\n",
    "            'params': {\n",
    "                'alpha': [1,2],\n",
    "                'selection': ['random', 'cyclic']\n",
    "            }\n",
    "        },\n",
    "        'decision_tree': {\n",
    "            'model': DecisionTreeRegressor(),\n",
    "            'params': {\n",
    "                'criterion' : ['mse','friedman_mse'],\n",
    "                'splitter': ['best','random']\n",
    "            }\n",
    "        }\n",
    "    }\n",
    "    scores = []\n",
    "    cv = ShuffleSplit(n_splits=5, test_size=0.2, random_state=0)\n",
    "    for algo_name, config in algos.items():\n",
    "        gs =  GridSearchCV(config['model'], config['params'], cv=cv, return_train_score=False)\n",
    "        gs.fit(X,y)\n",
    "        scores.append({\n",
    "            'model': algo_name,\n",
    "            'best_score': gs.best_score_,\n",
    "            'best_params': gs.best_params_\n",
    "        })\n",
    "\n",
    "    return pd.DataFrame(scores,columns=['model','best_score','best_params'])\n",
    "\n",
    "find_best_model_using_gridsearchcv(X,y)"
   ]
  },
  {
   "cell_type": "markdown",
   "id": "6c0a0295",
   "metadata": {},
   "source": [
    "### Random Forest regressor"
   ]
  },
  {
   "cell_type": "code",
   "execution_count": 155,
   "id": "7372aa7b",
   "metadata": {},
   "outputs": [
    {
     "data": {
      "text/plain": [
       "-0.28280362433100725"
      ]
     },
     "execution_count": 155,
     "metadata": {},
     "output_type": "execute_result"
    }
   ],
   "source": [
    "from sklearn.ensemble import RandomForestRegressor\n",
    "rf_reg = RandomForestRegressor(n_estimators = 100, random_state = 0)\n",
    "rf_reg.fit(X_train, y_train) \n",
    "rf_reg.score(X_test,y_test)"
   ]
  },
  {
   "cell_type": "markdown",
   "id": "f4eddc19",
   "metadata": {},
   "source": [
    "### Decision Tree regressor"
   ]
  },
  {
   "cell_type": "code",
   "execution_count": 167,
   "id": "f442ffb1",
   "metadata": {},
   "outputs": [
    {
     "data": {
      "text/html": [
       "<style>#sk-container-id-1 {color: black;background-color: white;}#sk-container-id-1 pre{padding: 0;}#sk-container-id-1 div.sk-toggleable {background-color: white;}#sk-container-id-1 label.sk-toggleable__label {cursor: pointer;display: block;width: 100%;margin-bottom: 0;padding: 0.3em;box-sizing: border-box;text-align: center;}#sk-container-id-1 label.sk-toggleable__label-arrow:before {content: \"▸\";float: left;margin-right: 0.25em;color: #696969;}#sk-container-id-1 label.sk-toggleable__label-arrow:hover:before {color: black;}#sk-container-id-1 div.sk-estimator:hover label.sk-toggleable__label-arrow:before {color: black;}#sk-container-id-1 div.sk-toggleable__content {max-height: 0;max-width: 0;overflow: hidden;text-align: left;background-color: #f0f8ff;}#sk-container-id-1 div.sk-toggleable__content pre {margin: 0.2em;color: black;border-radius: 0.25em;background-color: #f0f8ff;}#sk-container-id-1 input.sk-toggleable__control:checked~div.sk-toggleable__content {max-height: 200px;max-width: 100%;overflow: auto;}#sk-container-id-1 input.sk-toggleable__control:checked~label.sk-toggleable__label-arrow:before {content: \"▾\";}#sk-container-id-1 div.sk-estimator input.sk-toggleable__control:checked~label.sk-toggleable__label {background-color: #d4ebff;}#sk-container-id-1 div.sk-label input.sk-toggleable__control:checked~label.sk-toggleable__label {background-color: #d4ebff;}#sk-container-id-1 input.sk-hidden--visually {border: 0;clip: rect(1px 1px 1px 1px);clip: rect(1px, 1px, 1px, 1px);height: 1px;margin: -1px;overflow: hidden;padding: 0;position: absolute;width: 1px;}#sk-container-id-1 div.sk-estimator {font-family: monospace;background-color: #f0f8ff;border: 1px dotted black;border-radius: 0.25em;box-sizing: border-box;margin-bottom: 0.5em;}#sk-container-id-1 div.sk-estimator:hover {background-color: #d4ebff;}#sk-container-id-1 div.sk-parallel-item::after {content: \"\";width: 100%;border-bottom: 1px solid gray;flex-grow: 1;}#sk-container-id-1 div.sk-label:hover label.sk-toggleable__label {background-color: #d4ebff;}#sk-container-id-1 div.sk-serial::before {content: \"\";position: absolute;border-left: 1px solid gray;box-sizing: border-box;top: 0;bottom: 0;left: 50%;z-index: 0;}#sk-container-id-1 div.sk-serial {display: flex;flex-direction: column;align-items: center;background-color: white;padding-right: 0.2em;padding-left: 0.2em;position: relative;}#sk-container-id-1 div.sk-item {position: relative;z-index: 1;}#sk-container-id-1 div.sk-parallel {display: flex;align-items: stretch;justify-content: center;background-color: white;position: relative;}#sk-container-id-1 div.sk-item::before, #sk-container-id-1 div.sk-parallel-item::before {content: \"\";position: absolute;border-left: 1px solid gray;box-sizing: border-box;top: 0;bottom: 0;left: 50%;z-index: -1;}#sk-container-id-1 div.sk-parallel-item {display: flex;flex-direction: column;z-index: 1;position: relative;background-color: white;}#sk-container-id-1 div.sk-parallel-item:first-child::after {align-self: flex-end;width: 50%;}#sk-container-id-1 div.sk-parallel-item:last-child::after {align-self: flex-start;width: 50%;}#sk-container-id-1 div.sk-parallel-item:only-child::after {width: 0;}#sk-container-id-1 div.sk-dashed-wrapped {border: 1px dashed gray;margin: 0 0.4em 0.5em 0.4em;box-sizing: border-box;padding-bottom: 0.4em;background-color: white;}#sk-container-id-1 div.sk-label label {font-family: monospace;font-weight: bold;display: inline-block;line-height: 1.2em;}#sk-container-id-1 div.sk-label-container {text-align: center;}#sk-container-id-1 div.sk-container {/* jupyter's `normalize.less` sets `[hidden] { display: none; }` but bootstrap.min.css set `[hidden] { display: none !important; }` so we also need the `!important` here to be able to override the default hidden behavior on the sphinx rendered scikit-learn.org. See: https://github.com/scikit-learn/scikit-learn/issues/21755 */display: inline-block !important;position: relative;}#sk-container-id-1 div.sk-text-repr-fallback {display: none;}</style><div id=\"sk-container-id-1\" class=\"sk-top-container\"><div class=\"sk-text-repr-fallback\"><pre>DecisionTreeRegressor(random_state=0)</pre><b>In a Jupyter environment, please rerun this cell to show the HTML representation or trust the notebook. <br />On GitHub, the HTML representation is unable to render, please try loading this page with nbviewer.org.</b></div><div class=\"sk-container\" hidden><div class=\"sk-item\"><div class=\"sk-estimator sk-toggleable\"><input class=\"sk-toggleable__control sk-hidden--visually\" id=\"sk-estimator-id-1\" type=\"checkbox\" checked><label for=\"sk-estimator-id-1\" class=\"sk-toggleable__label sk-toggleable__label-arrow\">DecisionTreeRegressor</label><div class=\"sk-toggleable__content\"><pre>DecisionTreeRegressor(random_state=0)</pre></div></div></div></div></div>"
      ],
      "text/plain": [
       "DecisionTreeRegressor(random_state=0)"
      ]
     },
     "execution_count": 167,
     "metadata": {},
     "output_type": "execute_result"
    }
   ],
   "source": [
    "from sklearn.tree import DecisionTreeRegressor \n",
    "# create a regressor object\n",
    "dt_reg = DecisionTreeRegressor(random_state = 0)   \n",
    "# fit the regressor with X and Y data\n",
    "dt_reg.fit(X_train, y_train)"
   ]
  },
  {
   "cell_type": "code",
   "execution_count": 168,
   "id": "be86b4cc",
   "metadata": {},
   "outputs": [
    {
     "data": {
      "text/plain": [
       "58.99661023043001"
      ]
     },
     "execution_count": 168,
     "metadata": {},
     "output_type": "execute_result"
    }
   ],
   "source": [
    "dt_pred = dt_reg.predict(X_test)\n",
    "get_score(rf_pred, y_test)"
   ]
  },
  {
   "cell_type": "markdown",
   "id": "dfa057b3",
   "metadata": {},
   "source": [
    "## Defining my own scores"
   ]
  },
  {
   "cell_type": "code",
   "execution_count": 162,
   "id": "96e7a0cd",
   "metadata": {},
   "outputs": [],
   "source": [
    "# The average pecentage difference between the predicted and teh test variables\n",
    "def get_score(pred, test):\n",
    "    df_r = pd.DataFrame({'pred':pred,'test':test})\n",
    "    df_r['error'] = abs((df_r['pred']-df_r['test'])/df_r['test'])*100\n",
    "    return df_r.error.mean()"
   ]
  },
  {
   "cell_type": "code",
   "execution_count": 163,
   "id": "a2592bf9",
   "metadata": {},
   "outputs": [
    {
     "data": {
      "text/plain": [
       "58.99661023043001"
      ]
     },
     "execution_count": 163,
     "metadata": {},
     "output_type": "execute_result"
    }
   ],
   "source": [
    "rf_pred = rf_reg.predict(X_test)\n",
    "get_score(rf_pred, y_test)"
   ]
  },
  {
   "cell_type": "code",
   "execution_count": 164,
   "id": "4df525e8",
   "metadata": {},
   "outputs": [
    {
     "data": {
      "text/plain": [
       "55.43638700109826"
      ]
     },
     "execution_count": 164,
     "metadata": {},
     "output_type": "execute_result"
    }
   ],
   "source": [
    "get_score(lr_pred, y_test)"
   ]
  },
  {
   "cell_type": "code",
   "execution_count": null,
   "id": "a6faba00",
   "metadata": {},
   "outputs": [],
   "source": []
  }
 ],
 "metadata": {
  "kernelspec": {
   "display_name": "Python [conda env:py3-TF]",
   "language": "python",
   "name": "conda-env-py3-TF-py"
  },
  "language_info": {
   "codemirror_mode": {
    "name": "ipython",
    "version": 3
   },
   "file_extension": ".py",
   "mimetype": "text/x-python",
   "name": "python",
   "nbconvert_exporter": "python",
   "pygments_lexer": "ipython3",
   "version": "3.8.13"
  }
 },
 "nbformat": 4,
 "nbformat_minor": 5
}
