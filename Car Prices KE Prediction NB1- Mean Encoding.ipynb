{
 "cells": [
  {
   "cell_type": "markdown",
   "id": "f715a438",
   "metadata": {},
   "source": [
    "# Predicting car prices in Kenya with data collected from Jiji.co.ke"
   ]
  },
  {
   "cell_type": "code",
   "execution_count": 1,
   "id": "5807cb3e",
   "metadata": {},
   "outputs": [],
   "source": [
    "import pandas as pd\n",
    "import numpy as np\n",
    "from matplotlib import pyplot as plt\n",
    "%matplotlib inline\n",
    "import matplotlib \n",
    "matplotlib.rcParams[\"figure.figsize\"] = (20,10)"
   ]
  },
  {
   "cell_type": "code",
   "execution_count": 2,
   "id": "9d6fe2d6",
   "metadata": {},
   "outputs": [
    {
     "name": "stderr",
     "output_type": "stream",
     "text": [
      "C:\\Users\\Brian\\AppData\\Local\\Temp\\ipykernel_896\\3609153498.py:1: DtypeWarning: Columns (9) have mixed types. Specify dtype option on import or set low_memory=False.\n",
      "  df1= pd.read_csv('general_car_data.csv')\n"
     ]
    },
    {
     "data": {
      "text/html": [
       "<div>\n",
       "<style scoped>\n",
       "    .dataframe tbody tr th:only-of-type {\n",
       "        vertical-align: middle;\n",
       "    }\n",
       "\n",
       "    .dataframe tbody tr th {\n",
       "        vertical-align: top;\n",
       "    }\n",
       "\n",
       "    .dataframe thead th {\n",
       "        text-align: right;\n",
       "    }\n",
       "</style>\n",
       "<table border=\"1\" class=\"dataframe\">\n",
       "  <thead>\n",
       "    <tr style=\"text-align: right;\">\n",
       "      <th></th>\n",
       "      <th>Unnamed: 0</th>\n",
       "      <th>Condition</th>\n",
       "      <th>Make</th>\n",
       "      <th>Body</th>\n",
       "      <th>Fuel</th>\n",
       "      <th>Second Condition</th>\n",
       "      <th>Registered Car</th>\n",
       "      <th>Model</th>\n",
       "      <th>Exchange Possible</th>\n",
       "      <th>Seats</th>\n",
       "      <th>...</th>\n",
       "      <th>region_name</th>\n",
       "      <th>count_images</th>\n",
       "      <th>count_views</th>\n",
       "      <th>id_y</th>\n",
       "      <th>description</th>\n",
       "      <th>boost</th>\n",
       "      <th>min_est</th>\n",
       "      <th>max_est</th>\n",
       "      <th>paid_infor</th>\n",
       "      <th>avg_est</th>\n",
       "    </tr>\n",
       "  </thead>\n",
       "  <tbody>\n",
       "    <tr>\n",
       "      <th>0</th>\n",
       "      <td>0</td>\n",
       "      <td>Kenyan Used</td>\n",
       "      <td>Toyota</td>\n",
       "      <td>NaN</td>\n",
       "      <td>NaN</td>\n",
       "      <td>['Original parts', 'Unpainted', 'No faults']</td>\n",
       "      <td>Yes</td>\n",
       "      <td>Crown</td>\n",
       "      <td>['No']</td>\n",
       "      <td>NaN</td>\n",
       "      <td>...</td>\n",
       "      <td>Kilimani</td>\n",
       "      <td>5.0</td>\n",
       "      <td>125.0</td>\n",
       "      <td>10593924.0</td>\n",
       "      <td>Alloy wheels Fog lights Steering controls beig...</td>\n",
       "      <td>40X Diamond</td>\n",
       "      <td>1400000.0</td>\n",
       "      <td>1450000.0</td>\n",
       "      <td>Sponsored</td>\n",
       "      <td>1425000.0</td>\n",
       "    </tr>\n",
       "    <tr>\n",
       "      <th>1</th>\n",
       "      <td>1</td>\n",
       "      <td>Foreign Used</td>\n",
       "      <td>Mazda</td>\n",
       "      <td>NaN</td>\n",
       "      <td>NaN</td>\n",
       "      <td>['No faults']</td>\n",
       "      <td>NaN</td>\n",
       "      <td>CX-5</td>\n",
       "      <td>NaN</td>\n",
       "      <td>NaN</td>\n",
       "      <td>...</td>\n",
       "      <td>Kilimani</td>\n",
       "      <td>8.0</td>\n",
       "      <td>36.0</td>\n",
       "      <td>10717151.0</td>\n",
       "      <td>Mazda CX-5, petrol, 2016, 2000cc, white in col...</td>\n",
       "      <td>VIP TOP+</td>\n",
       "      <td>2500000.0</td>\n",
       "      <td>2650000.0</td>\n",
       "      <td>Sponsored</td>\n",
       "      <td>2575000.0</td>\n",
       "    </tr>\n",
       "    <tr>\n",
       "      <th>2</th>\n",
       "      <td>2</td>\n",
       "      <td>Foreign Used</td>\n",
       "      <td>Mazda</td>\n",
       "      <td>NaN</td>\n",
       "      <td>NaN</td>\n",
       "      <td>['No faults']</td>\n",
       "      <td>Yes</td>\n",
       "      <td>Demio</td>\n",
       "      <td>NaN</td>\n",
       "      <td>NaN</td>\n",
       "      <td>...</td>\n",
       "      <td>Ridgeways</td>\n",
       "      <td>6.0</td>\n",
       "      <td>314.0</td>\n",
       "      <td>10417467.0</td>\n",
       "      <td>2015 Mazda demio diesel,alloy rims, steering c...</td>\n",
       "      <td>VIP TOP+</td>\n",
       "      <td>1080000.0</td>\n",
       "      <td>1100000.0</td>\n",
       "      <td>Sponsored</td>\n",
       "      <td>1090000.0</td>\n",
       "    </tr>\n",
       "    <tr>\n",
       "      <th>3</th>\n",
       "      <td>3</td>\n",
       "      <td>Kenyan Used</td>\n",
       "      <td>Mazda</td>\n",
       "      <td>NaN</td>\n",
       "      <td>NaN</td>\n",
       "      <td>['No faults', 'Original parts']</td>\n",
       "      <td>Yes</td>\n",
       "      <td>CX-5</td>\n",
       "      <td>NaN</td>\n",
       "      <td>NaN</td>\n",
       "      <td>...</td>\n",
       "      <td>Langata</td>\n",
       "      <td>9.0</td>\n",
       "      <td>87.0</td>\n",
       "      <td>10754171.0</td>\n",
       "      <td>2200cc Diesel,\\nSkyactive,\\ncruise control,\\nI...</td>\n",
       "      <td>VIP TOP+</td>\n",
       "      <td>NaN</td>\n",
       "      <td>NaN</td>\n",
       "      <td>Sponsored</td>\n",
       "      <td>NaN</td>\n",
       "    </tr>\n",
       "    <tr>\n",
       "      <th>4</th>\n",
       "      <td>4</td>\n",
       "      <td>Foreign Used</td>\n",
       "      <td>Peugeot</td>\n",
       "      <td>NaN</td>\n",
       "      <td>NaN</td>\n",
       "      <td>['No faults']</td>\n",
       "      <td>No</td>\n",
       "      <td>508</td>\n",
       "      <td>['Yes']</td>\n",
       "      <td>NaN</td>\n",
       "      <td>...</td>\n",
       "      <td>Nairobi Central</td>\n",
       "      <td>17.0</td>\n",
       "      <td>2344.0</td>\n",
       "      <td>7115429.0</td>\n",
       "      <td>Peugeot 508 \\n\\n2014 Model | 1600cc petrol eng...</td>\n",
       "      <td>5X Diamond</td>\n",
       "      <td>NaN</td>\n",
       "      <td>NaN</td>\n",
       "      <td>Sponsored</td>\n",
       "      <td>NaN</td>\n",
       "    </tr>\n",
       "  </tbody>\n",
       "</table>\n",
       "<p>5 rows × 39 columns</p>\n",
       "</div>"
      ],
      "text/plain": [
       "   Unnamed: 0     Condition     Make Body Fuel  \\\n",
       "0           0   Kenyan Used   Toyota  NaN  NaN   \n",
       "1           1  Foreign Used    Mazda  NaN  NaN   \n",
       "2           2  Foreign Used    Mazda  NaN  NaN   \n",
       "3           3   Kenyan Used    Mazda  NaN  NaN   \n",
       "4           4  Foreign Used  Peugeot  NaN  NaN   \n",
       "\n",
       "                               Second Condition Registered Car  Model  \\\n",
       "0  ['Original parts', 'Unpainted', 'No faults']            Yes  Crown   \n",
       "1                                 ['No faults']            NaN   CX-5   \n",
       "2                                 ['No faults']            Yes  Demio   \n",
       "3               ['No faults', 'Original parts']            Yes   CX-5   \n",
       "4                                 ['No faults']             No    508   \n",
       "\n",
       "  Exchange Possible Seats  ...      region_name count_images count_views  \\\n",
       "0            ['No']   NaN  ...         Kilimani          5.0       125.0   \n",
       "1               NaN   NaN  ...         Kilimani          8.0        36.0   \n",
       "2               NaN   NaN  ...        Ridgeways          6.0       314.0   \n",
       "3               NaN   NaN  ...          Langata          9.0        87.0   \n",
       "4           ['Yes']   NaN  ...  Nairobi Central         17.0      2344.0   \n",
       "\n",
       "         id_y                                        description        boost  \\\n",
       "0  10593924.0  Alloy wheels Fog lights Steering controls beig...  40X Diamond   \n",
       "1  10717151.0  Mazda CX-5, petrol, 2016, 2000cc, white in col...     VIP TOP+   \n",
       "2  10417467.0  2015 Mazda demio diesel,alloy rims, steering c...     VIP TOP+   \n",
       "3  10754171.0  2200cc Diesel,\\nSkyactive,\\ncruise control,\\nI...     VIP TOP+   \n",
       "4   7115429.0  Peugeot 508 \\n\\n2014 Model | 1600cc petrol eng...   5X Diamond   \n",
       "\n",
       "     min_est    max_est  paid_infor    avg_est  \n",
       "0  1400000.0  1450000.0   Sponsored  1425000.0  \n",
       "1  2500000.0  2650000.0   Sponsored  2575000.0  \n",
       "2  1080000.0  1100000.0   Sponsored  1090000.0  \n",
       "3        NaN        NaN   Sponsored        NaN  \n",
       "4        NaN        NaN   Sponsored        NaN  \n",
       "\n",
       "[5 rows x 39 columns]"
      ]
     },
     "execution_count": 2,
     "metadata": {},
     "output_type": "execute_result"
    }
   ],
   "source": [
    "df1= pd.read_csv('general_car_data.csv')\n",
    "df1.head()"
   ]
  },
  {
   "cell_type": "code",
   "execution_count": 3,
   "id": "1f471831",
   "metadata": {},
   "outputs": [
    {
     "data": {
      "text/plain": [
       "Index(['Unnamed: 0', 'Condition', 'Make', 'Body', 'Fuel', 'Second Condition',\n",
       "       'Registered Car', 'Model', 'Exchange Possible', 'Seats',\n",
       "       'Year of Manufacture', 'Color', 'Transmission', 'Mileage',\n",
       "       'price_valuation_txt', 'price_estimate', 'selling_price', 'advert_id',\n",
       "       'id_x', 'name', 'date_created_x', 'phone', 'page_url', 'adverts_count',\n",
       "       'status', 'date_created_y', 'date_moderated', 'date_edited',\n",
       "       'paid_info', 'region_name', 'count_images', 'count_views', 'id_y',\n",
       "       'description', 'boost', 'min_est', 'max_est', 'paid_infor', 'avg_est'],\n",
       "      dtype='object')"
      ]
     },
     "execution_count": 3,
     "metadata": {},
     "output_type": "execute_result"
    }
   ],
   "source": [
    "df1.columns"
   ]
  },
  {
   "cell_type": "code",
   "execution_count": 4,
   "id": "7888595f",
   "metadata": {},
   "outputs": [],
   "source": [
    "# Creat a new column called Age:\n",
    "df1['Age']= df1['Year of Manufacture'].apply(lambda x: (2022-int(x)) if pd.notna(x)  else x)"
   ]
  },
  {
   "cell_type": "markdown",
   "id": "1f8b2219",
   "metadata": {},
   "source": [
    "### Select features that can be used in training"
   ]
  },
  {
   "cell_type": "code",
   "execution_count": 5,
   "id": "d345206e",
   "metadata": {},
   "outputs": [],
   "source": [
    "selected_cols= ['Condition', 'Make','Model','Age','Transmission','Mileage', 'selling_price', 'Color','Registered Car','region_name', 'min_est', 'max_est']"
   ]
  },
  {
   "cell_type": "code",
   "execution_count": 6,
   "id": "186a90b3",
   "metadata": {},
   "outputs": [
    {
     "data": {
      "text/html": [
       "<div>\n",
       "<style scoped>\n",
       "    .dataframe tbody tr th:only-of-type {\n",
       "        vertical-align: middle;\n",
       "    }\n",
       "\n",
       "    .dataframe tbody tr th {\n",
       "        vertical-align: top;\n",
       "    }\n",
       "\n",
       "    .dataframe thead th {\n",
       "        text-align: right;\n",
       "    }\n",
       "</style>\n",
       "<table border=\"1\" class=\"dataframe\">\n",
       "  <thead>\n",
       "    <tr style=\"text-align: right;\">\n",
       "      <th></th>\n",
       "      <th>Condition</th>\n",
       "      <th>Make</th>\n",
       "      <th>Model</th>\n",
       "      <th>Age</th>\n",
       "      <th>Transmission</th>\n",
       "      <th>Mileage</th>\n",
       "      <th>selling_price</th>\n",
       "      <th>Color</th>\n",
       "      <th>Registered Car</th>\n",
       "      <th>region_name</th>\n",
       "      <th>min_est</th>\n",
       "      <th>max_est</th>\n",
       "    </tr>\n",
       "  </thead>\n",
       "  <tbody>\n",
       "    <tr>\n",
       "      <th>0</th>\n",
       "      <td>Kenyan Used</td>\n",
       "      <td>Toyota</td>\n",
       "      <td>Crown</td>\n",
       "      <td>10.0</td>\n",
       "      <td>Automatic</td>\n",
       "      <td>NaN</td>\n",
       "      <td>1270000.0</td>\n",
       "      <td>White</td>\n",
       "      <td>Yes</td>\n",
       "      <td>Kilimani</td>\n",
       "      <td>1400000.0</td>\n",
       "      <td>1450000.0</td>\n",
       "    </tr>\n",
       "    <tr>\n",
       "      <th>1</th>\n",
       "      <td>Foreign Used</td>\n",
       "      <td>Mazda</td>\n",
       "      <td>CX-5</td>\n",
       "      <td>6.0</td>\n",
       "      <td>Automatic</td>\n",
       "      <td>74000.0</td>\n",
       "      <td>2750000.0</td>\n",
       "      <td>White</td>\n",
       "      <td>NaN</td>\n",
       "      <td>Kilimani</td>\n",
       "      <td>2500000.0</td>\n",
       "      <td>2650000.0</td>\n",
       "    </tr>\n",
       "    <tr>\n",
       "      <th>2</th>\n",
       "      <td>Foreign Used</td>\n",
       "      <td>Mazda</td>\n",
       "      <td>Demio</td>\n",
       "      <td>7.0</td>\n",
       "      <td>Automatic</td>\n",
       "      <td>117000.0</td>\n",
       "      <td>1090000.0</td>\n",
       "      <td>Silver</td>\n",
       "      <td>Yes</td>\n",
       "      <td>Ridgeways</td>\n",
       "      <td>1080000.0</td>\n",
       "      <td>1100000.0</td>\n",
       "    </tr>\n",
       "    <tr>\n",
       "      <th>3</th>\n",
       "      <td>Kenyan Used</td>\n",
       "      <td>Mazda</td>\n",
       "      <td>CX-5</td>\n",
       "      <td>9.0</td>\n",
       "      <td>AMT</td>\n",
       "      <td>92929.0</td>\n",
       "      <td>1720000.0</td>\n",
       "      <td>Black</td>\n",
       "      <td>Yes</td>\n",
       "      <td>Langata</td>\n",
       "      <td>NaN</td>\n",
       "      <td>NaN</td>\n",
       "    </tr>\n",
       "    <tr>\n",
       "      <th>4</th>\n",
       "      <td>Foreign Used</td>\n",
       "      <td>Peugeot</td>\n",
       "      <td>508</td>\n",
       "      <td>8.0</td>\n",
       "      <td>Automatic</td>\n",
       "      <td>91000.0</td>\n",
       "      <td>1999000.0</td>\n",
       "      <td>Black</td>\n",
       "      <td>No</td>\n",
       "      <td>Nairobi Central</td>\n",
       "      <td>NaN</td>\n",
       "      <td>NaN</td>\n",
       "    </tr>\n",
       "  </tbody>\n",
       "</table>\n",
       "</div>"
      ],
      "text/plain": [
       "      Condition     Make  Model   Age Transmission   Mileage  selling_price  \\\n",
       "0   Kenyan Used   Toyota  Crown  10.0    Automatic       NaN      1270000.0   \n",
       "1  Foreign Used    Mazda   CX-5   6.0    Automatic   74000.0      2750000.0   \n",
       "2  Foreign Used    Mazda  Demio   7.0    Automatic  117000.0      1090000.0   \n",
       "3   Kenyan Used    Mazda   CX-5   9.0          AMT   92929.0      1720000.0   \n",
       "4  Foreign Used  Peugeot    508   8.0    Automatic   91000.0      1999000.0   \n",
       "\n",
       "    Color Registered Car      region_name    min_est    max_est  \n",
       "0   White            Yes         Kilimani  1400000.0  1450000.0  \n",
       "1   White            NaN         Kilimani  2500000.0  2650000.0  \n",
       "2  Silver            Yes        Ridgeways  1080000.0  1100000.0  \n",
       "3   Black            Yes          Langata        NaN        NaN  \n",
       "4   Black             No  Nairobi Central        NaN        NaN  "
      ]
     },
     "execution_count": 6,
     "metadata": {},
     "output_type": "execute_result"
    }
   ],
   "source": [
    "df2= df1[selected_cols]\n",
    "df2.head(5)"
   ]
  },
  {
   "cell_type": "markdown",
   "id": "b24e7509",
   "metadata": {},
   "source": [
    "### Clean data & Drop nulls"
   ]
  },
  {
   "cell_type": "code",
   "execution_count": 7,
   "id": "af1b5eb0",
   "metadata": {},
   "outputs": [
    {
     "data": {
      "text/plain": [
       "Condition          109\n",
       "Make               109\n",
       "Model              109\n",
       "Age                109\n",
       "Transmission        19\n",
       "Mileage           5349\n",
       "selling_price       18\n",
       "Color               22\n",
       "Registered Car    2482\n",
       "region_name         18\n",
       "min_est           3176\n",
       "max_est           3177\n",
       "dtype: int64"
      ]
     },
     "execution_count": 7,
     "metadata": {},
     "output_type": "execute_result"
    }
   ],
   "source": [
    "df2.isnull().sum()"
   ]
  },
  {
   "cell_type": "code",
   "execution_count": 8,
   "id": "d8af0ddc",
   "metadata": {},
   "outputs": [],
   "source": [
    "# For this drop all the nulls - We can modify this later to avoud dropping nulls but substitute.\n",
    "df3 = df2.dropna()"
   ]
  },
  {
   "cell_type": "code",
   "execution_count": 9,
   "id": "c1a6fd52",
   "metadata": {},
   "outputs": [
    {
     "data": {
      "text/html": [
       "<div>\n",
       "<style scoped>\n",
       "    .dataframe tbody tr th:only-of-type {\n",
       "        vertical-align: middle;\n",
       "    }\n",
       "\n",
       "    .dataframe tbody tr th {\n",
       "        vertical-align: top;\n",
       "    }\n",
       "\n",
       "    .dataframe thead th {\n",
       "        text-align: right;\n",
       "    }\n",
       "</style>\n",
       "<table border=\"1\" class=\"dataframe\">\n",
       "  <thead>\n",
       "    <tr style=\"text-align: right;\">\n",
       "      <th></th>\n",
       "      <th>Condition</th>\n",
       "      <th>Make</th>\n",
       "      <th>Model</th>\n",
       "      <th>Age</th>\n",
       "      <th>Transmission</th>\n",
       "      <th>Mileage</th>\n",
       "      <th>selling_price</th>\n",
       "      <th>Color</th>\n",
       "      <th>Registered Car</th>\n",
       "      <th>region_name</th>\n",
       "      <th>min_est</th>\n",
       "      <th>max_est</th>\n",
       "    </tr>\n",
       "  </thead>\n",
       "  <tbody>\n",
       "    <tr>\n",
       "      <th>2</th>\n",
       "      <td>Foreign Used</td>\n",
       "      <td>Mazda</td>\n",
       "      <td>Demio</td>\n",
       "      <td>7.0</td>\n",
       "      <td>Automatic</td>\n",
       "      <td>117000.0</td>\n",
       "      <td>1090000.0</td>\n",
       "      <td>Silver</td>\n",
       "      <td>Yes</td>\n",
       "      <td>Ridgeways</td>\n",
       "      <td>1080000.0</td>\n",
       "      <td>1100000.0</td>\n",
       "    </tr>\n",
       "    <tr>\n",
       "      <th>8</th>\n",
       "      <td>Kenyan Used</td>\n",
       "      <td>Honda</td>\n",
       "      <td>Fit</td>\n",
       "      <td>8.0</td>\n",
       "      <td>Automatic</td>\n",
       "      <td>117000.0</td>\n",
       "      <td>1050000.0</td>\n",
       "      <td>Silver</td>\n",
       "      <td>Yes</td>\n",
       "      <td>Nairobi Central</td>\n",
       "      <td>954500.0</td>\n",
       "      <td>990000.0</td>\n",
       "    </tr>\n",
       "    <tr>\n",
       "      <th>10</th>\n",
       "      <td>Foreign Used</td>\n",
       "      <td>Nissan</td>\n",
       "      <td>X-Trail</td>\n",
       "      <td>7.0</td>\n",
       "      <td>Automatic</td>\n",
       "      <td>87000.0</td>\n",
       "      <td>2500000.0</td>\n",
       "      <td>Black</td>\n",
       "      <td>Yes</td>\n",
       "      <td>Kilimani</td>\n",
       "      <td>2350000.0</td>\n",
       "      <td>2400000.0</td>\n",
       "    </tr>\n",
       "    <tr>\n",
       "      <th>11</th>\n",
       "      <td>Kenyan Used</td>\n",
       "      <td>Volkswagen</td>\n",
       "      <td>Touareg</td>\n",
       "      <td>11.0</td>\n",
       "      <td>Automatic</td>\n",
       "      <td>114500.0</td>\n",
       "      <td>2990000.0</td>\n",
       "      <td>Silver</td>\n",
       "      <td>Yes</td>\n",
       "      <td>Ridgeways</td>\n",
       "      <td>3200000.0</td>\n",
       "      <td>3250000.0</td>\n",
       "    </tr>\n",
       "    <tr>\n",
       "      <th>12</th>\n",
       "      <td>Foreign Used</td>\n",
       "      <td>Toyota</td>\n",
       "      <td>Vitz</td>\n",
       "      <td>8.0</td>\n",
       "      <td>Automatic</td>\n",
       "      <td>76000.0</td>\n",
       "      <td>885000.0</td>\n",
       "      <td>Purple</td>\n",
       "      <td>Yes</td>\n",
       "      <td>Ridgeways</td>\n",
       "      <td>940000.0</td>\n",
       "      <td>970000.0</td>\n",
       "    </tr>\n",
       "  </tbody>\n",
       "</table>\n",
       "</div>"
      ],
      "text/plain": [
       "       Condition        Make    Model   Age Transmission   Mileage  \\\n",
       "2   Foreign Used       Mazda    Demio   7.0    Automatic  117000.0   \n",
       "8    Kenyan Used       Honda      Fit   8.0    Automatic  117000.0   \n",
       "10  Foreign Used      Nissan  X-Trail   7.0    Automatic   87000.0   \n",
       "11   Kenyan Used  Volkswagen  Touareg  11.0    Automatic  114500.0   \n",
       "12  Foreign Used      Toyota     Vitz   8.0    Automatic   76000.0   \n",
       "\n",
       "    selling_price   Color Registered Car      region_name    min_est  \\\n",
       "2       1090000.0  Silver            Yes        Ridgeways  1080000.0   \n",
       "8       1050000.0  Silver            Yes  Nairobi Central   954500.0   \n",
       "10      2500000.0   Black            Yes         Kilimani  2350000.0   \n",
       "11      2990000.0  Silver            Yes        Ridgeways  3200000.0   \n",
       "12       885000.0  Purple            Yes        Ridgeways   940000.0   \n",
       "\n",
       "      max_est  \n",
       "2   1100000.0  \n",
       "8    990000.0  \n",
       "10  2400000.0  \n",
       "11  3250000.0  \n",
       "12   970000.0  "
      ]
     },
     "execution_count": 9,
     "metadata": {},
     "output_type": "execute_result"
    }
   ],
   "source": [
    "df3.head()"
   ]
  },
  {
   "cell_type": "markdown",
   "id": "a6c21f92",
   "metadata": {},
   "source": [
    "## Feature Engineering"
   ]
  },
  {
   "cell_type": "markdown",
   "id": "b9e6f101",
   "metadata": {},
   "source": [
    "#### New feature, mileage/year"
   ]
  },
  {
   "cell_type": "code",
   "execution_count": 10,
   "id": "84fec3e0",
   "metadata": {},
   "outputs": [],
   "source": [
    "df4= df3.copy()"
   ]
  },
  {
   "cell_type": "code",
   "execution_count": 11,
   "id": "74769dc9",
   "metadata": {},
   "outputs": [],
   "source": [
    "def get_mpy(mil, age):\n",
    "    if age>0:\n",
    "        return mil/age\n",
    "    else:\n",
    "        return mil"
   ]
  },
  {
   "cell_type": "code",
   "execution_count": 12,
   "id": "3f7724be",
   "metadata": {},
   "outputs": [
    {
     "data": {
      "text/html": [
       "<div>\n",
       "<style scoped>\n",
       "    .dataframe tbody tr th:only-of-type {\n",
       "        vertical-align: middle;\n",
       "    }\n",
       "\n",
       "    .dataframe tbody tr th {\n",
       "        vertical-align: top;\n",
       "    }\n",
       "\n",
       "    .dataframe thead th {\n",
       "        text-align: right;\n",
       "    }\n",
       "</style>\n",
       "<table border=\"1\" class=\"dataframe\">\n",
       "  <thead>\n",
       "    <tr style=\"text-align: right;\">\n",
       "      <th></th>\n",
       "      <th>Condition</th>\n",
       "      <th>Make</th>\n",
       "      <th>Model</th>\n",
       "      <th>Age</th>\n",
       "      <th>Transmission</th>\n",
       "      <th>Mileage</th>\n",
       "      <th>selling_price</th>\n",
       "      <th>Color</th>\n",
       "      <th>Registered Car</th>\n",
       "      <th>region_name</th>\n",
       "      <th>min_est</th>\n",
       "      <th>max_est</th>\n",
       "      <th>mpy</th>\n",
       "    </tr>\n",
       "  </thead>\n",
       "  <tbody>\n",
       "    <tr>\n",
       "      <th>2</th>\n",
       "      <td>Foreign Used</td>\n",
       "      <td>Mazda</td>\n",
       "      <td>Demio</td>\n",
       "      <td>7.0</td>\n",
       "      <td>Automatic</td>\n",
       "      <td>117000.0</td>\n",
       "      <td>1090000.0</td>\n",
       "      <td>Silver</td>\n",
       "      <td>Yes</td>\n",
       "      <td>Ridgeways</td>\n",
       "      <td>1080000.0</td>\n",
       "      <td>1100000.0</td>\n",
       "      <td>16714.285714</td>\n",
       "    </tr>\n",
       "    <tr>\n",
       "      <th>8</th>\n",
       "      <td>Kenyan Used</td>\n",
       "      <td>Honda</td>\n",
       "      <td>Fit</td>\n",
       "      <td>8.0</td>\n",
       "      <td>Automatic</td>\n",
       "      <td>117000.0</td>\n",
       "      <td>1050000.0</td>\n",
       "      <td>Silver</td>\n",
       "      <td>Yes</td>\n",
       "      <td>Nairobi Central</td>\n",
       "      <td>954500.0</td>\n",
       "      <td>990000.0</td>\n",
       "      <td>14625.000000</td>\n",
       "    </tr>\n",
       "    <tr>\n",
       "      <th>10</th>\n",
       "      <td>Foreign Used</td>\n",
       "      <td>Nissan</td>\n",
       "      <td>X-Trail</td>\n",
       "      <td>7.0</td>\n",
       "      <td>Automatic</td>\n",
       "      <td>87000.0</td>\n",
       "      <td>2500000.0</td>\n",
       "      <td>Black</td>\n",
       "      <td>Yes</td>\n",
       "      <td>Kilimani</td>\n",
       "      <td>2350000.0</td>\n",
       "      <td>2400000.0</td>\n",
       "      <td>12428.571429</td>\n",
       "    </tr>\n",
       "    <tr>\n",
       "      <th>11</th>\n",
       "      <td>Kenyan Used</td>\n",
       "      <td>Volkswagen</td>\n",
       "      <td>Touareg</td>\n",
       "      <td>11.0</td>\n",
       "      <td>Automatic</td>\n",
       "      <td>114500.0</td>\n",
       "      <td>2990000.0</td>\n",
       "      <td>Silver</td>\n",
       "      <td>Yes</td>\n",
       "      <td>Ridgeways</td>\n",
       "      <td>3200000.0</td>\n",
       "      <td>3250000.0</td>\n",
       "      <td>10409.090909</td>\n",
       "    </tr>\n",
       "    <tr>\n",
       "      <th>12</th>\n",
       "      <td>Foreign Used</td>\n",
       "      <td>Toyota</td>\n",
       "      <td>Vitz</td>\n",
       "      <td>8.0</td>\n",
       "      <td>Automatic</td>\n",
       "      <td>76000.0</td>\n",
       "      <td>885000.0</td>\n",
       "      <td>Purple</td>\n",
       "      <td>Yes</td>\n",
       "      <td>Ridgeways</td>\n",
       "      <td>940000.0</td>\n",
       "      <td>970000.0</td>\n",
       "      <td>9500.000000</td>\n",
       "    </tr>\n",
       "  </tbody>\n",
       "</table>\n",
       "</div>"
      ],
      "text/plain": [
       "       Condition        Make    Model   Age Transmission   Mileage  \\\n",
       "2   Foreign Used       Mazda    Demio   7.0    Automatic  117000.0   \n",
       "8    Kenyan Used       Honda      Fit   8.0    Automatic  117000.0   \n",
       "10  Foreign Used      Nissan  X-Trail   7.0    Automatic   87000.0   \n",
       "11   Kenyan Used  Volkswagen  Touareg  11.0    Automatic  114500.0   \n",
       "12  Foreign Used      Toyota     Vitz   8.0    Automatic   76000.0   \n",
       "\n",
       "    selling_price   Color Registered Car      region_name    min_est  \\\n",
       "2       1090000.0  Silver            Yes        Ridgeways  1080000.0   \n",
       "8       1050000.0  Silver            Yes  Nairobi Central   954500.0   \n",
       "10      2500000.0   Black            Yes         Kilimani  2350000.0   \n",
       "11      2990000.0  Silver            Yes        Ridgeways  3200000.0   \n",
       "12       885000.0  Purple            Yes        Ridgeways   940000.0   \n",
       "\n",
       "      max_est           mpy  \n",
       "2   1100000.0  16714.285714  \n",
       "8    990000.0  14625.000000  \n",
       "10  2400000.0  12428.571429  \n",
       "11  3250000.0  10409.090909  \n",
       "12   970000.0   9500.000000  "
      ]
     },
     "execution_count": 12,
     "metadata": {},
     "output_type": "execute_result"
    }
   ],
   "source": [
    "df4['mpy'] = df4.apply(lambda x: get_mpy(x.Mileage, x.Age), axis=1)\n",
    "df4.head()\n"
   ]
  },
  {
   "cell_type": "markdown",
   "id": "1531aae4",
   "metadata": {},
   "source": [
    "### Create new features based on Mean of categorical"
   ]
  },
  {
   "cell_type": "code",
   "execution_count": 13,
   "id": "40ef178a",
   "metadata": {},
   "outputs": [],
   "source": [
    "df4_me = df4.copy()"
   ]
  },
  {
   "cell_type": "code",
   "execution_count": 14,
   "id": "195c7637",
   "metadata": {},
   "outputs": [],
   "source": [
    "# df4_me.columns\n",
    "encode_feat = ['Condition', 'Make', 'Model','Transmission','Color', 'Registered Car']"
   ]
  },
  {
   "cell_type": "code",
   "execution_count": 15,
   "id": "9e9c3b76",
   "metadata": {},
   "outputs": [],
   "source": [
    "def mean_encode(cat_feature):\n",
    "    new_feature = 'ME_'+ cat_feature\n",
    "    me_map = df4_me.groupby([cat_feature])['selling_price'].mean().to_dict()\n",
    "    df4_me[new_feature] =  df4_me[cat_feature].map(me_map)\n",
    "    df4_me.head()"
   ]
  },
  {
   "cell_type": "code",
   "execution_count": 16,
   "id": "da2edcf6",
   "metadata": {},
   "outputs": [
    {
     "data": {
      "text/html": [
       "<div>\n",
       "<style scoped>\n",
       "    .dataframe tbody tr th:only-of-type {\n",
       "        vertical-align: middle;\n",
       "    }\n",
       "\n",
       "    .dataframe tbody tr th {\n",
       "        vertical-align: top;\n",
       "    }\n",
       "\n",
       "    .dataframe thead th {\n",
       "        text-align: right;\n",
       "    }\n",
       "</style>\n",
       "<table border=\"1\" class=\"dataframe\">\n",
       "  <thead>\n",
       "    <tr style=\"text-align: right;\">\n",
       "      <th></th>\n",
       "      <th>Condition</th>\n",
       "      <th>Make</th>\n",
       "      <th>Model</th>\n",
       "      <th>Age</th>\n",
       "      <th>Transmission</th>\n",
       "      <th>Mileage</th>\n",
       "      <th>selling_price</th>\n",
       "      <th>Color</th>\n",
       "      <th>Registered Car</th>\n",
       "      <th>region_name</th>\n",
       "      <th>min_est</th>\n",
       "      <th>max_est</th>\n",
       "      <th>mpy</th>\n",
       "      <th>ME_Condition</th>\n",
       "      <th>ME_Make</th>\n",
       "      <th>ME_Model</th>\n",
       "      <th>ME_Transmission</th>\n",
       "      <th>ME_Color</th>\n",
       "      <th>ME_Registered Car</th>\n",
       "    </tr>\n",
       "  </thead>\n",
       "  <tbody>\n",
       "    <tr>\n",
       "      <th>2</th>\n",
       "      <td>Foreign Used</td>\n",
       "      <td>Mazda</td>\n",
       "      <td>Demio</td>\n",
       "      <td>7.0</td>\n",
       "      <td>Automatic</td>\n",
       "      <td>117000.0</td>\n",
       "      <td>1090000.0</td>\n",
       "      <td>Silver</td>\n",
       "      <td>Yes</td>\n",
       "      <td>Ridgeways</td>\n",
       "      <td>1080000.0</td>\n",
       "      <td>1100000.0</td>\n",
       "      <td>16714.285714</td>\n",
       "      <td>2.330578e+06</td>\n",
       "      <td>2.138480e+06</td>\n",
       "      <td>2.231826e+06</td>\n",
       "      <td>2.320539e+06</td>\n",
       "      <td>2.389948e+06</td>\n",
       "      <td>2.323915e+06</td>\n",
       "    </tr>\n",
       "    <tr>\n",
       "      <th>8</th>\n",
       "      <td>Kenyan Used</td>\n",
       "      <td>Honda</td>\n",
       "      <td>Fit</td>\n",
       "      <td>8.0</td>\n",
       "      <td>Automatic</td>\n",
       "      <td>117000.0</td>\n",
       "      <td>1050000.0</td>\n",
       "      <td>Silver</td>\n",
       "      <td>Yes</td>\n",
       "      <td>Nairobi Central</td>\n",
       "      <td>954500.0</td>\n",
       "      <td>990000.0</td>\n",
       "      <td>14625.000000</td>\n",
       "      <td>2.355062e+06</td>\n",
       "      <td>2.211477e+06</td>\n",
       "      <td>2.108775e+06</td>\n",
       "      <td>2.320539e+06</td>\n",
       "      <td>2.389948e+06</td>\n",
       "      <td>2.323915e+06</td>\n",
       "    </tr>\n",
       "    <tr>\n",
       "      <th>10</th>\n",
       "      <td>Foreign Used</td>\n",
       "      <td>Nissan</td>\n",
       "      <td>X-Trail</td>\n",
       "      <td>7.0</td>\n",
       "      <td>Automatic</td>\n",
       "      <td>87000.0</td>\n",
       "      <td>2500000.0</td>\n",
       "      <td>Black</td>\n",
       "      <td>Yes</td>\n",
       "      <td>Kilimani</td>\n",
       "      <td>2350000.0</td>\n",
       "      <td>2400000.0</td>\n",
       "      <td>12428.571429</td>\n",
       "      <td>2.330578e+06</td>\n",
       "      <td>2.326857e+06</td>\n",
       "      <td>2.251762e+06</td>\n",
       "      <td>2.320539e+06</td>\n",
       "      <td>2.366786e+06</td>\n",
       "      <td>2.323915e+06</td>\n",
       "    </tr>\n",
       "    <tr>\n",
       "      <th>11</th>\n",
       "      <td>Kenyan Used</td>\n",
       "      <td>Volkswagen</td>\n",
       "      <td>Touareg</td>\n",
       "      <td>11.0</td>\n",
       "      <td>Automatic</td>\n",
       "      <td>114500.0</td>\n",
       "      <td>2990000.0</td>\n",
       "      <td>Silver</td>\n",
       "      <td>Yes</td>\n",
       "      <td>Ridgeways</td>\n",
       "      <td>3200000.0</td>\n",
       "      <td>3250000.0</td>\n",
       "      <td>10409.090909</td>\n",
       "      <td>2.355062e+06</td>\n",
       "      <td>2.396108e+06</td>\n",
       "      <td>2.481588e+06</td>\n",
       "      <td>2.320539e+06</td>\n",
       "      <td>2.389948e+06</td>\n",
       "      <td>2.323915e+06</td>\n",
       "    </tr>\n",
       "    <tr>\n",
       "      <th>12</th>\n",
       "      <td>Foreign Used</td>\n",
       "      <td>Toyota</td>\n",
       "      <td>Vitz</td>\n",
       "      <td>8.0</td>\n",
       "      <td>Automatic</td>\n",
       "      <td>76000.0</td>\n",
       "      <td>885000.0</td>\n",
       "      <td>Purple</td>\n",
       "      <td>Yes</td>\n",
       "      <td>Ridgeways</td>\n",
       "      <td>940000.0</td>\n",
       "      <td>970000.0</td>\n",
       "      <td>9500.000000</td>\n",
       "      <td>2.330578e+06</td>\n",
       "      <td>2.365169e+06</td>\n",
       "      <td>2.150929e+06</td>\n",
       "      <td>2.320539e+06</td>\n",
       "      <td>2.262424e+06</td>\n",
       "      <td>2.323915e+06</td>\n",
       "    </tr>\n",
       "  </tbody>\n",
       "</table>\n",
       "</div>"
      ],
      "text/plain": [
       "       Condition        Make    Model   Age Transmission   Mileage  \\\n",
       "2   Foreign Used       Mazda    Demio   7.0    Automatic  117000.0   \n",
       "8    Kenyan Used       Honda      Fit   8.0    Automatic  117000.0   \n",
       "10  Foreign Used      Nissan  X-Trail   7.0    Automatic   87000.0   \n",
       "11   Kenyan Used  Volkswagen  Touareg  11.0    Automatic  114500.0   \n",
       "12  Foreign Used      Toyota     Vitz   8.0    Automatic   76000.0   \n",
       "\n",
       "    selling_price   Color Registered Car      region_name    min_est  \\\n",
       "2       1090000.0  Silver            Yes        Ridgeways  1080000.0   \n",
       "8       1050000.0  Silver            Yes  Nairobi Central   954500.0   \n",
       "10      2500000.0   Black            Yes         Kilimani  2350000.0   \n",
       "11      2990000.0  Silver            Yes        Ridgeways  3200000.0   \n",
       "12       885000.0  Purple            Yes        Ridgeways   940000.0   \n",
       "\n",
       "      max_est           mpy  ME_Condition       ME_Make      ME_Model  \\\n",
       "2   1100000.0  16714.285714  2.330578e+06  2.138480e+06  2.231826e+06   \n",
       "8    990000.0  14625.000000  2.355062e+06  2.211477e+06  2.108775e+06   \n",
       "10  2400000.0  12428.571429  2.330578e+06  2.326857e+06  2.251762e+06   \n",
       "11  3250000.0  10409.090909  2.355062e+06  2.396108e+06  2.481588e+06   \n",
       "12   970000.0   9500.000000  2.330578e+06  2.365169e+06  2.150929e+06   \n",
       "\n",
       "    ME_Transmission      ME_Color  ME_Registered Car  \n",
       "2      2.320539e+06  2.389948e+06       2.323915e+06  \n",
       "8      2.320539e+06  2.389948e+06       2.323915e+06  \n",
       "10     2.320539e+06  2.366786e+06       2.323915e+06  \n",
       "11     2.320539e+06  2.389948e+06       2.323915e+06  \n",
       "12     2.320539e+06  2.262424e+06       2.323915e+06  "
      ]
     },
     "execution_count": 16,
     "metadata": {},
     "output_type": "execute_result"
    }
   ],
   "source": [
    "for feat in encode_feat:\n",
    "    mean_encode(feat)\n",
    "df4_me.head()"
   ]
  },
  {
   "cell_type": "markdown",
   "id": "6b16e3eb",
   "metadata": {},
   "source": [
    "## Dimensionality reduction"
   ]
  },
  {
   "cell_type": "markdown",
   "id": "28815829",
   "metadata": {},
   "source": [
    "### Explore cat variables for dimension reduction"
   ]
  },
  {
   "cell_type": "code",
   "execution_count": 280,
   "id": "3215f43f",
   "metadata": {},
   "outputs": [],
   "source": [
    "df5 = df4_me.copy()"
   ]
  },
  {
   "cell_type": "code",
   "execution_count": 281,
   "id": "487bc962",
   "metadata": {},
   "outputs": [
    {
     "data": {
      "text/plain": [
       "116"
      ]
     },
     "execution_count": 281,
     "metadata": {},
     "output_type": "execute_result"
    }
   ],
   "source": [
    "(df5.Model.value_counts()>10).sum()"
   ]
  },
  {
   "cell_type": "markdown",
   "id": "cb74228f",
   "metadata": {},
   "source": [
    "#### For the categorical variables: Make, Model, Color, & Region name, pick only those above 10 counts, create Other for the rest"
   ]
  },
  {
   "cell_type": "code",
   "execution_count": 282,
   "id": "c223688d",
   "metadata": {},
   "outputs": [],
   "source": [
    "# Function to create  a new feature category for counts less than 10\n",
    "def create_other(df, feature):\n",
    "    stats = df[feature].value_counts(ascending=False)\n",
    "    stats_less_than_10 = stats[stats<=10]\n",
    "    stats_less_than_10\n",
    "    df[feature] = df[feature].apply(lambda x: 'other' if x in stats_less_than_10 else x)\n",
    "    "
   ]
  },
  {
   "cell_type": "code",
   "execution_count": 283,
   "id": "ef52ab63",
   "metadata": {},
   "outputs": [],
   "source": [
    "# df5.columns\n",
    "features = ['Make', 'Model','Color','region_name']"
   ]
  },
  {
   "cell_type": "code",
   "execution_count": 284,
   "id": "9c0c7fe9",
   "metadata": {},
   "outputs": [],
   "source": [
    "for feat in features:\n",
    "    create_other(df5, feat)"
   ]
  },
  {
   "cell_type": "markdown",
   "id": "b2e33100",
   "metadata": {},
   "source": [
    "# Outlier Removal"
   ]
  },
  {
   "cell_type": "markdown",
   "id": "24d0d7c8",
   "metadata": {},
   "source": [
    "### Outlier removal using standard deviation & Mean"
   ]
  },
  {
   "cell_type": "code",
   "execution_count": 285,
   "id": "56362b09",
   "metadata": {},
   "outputs": [],
   "source": [
    "df6 = df5.copy()"
   ]
  },
  {
   "cell_type": "code",
   "execution_count": 286,
   "id": "425994de",
   "metadata": {},
   "outputs": [
    {
     "data": {
      "text/html": [
       "<div>\n",
       "<style scoped>\n",
       "    .dataframe tbody tr th:only-of-type {\n",
       "        vertical-align: middle;\n",
       "    }\n",
       "\n",
       "    .dataframe tbody tr th {\n",
       "        vertical-align: top;\n",
       "    }\n",
       "\n",
       "    .dataframe thead th {\n",
       "        text-align: right;\n",
       "    }\n",
       "</style>\n",
       "<table border=\"1\" class=\"dataframe\">\n",
       "  <thead>\n",
       "    <tr style=\"text-align: right;\">\n",
       "      <th></th>\n",
       "      <th>Age</th>\n",
       "      <th>Mileage</th>\n",
       "      <th>selling_price</th>\n",
       "      <th>min_est</th>\n",
       "      <th>max_est</th>\n",
       "      <th>mpy</th>\n",
       "      <th>ME_Condition</th>\n",
       "      <th>ME_Make</th>\n",
       "      <th>ME_Model</th>\n",
       "      <th>ME_Transmission</th>\n",
       "      <th>ME_Color</th>\n",
       "      <th>ME_Registered Car</th>\n",
       "    </tr>\n",
       "  </thead>\n",
       "  <tbody>\n",
       "    <tr>\n",
       "      <th>count</th>\n",
       "      <td>9171.000000</td>\n",
       "      <td>9.171000e+03</td>\n",
       "      <td>9.171000e+03</td>\n",
       "      <td>9.171000e+03</td>\n",
       "      <td>9.171000e+03</td>\n",
       "      <td>9171.000000</td>\n",
       "      <td>9.171000e+03</td>\n",
       "      <td>9.171000e+03</td>\n",
       "      <td>9.171000e+03</td>\n",
       "      <td>9.171000e+03</td>\n",
       "      <td>9.171000e+03</td>\n",
       "      <td>9.171000e+03</td>\n",
       "    </tr>\n",
       "    <tr>\n",
       "      <th>mean</th>\n",
       "      <td>8.525788</td>\n",
       "      <td>8.917752e+04</td>\n",
       "      <td>2.335646e+06</td>\n",
       "      <td>2.247265e+06</td>\n",
       "      <td>2.371759e+06</td>\n",
       "      <td>10611.071451</td>\n",
       "      <td>2.335646e+06</td>\n",
       "      <td>2.335646e+06</td>\n",
       "      <td>2.335646e+06</td>\n",
       "      <td>2.335646e+06</td>\n",
       "      <td>2.335646e+06</td>\n",
       "      <td>2.335646e+06</td>\n",
       "    </tr>\n",
       "    <tr>\n",
       "      <th>std</th>\n",
       "      <td>3.012020</td>\n",
       "      <td>7.022151e+04</td>\n",
       "      <td>2.015516e+06</td>\n",
       "      <td>1.899232e+06</td>\n",
       "      <td>2.016329e+06</td>\n",
       "      <td>7666.240123</td>\n",
       "      <td>1.535598e+04</td>\n",
       "      <td>1.865995e+05</td>\n",
       "      <td>4.481224e+05</td>\n",
       "      <td>6.388392e+04</td>\n",
       "      <td>9.418981e+04</td>\n",
       "      <td>1.749763e+04</td>\n",
       "    </tr>\n",
       "    <tr>\n",
       "      <th>min</th>\n",
       "      <td>0.000000</td>\n",
       "      <td>0.000000e+00</td>\n",
       "      <td>2.150000e+05</td>\n",
       "      <td>2.530000e+05</td>\n",
       "      <td>2.900000e+05</td>\n",
       "      <td>0.000000</td>\n",
       "      <td>2.203062e+06</td>\n",
       "      <td>1.275000e+06</td>\n",
       "      <td>6.500000e+05</td>\n",
       "      <td>2.320539e+06</td>\n",
       "      <td>1.756222e+06</td>\n",
       "      <td>2.323915e+06</td>\n",
       "    </tr>\n",
       "    <tr>\n",
       "      <th>25%</th>\n",
       "      <td>7.000000</td>\n",
       "      <td>6.000000e+04</td>\n",
       "      <td>1.150000e+06</td>\n",
       "      <td>1.100000e+06</td>\n",
       "      <td>1.150000e+06</td>\n",
       "      <td>7833.142857</td>\n",
       "      <td>2.330578e+06</td>\n",
       "      <td>2.326857e+06</td>\n",
       "      <td>2.150929e+06</td>\n",
       "      <td>2.320539e+06</td>\n",
       "      <td>2.281798e+06</td>\n",
       "      <td>2.323915e+06</td>\n",
       "    </tr>\n",
       "    <tr>\n",
       "      <th>50%</th>\n",
       "      <td>8.000000</td>\n",
       "      <td>7.980800e+04</td>\n",
       "      <td>1.720000e+06</td>\n",
       "      <td>1.680000e+06</td>\n",
       "      <td>1.750000e+06</td>\n",
       "      <td>9750.000000</td>\n",
       "      <td>2.330578e+06</td>\n",
       "      <td>2.365169e+06</td>\n",
       "      <td>2.302213e+06</td>\n",
       "      <td>2.320539e+06</td>\n",
       "      <td>2.342603e+06</td>\n",
       "      <td>2.323915e+06</td>\n",
       "    </tr>\n",
       "    <tr>\n",
       "      <th>75%</th>\n",
       "      <td>8.000000</td>\n",
       "      <td>1.020000e+05</td>\n",
       "      <td>2.700000e+06</td>\n",
       "      <td>2.600000e+06</td>\n",
       "      <td>2.780000e+06</td>\n",
       "      <td>12123.600000</td>\n",
       "      <td>2.330578e+06</td>\n",
       "      <td>2.365169e+06</td>\n",
       "      <td>2.527000e+06</td>\n",
       "      <td>2.320539e+06</td>\n",
       "      <td>2.366786e+06</td>\n",
       "      <td>2.361743e+06</td>\n",
       "    </tr>\n",
       "    <tr>\n",
       "      <th>max</th>\n",
       "      <td>61.000000</td>\n",
       "      <td>1.980000e+06</td>\n",
       "      <td>1.850000e+07</td>\n",
       "      <td>1.699000e+07</td>\n",
       "      <td>1.753000e+07</td>\n",
       "      <td>177142.857143</td>\n",
       "      <td>2.355062e+06</td>\n",
       "      <td>1.250000e+07</td>\n",
       "      <td>1.690000e+07</td>\n",
       "      <td>2.665225e+06</td>\n",
       "      <td>2.629094e+06</td>\n",
       "      <td>2.361743e+06</td>\n",
       "    </tr>\n",
       "  </tbody>\n",
       "</table>\n",
       "</div>"
      ],
      "text/plain": [
       "               Age       Mileage  selling_price       min_est       max_est  \\\n",
       "count  9171.000000  9.171000e+03   9.171000e+03  9.171000e+03  9.171000e+03   \n",
       "mean      8.525788  8.917752e+04   2.335646e+06  2.247265e+06  2.371759e+06   \n",
       "std       3.012020  7.022151e+04   2.015516e+06  1.899232e+06  2.016329e+06   \n",
       "min       0.000000  0.000000e+00   2.150000e+05  2.530000e+05  2.900000e+05   \n",
       "25%       7.000000  6.000000e+04   1.150000e+06  1.100000e+06  1.150000e+06   \n",
       "50%       8.000000  7.980800e+04   1.720000e+06  1.680000e+06  1.750000e+06   \n",
       "75%       8.000000  1.020000e+05   2.700000e+06  2.600000e+06  2.780000e+06   \n",
       "max      61.000000  1.980000e+06   1.850000e+07  1.699000e+07  1.753000e+07   \n",
       "\n",
       "                 mpy  ME_Condition       ME_Make      ME_Model  \\\n",
       "count    9171.000000  9.171000e+03  9.171000e+03  9.171000e+03   \n",
       "mean    10611.071451  2.335646e+06  2.335646e+06  2.335646e+06   \n",
       "std      7666.240123  1.535598e+04  1.865995e+05  4.481224e+05   \n",
       "min         0.000000  2.203062e+06  1.275000e+06  6.500000e+05   \n",
       "25%      7833.142857  2.330578e+06  2.326857e+06  2.150929e+06   \n",
       "50%      9750.000000  2.330578e+06  2.365169e+06  2.302213e+06   \n",
       "75%     12123.600000  2.330578e+06  2.365169e+06  2.527000e+06   \n",
       "max    177142.857143  2.355062e+06  1.250000e+07  1.690000e+07   \n",
       "\n",
       "       ME_Transmission      ME_Color  ME_Registered Car  \n",
       "count     9.171000e+03  9.171000e+03       9.171000e+03  \n",
       "mean      2.335646e+06  2.335646e+06       2.335646e+06  \n",
       "std       6.388392e+04  9.418981e+04       1.749763e+04  \n",
       "min       2.320539e+06  1.756222e+06       2.323915e+06  \n",
       "25%       2.320539e+06  2.281798e+06       2.323915e+06  \n",
       "50%       2.320539e+06  2.342603e+06       2.323915e+06  \n",
       "75%       2.320539e+06  2.366786e+06       2.361743e+06  \n",
       "max       2.665225e+06  2.629094e+06       2.361743e+06  "
      ]
     },
     "execution_count": 286,
     "metadata": {},
     "output_type": "execute_result"
    }
   ],
   "source": [
    "df6.describe()"
   ]
  },
  {
   "cell_type": "code",
   "execution_count": 287,
   "id": "f9e97e0c",
   "metadata": {},
   "outputs": [
    {
     "data": {
      "text/plain": [
       "(9171, 19)"
      ]
     },
     "execution_count": 287,
     "metadata": {},
     "output_type": "execute_result"
    }
   ],
   "source": [
    "df6.shape"
   ]
  },
  {
   "cell_type": "code",
   "execution_count": 288,
   "id": "5456ac61",
   "metadata": {},
   "outputs": [],
   "source": [
    "models= df6.groupby('Model')"
   ]
  },
  {
   "cell_type": "code",
   "execution_count": 289,
   "id": "b46fc454",
   "metadata": {
    "scrolled": true
   },
   "outputs": [],
   "source": [
    "# models.agg(Mean = ('selling_price', np.mean), Std= ('selling_price', np.std) )"
   ]
  },
  {
   "cell_type": "code",
   "execution_count": 290,
   "id": "9201d6d6",
   "metadata": {
    "scrolled": true
   },
   "outputs": [],
   "source": [
    "# for key, subdf in models:\n",
    "#     print(subdf.selling_price)"
   ]
  },
  {
   "cell_type": "code",
   "execution_count": 291,
   "id": "6e2506c2",
   "metadata": {},
   "outputs": [],
   "source": [
    "def remove_pps_outliers(df, feature):\n",
    "    df_out = pd.DataFrame()\n",
    "    for key, subdf in df.groupby('Model'):\n",
    "        m = np.mean(subdf[feature])\n",
    "        st = np.std(subdf[feature])\n",
    "        reduced_df = subdf[(subdf[feature]>(m-st)) & (subdf[feature]<=(m+st))]\n",
    "        df_out = pd.concat([df_out,reduced_df],ignore_index=True)\n",
    "    return df_out\n"
   ]
  },
  {
   "cell_type": "code",
   "execution_count": 292,
   "id": "60d948ca",
   "metadata": {},
   "outputs": [
    {
     "data": {
      "text/plain": [
       "(8001, 19)"
      ]
     },
     "execution_count": 292,
     "metadata": {},
     "output_type": "execute_result"
    }
   ],
   "source": [
    "df7 = remove_pps_outliers(df6, 'selling_price')\n",
    "df7.shape"
   ]
  },
  {
   "cell_type": "code",
   "execution_count": 293,
   "id": "424475b9",
   "metadata": {},
   "outputs": [
    {
     "data": {
      "text/plain": [
       "(6506, 19)"
      ]
     },
     "execution_count": 293,
     "metadata": {},
     "output_type": "execute_result"
    }
   ],
   "source": [
    "df8 = remove_pps_outliers(df7, 'mpy')\n",
    "df8.shape"
   ]
  },
  {
   "cell_type": "code",
   "execution_count": 294,
   "id": "8ce8218e",
   "metadata": {},
   "outputs": [
    {
     "data": {
      "text/plain": [
       "(5165, 19)"
      ]
     },
     "execution_count": 294,
     "metadata": {},
     "output_type": "execute_result"
    }
   ],
   "source": [
    "df9 = remove_pps_outliers(df8, 'Age')\n",
    "df9.shape"
   ]
  },
  {
   "cell_type": "code",
   "execution_count": 295,
   "id": "a2881ba1",
   "metadata": {},
   "outputs": [
    {
     "data": {
      "image/png": "[encoded data removed]",
      "text/plain": [
       "<Figure size 1440x720 with 1 Axes>"
      ]
     },
     "metadata": {
      "needs_background": "light"
     },
     "output_type": "display_data"
    }
   ],
   "source": [
    "plt.hist(df9.Age)\n",
    "plt.show()"
   ]
  },
  {
   "cell_type": "code",
   "execution_count": 296,
   "id": "6890f441",
   "metadata": {},
   "outputs": [
    {
     "data": {
      "text/html": [
       "<div>\n",
       "<style scoped>\n",
       "    .dataframe tbody tr th:only-of-type {\n",
       "        vertical-align: middle;\n",
       "    }\n",
       "\n",
       "    .dataframe tbody tr th {\n",
       "        vertical-align: top;\n",
       "    }\n",
       "\n",
       "    .dataframe thead th {\n",
       "        text-align: right;\n",
       "    }\n",
       "</style>\n",
       "<table border=\"1\" class=\"dataframe\">\n",
       "  <thead>\n",
       "    <tr style=\"text-align: right;\">\n",
       "      <th></th>\n",
       "      <th>Condition</th>\n",
       "      <th>Make</th>\n",
       "      <th>Model</th>\n",
       "      <th>Age</th>\n",
       "      <th>Transmission</th>\n",
       "      <th>Mileage</th>\n",
       "      <th>selling_price</th>\n",
       "      <th>Color</th>\n",
       "      <th>Registered Car</th>\n",
       "      <th>region_name</th>\n",
       "      <th>min_est</th>\n",
       "      <th>max_est</th>\n",
       "      <th>mpy</th>\n",
       "      <th>ME_Condition</th>\n",
       "      <th>ME_Make</th>\n",
       "      <th>ME_Model</th>\n",
       "      <th>ME_Transmission</th>\n",
       "      <th>ME_Color</th>\n",
       "      <th>ME_Registered Car</th>\n",
       "    </tr>\n",
       "  </thead>\n",
       "  <tbody>\n",
       "    <tr>\n",
       "      <th>0</th>\n",
       "      <td>Foreign Used</td>\n",
       "      <td>BMW</td>\n",
       "      <td>116i</td>\n",
       "      <td>6.0</td>\n",
       "      <td>Automatic</td>\n",
       "      <td>62000.0</td>\n",
       "      <td>3100000.0</td>\n",
       "      <td>White</td>\n",
       "      <td>Yes</td>\n",
       "      <td>Kilimani</td>\n",
       "      <td>3000000.0</td>\n",
       "      <td>3300000.0</td>\n",
       "      <td>10333.333333</td>\n",
       "      <td>2.330578e+06</td>\n",
       "      <td>2.412163e+06</td>\n",
       "      <td>2.054865e+06</td>\n",
       "      <td>2.320539e+06</td>\n",
       "      <td>2.342603e+06</td>\n",
       "      <td>2.323915e+06</td>\n",
       "    </tr>\n",
       "    <tr>\n",
       "      <th>1</th>\n",
       "      <td>Foreign Used</td>\n",
       "      <td>BMW</td>\n",
       "      <td>116i</td>\n",
       "      <td>7.0</td>\n",
       "      <td>Automatic</td>\n",
       "      <td>58000.0</td>\n",
       "      <td>1670000.0</td>\n",
       "      <td>Red</td>\n",
       "      <td>Yes</td>\n",
       "      <td>Mombasa CBD</td>\n",
       "      <td>1650000.0</td>\n",
       "      <td>1700000.0</td>\n",
       "      <td>8285.714286</td>\n",
       "      <td>2.330578e+06</td>\n",
       "      <td>2.412163e+06</td>\n",
       "      <td>2.054865e+06</td>\n",
       "      <td>2.320539e+06</td>\n",
       "      <td>2.274263e+06</td>\n",
       "      <td>2.323915e+06</td>\n",
       "    </tr>\n",
       "    <tr>\n",
       "      <th>2</th>\n",
       "      <td>Foreign Used</td>\n",
       "      <td>BMW</td>\n",
       "      <td>116i</td>\n",
       "      <td>7.0</td>\n",
       "      <td>Automatic</td>\n",
       "      <td>64000.0</td>\n",
       "      <td>980000.0</td>\n",
       "      <td>White</td>\n",
       "      <td>No</td>\n",
       "      <td>Mombasa CBD</td>\n",
       "      <td>1080000.0</td>\n",
       "      <td>1100000.0</td>\n",
       "      <td>9142.857143</td>\n",
       "      <td>2.330578e+06</td>\n",
       "      <td>2.412163e+06</td>\n",
       "      <td>2.054865e+06</td>\n",
       "      <td>2.320539e+06</td>\n",
       "      <td>2.342603e+06</td>\n",
       "      <td>2.361743e+06</td>\n",
       "    </tr>\n",
       "    <tr>\n",
       "      <th>3</th>\n",
       "      <td>Foreign Used</td>\n",
       "      <td>BMW</td>\n",
       "      <td>116i</td>\n",
       "      <td>8.0</td>\n",
       "      <td>Automatic</td>\n",
       "      <td>75000.0</td>\n",
       "      <td>970000.0</td>\n",
       "      <td>Red</td>\n",
       "      <td>No</td>\n",
       "      <td>Mombasa CBD</td>\n",
       "      <td>1010000.0</td>\n",
       "      <td>1050000.0</td>\n",
       "      <td>9375.000000</td>\n",
       "      <td>2.330578e+06</td>\n",
       "      <td>2.412163e+06</td>\n",
       "      <td>2.054865e+06</td>\n",
       "      <td>2.320539e+06</td>\n",
       "      <td>2.274263e+06</td>\n",
       "      <td>2.361743e+06</td>\n",
       "    </tr>\n",
       "    <tr>\n",
       "      <th>4</th>\n",
       "      <td>Foreign Used</td>\n",
       "      <td>BMW</td>\n",
       "      <td>116i</td>\n",
       "      <td>8.0</td>\n",
       "      <td>Automatic</td>\n",
       "      <td>69000.0</td>\n",
       "      <td>3000000.0</td>\n",
       "      <td>Black</td>\n",
       "      <td>No</td>\n",
       "      <td>Mombasa CBD</td>\n",
       "      <td>2800000.0</td>\n",
       "      <td>2900000.0</td>\n",
       "      <td>8625.000000</td>\n",
       "      <td>2.330578e+06</td>\n",
       "      <td>2.412163e+06</td>\n",
       "      <td>2.054865e+06</td>\n",
       "      <td>2.320539e+06</td>\n",
       "      <td>2.366786e+06</td>\n",
       "      <td>2.361743e+06</td>\n",
       "    </tr>\n",
       "  </tbody>\n",
       "</table>\n",
       "</div>"
      ],
      "text/plain": [
       "      Condition Make Model  Age Transmission  Mileage  selling_price  Color  \\\n",
       "0  Foreign Used  BMW  116i  6.0    Automatic  62000.0      3100000.0  White   \n",
       "1  Foreign Used  BMW  116i  7.0    Automatic  58000.0      1670000.0    Red   \n",
       "2  Foreign Used  BMW  116i  7.0    Automatic  64000.0       980000.0  White   \n",
       "3  Foreign Used  BMW  116i  8.0    Automatic  75000.0       970000.0    Red   \n",
       "4  Foreign Used  BMW  116i  8.0    Automatic  69000.0      3000000.0  Black   \n",
       "\n",
       "  Registered Car  region_name    min_est    max_est           mpy  \\\n",
       "0            Yes     Kilimani  3000000.0  3300000.0  10333.333333   \n",
       "1            Yes  Mombasa CBD  1650000.0  1700000.0   8285.714286   \n",
       "2             No  Mombasa CBD  1080000.0  1100000.0   9142.857143   \n",
       "3             No  Mombasa CBD  1010000.0  1050000.0   9375.000000   \n",
       "4             No  Mombasa CBD  2800000.0  2900000.0   8625.000000   \n",
       "\n",
       "   ME_Condition       ME_Make      ME_Model  ME_Transmission      ME_Color  \\\n",
       "0  2.330578e+06  2.412163e+06  2.054865e+06     2.320539e+06  2.342603e+06   \n",
       "1  2.330578e+06  2.412163e+06  2.054865e+06     2.320539e+06  2.274263e+06   \n",
       "2  2.330578e+06  2.412163e+06  2.054865e+06     2.320539e+06  2.342603e+06   \n",
       "3  2.330578e+06  2.412163e+06  2.054865e+06     2.320539e+06  2.274263e+06   \n",
       "4  2.330578e+06  2.412163e+06  2.054865e+06     2.320539e+06  2.366786e+06   \n",
       "\n",
       "   ME_Registered Car  \n",
       "0       2.323915e+06  \n",
       "1       2.323915e+06  \n",
       "2       2.361743e+06  \n",
       "3       2.361743e+06  \n",
       "4       2.361743e+06  "
      ]
     },
     "execution_count": 296,
     "metadata": {},
     "output_type": "execute_result"
    }
   ],
   "source": [
    "df8.head()"
   ]
  },
  {
   "cell_type": "code",
   "execution_count": 297,
   "id": "bfea7895",
   "metadata": {},
   "outputs": [
    {
     "data": {
      "text/html": [
       "<div>\n",
       "<style scoped>\n",
       "    .dataframe tbody tr th:only-of-type {\n",
       "        vertical-align: middle;\n",
       "    }\n",
       "\n",
       "    .dataframe tbody tr th {\n",
       "        vertical-align: top;\n",
       "    }\n",
       "\n",
       "    .dataframe thead th {\n",
       "        text-align: right;\n",
       "    }\n",
       "</style>\n",
       "<table border=\"1\" class=\"dataframe\">\n",
       "  <thead>\n",
       "    <tr style=\"text-align: right;\">\n",
       "      <th></th>\n",
       "      <th>Age</th>\n",
       "      <th>Mileage</th>\n",
       "      <th>selling_price</th>\n",
       "      <th>min_est</th>\n",
       "      <th>max_est</th>\n",
       "      <th>mpy</th>\n",
       "      <th>ME_Condition</th>\n",
       "      <th>ME_Make</th>\n",
       "      <th>ME_Model</th>\n",
       "      <th>ME_Transmission</th>\n",
       "      <th>ME_Color</th>\n",
       "      <th>ME_Registered Car</th>\n",
       "    </tr>\n",
       "  </thead>\n",
       "  <tbody>\n",
       "    <tr>\n",
       "      <th>Age</th>\n",
       "      <td>1.000000</td>\n",
       "      <td>0.735182</td>\n",
       "      <td>-0.001814</td>\n",
       "      <td>-0.003461</td>\n",
       "      <td>-0.001752</td>\n",
       "      <td>-0.094614</td>\n",
       "      <td>0.482940</td>\n",
       "      <td>0.069324</td>\n",
       "      <td>0.016743</td>\n",
       "      <td>0.152123</td>\n",
       "      <td>0.058470</td>\n",
       "      <td>-0.261388</td>\n",
       "    </tr>\n",
       "    <tr>\n",
       "      <th>Mileage</th>\n",
       "      <td>0.735182</td>\n",
       "      <td>1.000000</td>\n",
       "      <td>0.000187</td>\n",
       "      <td>-0.002229</td>\n",
       "      <td>-0.002074</td>\n",
       "      <td>0.566190</td>\n",
       "      <td>0.460912</td>\n",
       "      <td>0.027776</td>\n",
       "      <td>0.018704</td>\n",
       "      <td>0.197792</td>\n",
       "      <td>0.071219</td>\n",
       "      <td>-0.272433</td>\n",
       "    </tr>\n",
       "    <tr>\n",
       "      <th>selling_price</th>\n",
       "      <td>-0.001814</td>\n",
       "      <td>0.000187</td>\n",
       "      <td>1.000000</td>\n",
       "      <td>0.961136</td>\n",
       "      <td>0.959065</td>\n",
       "      <td>0.008285</td>\n",
       "      <td>-0.008581</td>\n",
       "      <td>0.048660</td>\n",
       "      <td>0.134115</td>\n",
       "      <td>0.027000</td>\n",
       "      <td>0.018594</td>\n",
       "      <td>0.010444</td>\n",
       "    </tr>\n",
       "    <tr>\n",
       "      <th>min_est</th>\n",
       "      <td>-0.003461</td>\n",
       "      <td>-0.002229</td>\n",
       "      <td>0.961136</td>\n",
       "      <td>1.000000</td>\n",
       "      <td>0.996068</td>\n",
       "      <td>0.004799</td>\n",
       "      <td>-0.004430</td>\n",
       "      <td>0.047398</td>\n",
       "      <td>0.129380</td>\n",
       "      <td>0.017446</td>\n",
       "      <td>0.018926</td>\n",
       "      <td>0.006457</td>\n",
       "    </tr>\n",
       "    <tr>\n",
       "      <th>max_est</th>\n",
       "      <td>-0.001752</td>\n",
       "      <td>-0.002074</td>\n",
       "      <td>0.959065</td>\n",
       "      <td>0.996068</td>\n",
       "      <td>1.000000</td>\n",
       "      <td>0.001740</td>\n",
       "      <td>-0.004873</td>\n",
       "      <td>0.047889</td>\n",
       "      <td>0.130585</td>\n",
       "      <td>0.018668</td>\n",
       "      <td>0.020002</td>\n",
       "      <td>0.006417</td>\n",
       "    </tr>\n",
       "    <tr>\n",
       "      <th>mpy</th>\n",
       "      <td>-0.094614</td>\n",
       "      <td>0.566190</td>\n",
       "      <td>0.008285</td>\n",
       "      <td>0.004799</td>\n",
       "      <td>0.001740</td>\n",
       "      <td>1.000000</td>\n",
       "      <td>0.082457</td>\n",
       "      <td>-0.027635</td>\n",
       "      <td>-0.001236</td>\n",
       "      <td>0.118206</td>\n",
       "      <td>0.032122</td>\n",
       "      <td>-0.081524</td>\n",
       "    </tr>\n",
       "    <tr>\n",
       "      <th>ME_Condition</th>\n",
       "      <td>0.482940</td>\n",
       "      <td>0.460912</td>\n",
       "      <td>-0.008581</td>\n",
       "      <td>-0.004430</td>\n",
       "      <td>-0.004873</td>\n",
       "      <td>0.082457</td>\n",
       "      <td>1.000000</td>\n",
       "      <td>0.063512</td>\n",
       "      <td>0.021851</td>\n",
       "      <td>0.122657</td>\n",
       "      <td>0.051088</td>\n",
       "      <td>-0.297623</td>\n",
       "    </tr>\n",
       "    <tr>\n",
       "      <th>ME_Make</th>\n",
       "      <td>0.069324</td>\n",
       "      <td>0.027776</td>\n",
       "      <td>0.048660</td>\n",
       "      <td>0.047398</td>\n",
       "      <td>0.047889</td>\n",
       "      <td>-0.027635</td>\n",
       "      <td>0.063512</td>\n",
       "      <td>1.000000</td>\n",
       "      <td>0.339199</td>\n",
       "      <td>0.020107</td>\n",
       "      <td>0.062112</td>\n",
       "      <td>-0.025322</td>\n",
       "    </tr>\n",
       "    <tr>\n",
       "      <th>ME_Model</th>\n",
       "      <td>0.016743</td>\n",
       "      <td>0.018704</td>\n",
       "      <td>0.134115</td>\n",
       "      <td>0.129380</td>\n",
       "      <td>0.130585</td>\n",
       "      <td>-0.001236</td>\n",
       "      <td>0.021851</td>\n",
       "      <td>0.339199</td>\n",
       "      <td>1.000000</td>\n",
       "      <td>0.084121</td>\n",
       "      <td>0.063191</td>\n",
       "      <td>0.020746</td>\n",
       "    </tr>\n",
       "    <tr>\n",
       "      <th>ME_Transmission</th>\n",
       "      <td>0.152123</td>\n",
       "      <td>0.197792</td>\n",
       "      <td>0.027000</td>\n",
       "      <td>0.017446</td>\n",
       "      <td>0.018668</td>\n",
       "      <td>0.118206</td>\n",
       "      <td>0.122657</td>\n",
       "      <td>0.020107</td>\n",
       "      <td>0.084121</td>\n",
       "      <td>1.000000</td>\n",
       "      <td>0.011107</td>\n",
       "      <td>-0.089438</td>\n",
       "    </tr>\n",
       "    <tr>\n",
       "      <th>ME_Color</th>\n",
       "      <td>0.058470</td>\n",
       "      <td>0.071219</td>\n",
       "      <td>0.018594</td>\n",
       "      <td>0.018926</td>\n",
       "      <td>0.020002</td>\n",
       "      <td>0.032122</td>\n",
       "      <td>0.051088</td>\n",
       "      <td>0.062112</td>\n",
       "      <td>0.063191</td>\n",
       "      <td>0.011107</td>\n",
       "      <td>1.000000</td>\n",
       "      <td>-0.003489</td>\n",
       "    </tr>\n",
       "    <tr>\n",
       "      <th>ME_Registered Car</th>\n",
       "      <td>-0.261388</td>\n",
       "      <td>-0.272433</td>\n",
       "      <td>0.010444</td>\n",
       "      <td>0.006457</td>\n",
       "      <td>0.006417</td>\n",
       "      <td>-0.081524</td>\n",
       "      <td>-0.297623</td>\n",
       "      <td>-0.025322</td>\n",
       "      <td>0.020746</td>\n",
       "      <td>-0.089438</td>\n",
       "      <td>-0.003489</td>\n",
       "      <td>1.000000</td>\n",
       "    </tr>\n",
       "  </tbody>\n",
       "</table>\n",
       "</div>"
      ],
      "text/plain": [
       "                        Age   Mileage  selling_price   min_est   max_est  \\\n",
       "Age                1.000000  0.735182      -0.001814 -0.003461 -0.001752   \n",
       "Mileage            0.735182  1.000000       0.000187 -0.002229 -0.002074   \n",
       "selling_price     -0.001814  0.000187       1.000000  0.961136  0.959065   \n",
       "min_est           -0.003461 -0.002229       0.961136  1.000000  0.996068   \n",
       "max_est           -0.001752 -0.002074       0.959065  0.996068  1.000000   \n",
       "mpy               -0.094614  0.566190       0.008285  0.004799  0.001740   \n",
       "ME_Condition       0.482940  0.460912      -0.008581 -0.004430 -0.004873   \n",
       "ME_Make            0.069324  0.027776       0.048660  0.047398  0.047889   \n",
       "ME_Model           0.016743  0.018704       0.134115  0.129380  0.130585   \n",
       "ME_Transmission    0.152123  0.197792       0.027000  0.017446  0.018668   \n",
       "ME_Color           0.058470  0.071219       0.018594  0.018926  0.020002   \n",
       "ME_Registered Car -0.261388 -0.272433       0.010444  0.006457  0.006417   \n",
       "\n",
       "                        mpy  ME_Condition   ME_Make  ME_Model  \\\n",
       "Age               -0.094614      0.482940  0.069324  0.016743   \n",
       "Mileage            0.566190      0.460912  0.027776  0.018704   \n",
       "selling_price      0.008285     -0.008581  0.048660  0.134115   \n",
       "min_est            0.004799     -0.004430  0.047398  0.129380   \n",
       "max_est            0.001740     -0.004873  0.047889  0.130585   \n",
       "mpy                1.000000      0.082457 -0.027635 -0.001236   \n",
       "ME_Condition       0.082457      1.000000  0.063512  0.021851   \n",
       "ME_Make           -0.027635      0.063512  1.000000  0.339199   \n",
       "ME_Model          -0.001236      0.021851  0.339199  1.000000   \n",
       "ME_Transmission    0.118206      0.122657  0.020107  0.084121   \n",
       "ME_Color           0.032122      0.051088  0.062112  0.063191   \n",
       "ME_Registered Car -0.081524     -0.297623 -0.025322  0.020746   \n",
       "\n",
       "                   ME_Transmission  ME_Color  ME_Registered Car  \n",
       "Age                       0.152123  0.058470          -0.261388  \n",
       "Mileage                   0.197792  0.071219          -0.272433  \n",
       "selling_price             0.027000  0.018594           0.010444  \n",
       "min_est                   0.017446  0.018926           0.006457  \n",
       "max_est                   0.018668  0.020002           0.006417  \n",
       "mpy                       0.118206  0.032122          -0.081524  \n",
       "ME_Condition              0.122657  0.051088          -0.297623  \n",
       "ME_Make                   0.020107  0.062112          -0.025322  \n",
       "ME_Model                  0.084121  0.063191           0.020746  \n",
       "ME_Transmission           1.000000  0.011107          -0.089438  \n",
       "ME_Color                  0.011107  1.000000          -0.003489  \n",
       "ME_Registered Car        -0.089438 -0.003489           1.000000  "
      ]
     },
     "execution_count": 297,
     "metadata": {},
     "output_type": "execute_result"
    }
   ],
   "source": [
    "df8.corr()"
   ]
  },
  {
   "cell_type": "markdown",
   "id": "8ed9fb01",
   "metadata": {},
   "source": [
    "# Drop columns to not use in Training"
   ]
  },
  {
   "cell_type": "code",
   "execution_count": 423,
   "id": "9f5806b3",
   "metadata": {},
   "outputs": [],
   "source": [
    "#drop mpy:\n",
    "cols_to_drop= ['mpy',  'min_est','region_name', 'max_est']\n",
    "# cols_to_drop= ['mpy', 'region_name', 'min_est', 'max_est','Condition', 'Make', 'Model', 'Transmission','Color', 'Registered Car']\n",
    "\n",
    "df9 = df8.drop(cols_to_drop, axis=1)\n",
    "# df10 = df9.copy()"
   ]
  },
  {
   "cell_type": "code",
   "execution_count": 424,
   "id": "6dfd1222",
   "metadata": {},
   "outputs": [],
   "source": [
    "# Test for specific model:\n",
    "# filt = (df9['Model']=='Harrier')\n",
    "# df9 =df9.loc[filt]"
   ]
  },
  {
   "cell_type": "markdown",
   "id": "5cfda7be",
   "metadata": {},
   "source": [
    "## One hot encoding"
   ]
  },
  {
   "cell_type": "code",
   "execution_count": 425,
   "id": "cf673384",
   "metadata": {},
   "outputs": [],
   "source": [
    "# Fields to encode:\n",
    "cat_features = ['Condition', 'Make', 'Model','Transmission', 'Color', 'Registered Car']"
   ]
  },
  {
   "cell_type": "code",
   "execution_count": 426,
   "id": "fe4f9f68",
   "metadata": {},
   "outputs": [],
   "source": [
    "dummies = pd.get_dummies(df9, columns=cat_features,  drop_first=True)"
   ]
  },
  {
   "cell_type": "code",
   "execution_count": 427,
   "id": "368ea0b2",
   "metadata": {},
   "outputs": [],
   "source": [
    "df10 = dummies.copy()"
   ]
  },
  {
   "cell_type": "code",
   "execution_count": 428,
   "id": "72dd3549",
   "metadata": {},
   "outputs": [
    {
     "data": {
      "text/plain": [
       "(6506, 170)"
      ]
     },
     "execution_count": 428,
     "metadata": {},
     "output_type": "execute_result"
    }
   ],
   "source": [
    "df10.shape"
   ]
  },
  {
   "cell_type": "markdown",
   "id": "732cba98",
   "metadata": {},
   "source": [
    "# Building a Model"
   ]
  },
  {
   "cell_type": "code",
   "execution_count": 429,
   "id": "9942f962",
   "metadata": {},
   "outputs": [],
   "source": [
    "X = df10.drop('selling_price', axis=1)"
   ]
  },
  {
   "cell_type": "code",
   "execution_count": 430,
   "id": "aec0f703",
   "metadata": {},
   "outputs": [
    {
     "data": {
      "text/html": [
       "<div>\n",
       "<style scoped>\n",
       "    .dataframe tbody tr th:only-of-type {\n",
       "        vertical-align: middle;\n",
       "    }\n",
       "\n",
       "    .dataframe tbody tr th {\n",
       "        vertical-align: top;\n",
       "    }\n",
       "\n",
       "    .dataframe thead th {\n",
       "        text-align: right;\n",
       "    }\n",
       "</style>\n",
       "<table border=\"1\" class=\"dataframe\">\n",
       "  <thead>\n",
       "    <tr style=\"text-align: right;\">\n",
       "      <th></th>\n",
       "      <th>Age</th>\n",
       "      <th>Mileage</th>\n",
       "      <th>ME_Condition</th>\n",
       "      <th>ME_Make</th>\n",
       "      <th>ME_Model</th>\n",
       "      <th>ME_Transmission</th>\n",
       "      <th>ME_Color</th>\n",
       "      <th>ME_Registered Car</th>\n",
       "      <th>Condition_Foreign Used</th>\n",
       "      <th>Condition_Kenyan Used</th>\n",
       "      <th>...</th>\n",
       "      <th>Color_Other</th>\n",
       "      <th>Color_Pearl</th>\n",
       "      <th>Color_Pink</th>\n",
       "      <th>Color_Purple</th>\n",
       "      <th>Color_Red</th>\n",
       "      <th>Color_Silver</th>\n",
       "      <th>Color_Teal</th>\n",
       "      <th>Color_White</th>\n",
       "      <th>Color_Yellow</th>\n",
       "      <th>Registered Car_Yes</th>\n",
       "    </tr>\n",
       "  </thead>\n",
       "  <tbody>\n",
       "    <tr>\n",
       "      <th>0</th>\n",
       "      <td>6.0</td>\n",
       "      <td>62000.0</td>\n",
       "      <td>2.330578e+06</td>\n",
       "      <td>2.412163e+06</td>\n",
       "      <td>2.054865e+06</td>\n",
       "      <td>2.320539e+06</td>\n",
       "      <td>2.342603e+06</td>\n",
       "      <td>2.323915e+06</td>\n",
       "      <td>1</td>\n",
       "      <td>0</td>\n",
       "      <td>...</td>\n",
       "      <td>0</td>\n",
       "      <td>0</td>\n",
       "      <td>0</td>\n",
       "      <td>0</td>\n",
       "      <td>0</td>\n",
       "      <td>0</td>\n",
       "      <td>0</td>\n",
       "      <td>1</td>\n",
       "      <td>0</td>\n",
       "      <td>1</td>\n",
       "    </tr>\n",
       "    <tr>\n",
       "      <th>1</th>\n",
       "      <td>7.0</td>\n",
       "      <td>58000.0</td>\n",
       "      <td>2.330578e+06</td>\n",
       "      <td>2.412163e+06</td>\n",
       "      <td>2.054865e+06</td>\n",
       "      <td>2.320539e+06</td>\n",
       "      <td>2.274263e+06</td>\n",
       "      <td>2.323915e+06</td>\n",
       "      <td>1</td>\n",
       "      <td>0</td>\n",
       "      <td>...</td>\n",
       "      <td>0</td>\n",
       "      <td>0</td>\n",
       "      <td>0</td>\n",
       "      <td>0</td>\n",
       "      <td>1</td>\n",
       "      <td>0</td>\n",
       "      <td>0</td>\n",
       "      <td>0</td>\n",
       "      <td>0</td>\n",
       "      <td>1</td>\n",
       "    </tr>\n",
       "    <tr>\n",
       "      <th>2</th>\n",
       "      <td>7.0</td>\n",
       "      <td>64000.0</td>\n",
       "      <td>2.330578e+06</td>\n",
       "      <td>2.412163e+06</td>\n",
       "      <td>2.054865e+06</td>\n",
       "      <td>2.320539e+06</td>\n",
       "      <td>2.342603e+06</td>\n",
       "      <td>2.361743e+06</td>\n",
       "      <td>1</td>\n",
       "      <td>0</td>\n",
       "      <td>...</td>\n",
       "      <td>0</td>\n",
       "      <td>0</td>\n",
       "      <td>0</td>\n",
       "      <td>0</td>\n",
       "      <td>0</td>\n",
       "      <td>0</td>\n",
       "      <td>0</td>\n",
       "      <td>1</td>\n",
       "      <td>0</td>\n",
       "      <td>0</td>\n",
       "    </tr>\n",
       "    <tr>\n",
       "      <th>3</th>\n",
       "      <td>8.0</td>\n",
       "      <td>75000.0</td>\n",
       "      <td>2.330578e+06</td>\n",
       "      <td>2.412163e+06</td>\n",
       "      <td>2.054865e+06</td>\n",
       "      <td>2.320539e+06</td>\n",
       "      <td>2.274263e+06</td>\n",
       "      <td>2.361743e+06</td>\n",
       "      <td>1</td>\n",
       "      <td>0</td>\n",
       "      <td>...</td>\n",
       "      <td>0</td>\n",
       "      <td>0</td>\n",
       "      <td>0</td>\n",
       "      <td>0</td>\n",
       "      <td>1</td>\n",
       "      <td>0</td>\n",
       "      <td>0</td>\n",
       "      <td>0</td>\n",
       "      <td>0</td>\n",
       "      <td>0</td>\n",
       "    </tr>\n",
       "    <tr>\n",
       "      <th>4</th>\n",
       "      <td>8.0</td>\n",
       "      <td>69000.0</td>\n",
       "      <td>2.330578e+06</td>\n",
       "      <td>2.412163e+06</td>\n",
       "      <td>2.054865e+06</td>\n",
       "      <td>2.320539e+06</td>\n",
       "      <td>2.366786e+06</td>\n",
       "      <td>2.361743e+06</td>\n",
       "      <td>1</td>\n",
       "      <td>0</td>\n",
       "      <td>...</td>\n",
       "      <td>0</td>\n",
       "      <td>0</td>\n",
       "      <td>0</td>\n",
       "      <td>0</td>\n",
       "      <td>0</td>\n",
       "      <td>0</td>\n",
       "      <td>0</td>\n",
       "      <td>0</td>\n",
       "      <td>0</td>\n",
       "      <td>0</td>\n",
       "    </tr>\n",
       "  </tbody>\n",
       "</table>\n",
       "<p>5 rows × 169 columns</p>\n",
       "</div>"
      ],
      "text/plain": [
       "   Age  Mileage  ME_Condition       ME_Make      ME_Model  ME_Transmission  \\\n",
       "0  6.0  62000.0  2.330578e+06  2.412163e+06  2.054865e+06     2.320539e+06   \n",
       "1  7.0  58000.0  2.330578e+06  2.412163e+06  2.054865e+06     2.320539e+06   \n",
       "2  7.0  64000.0  2.330578e+06  2.412163e+06  2.054865e+06     2.320539e+06   \n",
       "3  8.0  75000.0  2.330578e+06  2.412163e+06  2.054865e+06     2.320539e+06   \n",
       "4  8.0  69000.0  2.330578e+06  2.412163e+06  2.054865e+06     2.320539e+06   \n",
       "\n",
       "       ME_Color  ME_Registered Car  Condition_Foreign Used  \\\n",
       "0  2.342603e+06       2.323915e+06                       1   \n",
       "1  2.274263e+06       2.323915e+06                       1   \n",
       "2  2.342603e+06       2.361743e+06                       1   \n",
       "3  2.274263e+06       2.361743e+06                       1   \n",
       "4  2.366786e+06       2.361743e+06                       1   \n",
       "\n",
       "   Condition_Kenyan Used  ...  Color_Other  Color_Pearl  Color_Pink  \\\n",
       "0                      0  ...            0            0           0   \n",
       "1                      0  ...            0            0           0   \n",
       "2                      0  ...            0            0           0   \n",
       "3                      0  ...            0            0           0   \n",
       "4                      0  ...            0            0           0   \n",
       "\n",
       "   Color_Purple  Color_Red  Color_Silver  Color_Teal  Color_White  \\\n",
       "0             0          0             0           0            1   \n",
       "1             0          1             0           0            0   \n",
       "2             0          0             0           0            1   \n",
       "3             0          1             0           0            0   \n",
       "4             0          0             0           0            0   \n",
       "\n",
       "   Color_Yellow  Registered Car_Yes  \n",
       "0             0                   1  \n",
       "1             0                   1  \n",
       "2             0                   0  \n",
       "3             0                   0  \n",
       "4             0                   0  \n",
       "\n",
       "[5 rows x 169 columns]"
      ]
     },
     "execution_count": 430,
     "metadata": {},
     "output_type": "execute_result"
    }
   ],
   "source": [
    "X.head()"
   ]
  },
  {
   "cell_type": "code",
   "execution_count": 431,
   "id": "ec330e1b",
   "metadata": {},
   "outputs": [
    {
     "data": {
      "text/plain": [
       "(6506,)"
      ]
     },
     "execution_count": 431,
     "metadata": {},
     "output_type": "execute_result"
    }
   ],
   "source": [
    "y = df10.selling_price\n",
    "y.shape"
   ]
  },
  {
   "cell_type": "markdown",
   "id": "c3ef023a",
   "metadata": {},
   "source": [
    "### Split training & test data"
   ]
  },
  {
   "cell_type": "code",
   "execution_count": 432,
   "id": "f623b947",
   "metadata": {},
   "outputs": [],
   "source": [
    "from sklearn.model_selection import train_test_split\n",
    "X_train, X_test, y_train, y_test = train_test_split(X,y,test_size=0.3,random_state=1)"
   ]
  },
  {
   "cell_type": "markdown",
   "id": "a4bb1b3d",
   "metadata": {},
   "source": [
    "### Define my own scoring fomular"
   ]
  },
  {
   "cell_type": "code",
   "execution_count": 433,
   "id": "1390cfad",
   "metadata": {},
   "outputs": [],
   "source": [
    "def get_score(pred, test):\n",
    "    df_r = pd.DataFrame({'pred':pred,'test':test})\n",
    "    df_r['error'] = abs((df_r['pred']-df_r['test'])/df_r['test'])*100\n",
    "    return df_r.error.mean()"
   ]
  },
  {
   "cell_type": "markdown",
   "id": "2ce17d01",
   "metadata": {},
   "source": [
    "### Linear Model"
   ]
  },
  {
   "cell_type": "code",
   "execution_count": 434,
   "id": "993a8f80",
   "metadata": {},
   "outputs": [
    {
     "data": {
      "text/plain": [
       "-0.019161619783220285"
      ]
     },
     "execution_count": 434,
     "metadata": {},
     "output_type": "execute_result"
    }
   ],
   "source": [
    "from sklearn.linear_model import LinearRegression\n",
    "lr_clf = LinearRegression()\n",
    "lr_clf.fit(X_train,y_train)\n",
    "lr_clf.score(X_test,y_test)"
   ]
  },
  {
   "cell_type": "code",
   "execution_count": 435,
   "id": "2b57b41b",
   "metadata": {},
   "outputs": [
    {
     "data": {
      "text/plain": [
       "49.59426822081231"
      ]
     },
     "execution_count": 435,
     "metadata": {},
     "output_type": "execute_result"
    }
   ],
   "source": [
    "lr_pred = lr_clf.predict(X_test)\n",
    "get_score(lr_pred, y_test)"
   ]
  },
  {
   "cell_type": "markdown",
   "id": "4ce9fc21",
   "metadata": {},
   "source": [
    "### Decision Tree"
   ]
  },
  {
   "cell_type": "code",
   "execution_count": 436,
   "id": "731b7a9b",
   "metadata": {},
   "outputs": [
    {
     "data": {
      "text/plain": [
       "-0.9294485227248526"
      ]
     },
     "execution_count": 436,
     "metadata": {},
     "output_type": "execute_result"
    }
   ],
   "source": [
    "from sklearn import tree\n",
    "dt = tree.DecisionTreeRegressor(max_features=None)\n",
    "dt.fit(X_train, y_train)\n",
    "dt.score(X_test,y_test)"
   ]
  },
  {
   "cell_type": "markdown",
   "id": "78a326af",
   "metadata": {},
   "source": [
    "### SVM reg"
   ]
  },
  {
   "cell_type": "code",
   "execution_count": 437,
   "id": "229da228",
   "metadata": {},
   "outputs": [
    {
     "data": {
      "text/plain": [
       "-0.0633896674696448"
      ]
     },
     "execution_count": 437,
     "metadata": {},
     "output_type": "execute_result"
    }
   ],
   "source": [
    "from sklearn import svm\n",
    "sv = svm.SVR()\n",
    "sv.fit(X_train, y_train)\n",
    "sv.score(X_test,y_test)"
   ]
  },
  {
   "cell_type": "markdown",
   "id": "15f0c512",
   "metadata": {},
   "source": [
    "### Voting reg"
   ]
  },
  {
   "cell_type": "code",
   "execution_count": 438,
   "id": "438592b3",
   "metadata": {},
   "outputs": [
    {
     "data": {
      "text/plain": [
       "-0.026680588529364835"
      ]
     },
     "execution_count": 438,
     "metadata": {},
     "output_type": "execute_result"
    }
   ],
   "source": [
    "from sklearn.datasets import load_diabetes\n",
    "from sklearn.ensemble import GradientBoostingRegressor\n",
    "from sklearn.ensemble import RandomForestRegressor\n",
    "from sklearn.linear_model import LinearRegression\n",
    "from sklearn.ensemble import VotingRegressor\n",
    "\n",
    "# Loading some example data\n",
    "# X, y = load_diabetes(return_X_y=True)\n",
    "\n",
    "# Training classifiers\n",
    "reg1 = GradientBoostingRegressor(random_state=1, learning_rate=0.001, n_estimators=100, subsample=1)\n",
    "reg2 = RandomForestRegressor(random_state=1)\n",
    "reg3 = LinearRegression()\n",
    "ereg = VotingRegressor(estimators=[('gb', reg1), ('rf', reg2), ('lr', reg3)])\n",
    "ereg = ereg.fit(X_train, y_train)\n",
    "ereg.score(X_test, y_test)"
   ]
  },
  {
   "cell_type": "markdown",
   "id": "a8953258",
   "metadata": {},
   "source": [
    "### Random forest"
   ]
  },
  {
   "cell_type": "code",
   "execution_count": 439,
   "id": "07b45f43",
   "metadata": {},
   "outputs": [
    {
     "data": {
      "text/plain": [
       "-0.24267772566359636"
      ]
     },
     "execution_count": 439,
     "metadata": {},
     "output_type": "execute_result"
    }
   ],
   "source": [
    "from sklearn.ensemble import RandomForestRegressor\n",
    "rf_reg = RandomForestRegressor(n_estimators = 100, random_state = 0, n_jobs=10)\n",
    "rf_reg.fit(X_train, y_train) \n",
    "rf_reg.score(X_test,y_test)"
   ]
  },
  {
   "cell_type": "markdown",
   "id": "21a6ae0e",
   "metadata": {},
   "source": [
    "### Elastic Net"
   ]
  },
  {
   "cell_type": "code",
   "execution_count": 440,
   "id": "347ed914",
   "metadata": {},
   "outputs": [
    {
     "name": "stdout",
     "output_type": "stream",
     "text": [
      "0.009588475013537212 49.2737039930576\n"
     ]
    }
   ],
   "source": [
    "from sklearn.linear_model import ElasticNet\n",
    "from sklearn.datasets import make_regression\n",
    "from sklearn.metrics import mean_squared_error\n",
    "en = ElasticNet(random_state=10, alpha=1, fit_intercept=True)\n",
    "en.fit(X_train, y_train)\n",
    "\n",
    "en_pred = en.predict(X_test)\n",
    "# mean_squared_error(y_test, en_pred, squared=True)\n",
    "print(en.score(X_test, y_test), get_score(en_pred, y_test))"
   ]
  },
  {
   "cell_type": "markdown",
   "id": "9518777a",
   "metadata": {},
   "source": [
    "### ElasticNetCV "
   ]
  },
  {
   "cell_type": "code",
   "execution_count": 441,
   "id": "8bac4ca3",
   "metadata": {},
   "outputs": [
    {
     "name": "stdout",
     "output_type": "stream",
     "text": [
      "-9.028651431841617e-05 49.3720762161246\n"
     ]
    }
   ],
   "source": [
    "from sklearn.linear_model import ElasticNetCV\n",
    "from sklearn.datasets import make_regression\n",
    "encv = ElasticNetCV(cv=50, random_state=0, eps=10, n_alphas=10)\n",
    "encv.fit(X, y)\n",
    "encv_pred = encv.predict(X_test)\n",
    "print(encv.score(X_test, y_test), get_score(encv_pred, y_test))"
   ]
  },
  {
   "cell_type": "markdown",
   "id": "91c90ca6",
   "metadata": {},
   "source": [
    "### Bayesian Ridge"
   ]
  },
  {
   "cell_type": "code",
   "execution_count": 442,
   "id": "a8b31b22",
   "metadata": {},
   "outputs": [
    {
     "data": {
      "text/plain": [
       "0.009910059627070478"
      ]
     },
     "execution_count": 442,
     "metadata": {},
     "output_type": "execute_result"
    }
   ],
   "source": [
    "from sklearn import linear_model\n",
    "br = linear_model.BayesianRidge()\n",
    "br.fit(X_train, y_train)\n",
    "br.score(X_test, y_test)"
   ]
  },
  {
   "cell_type": "markdown",
   "id": "8aa6f693",
   "metadata": {},
   "source": [
    "### SGDRegressor"
   ]
  },
  {
   "cell_type": "code",
   "execution_count": 420,
   "id": "160b82c6",
   "metadata": {},
   "outputs": [
    {
     "data": {
      "text/plain": [
       "-0.2103635491062139"
      ]
     },
     "execution_count": 420,
     "metadata": {},
     "output_type": "execute_result"
    }
   ],
   "source": [
    "from sklearn.linear_model import SGDRegressor\n",
    "from sklearn.pipeline import make_pipeline\n",
    "from sklearn.preprocessing import StandardScaler\n",
    "\n",
    "sr = make_pipeline(StandardScaler(), SGDRegressor(max_iter=1000, tol=1e-3, warm_start=True, average=True))\n",
    "sr.fit(X_train, y_train)\n",
    "sr.score(X_test, y_test)\n"
   ]
  },
  {
   "cell_type": "markdown",
   "id": "f7f4d790",
   "metadata": {},
   "source": [
    "### Gradient Boost regressor"
   ]
  },
  {
   "cell_type": "code",
   "execution_count": 421,
   "id": "f2cb9255",
   "metadata": {},
   "outputs": [
    {
     "data": {
      "text/plain": [
       "-0.01304239925043782"
      ]
     },
     "execution_count": 421,
     "metadata": {},
     "output_type": "execute_result"
    }
   ],
   "source": [
    "from sklearn.datasets import make_regression\n",
    "from sklearn.ensemble import GradientBoostingRegressor\n",
    "gbr = GradientBoostingRegressor(random_state=10, learning_rate=0.001, n_estimators=100, subsample=1)\n",
    "gbr.fit(X_train, y_train)\n",
    "gbr.score(X_test, y_test)"
   ]
  },
  {
   "cell_type": "markdown",
   "id": "2cedaf26",
   "metadata": {},
   "source": [
    "### Using k fold cross validation to measure accuracy of the linear model"
   ]
  },
  {
   "cell_type": "code",
   "execution_count": 422,
   "id": "61f4c3e1",
   "metadata": {},
   "outputs": [
    {
     "data": {
      "text/plain": [
       "array([-9.78053359e+02, -4.64424164e+00, -6.83107915e-02, -3.25681012e-01,\n",
       "       -2.28633490e-01])"
      ]
     },
     "execution_count": 422,
     "metadata": {},
     "output_type": "execute_result"
    }
   ],
   "source": [
    "from sklearn.model_selection import ShuffleSplit\n",
    "from sklearn.model_selection import cross_val_score\n",
    "\n",
    "cv = ShuffleSplit(n_splits=5, test_size=0.2, random_state=0)\n",
    "\n",
    "cross_val_score(LinearRegression(), X, y, cv=cv)"
   ]
  },
  {
   "cell_type": "markdown",
   "id": "7f67c41f",
   "metadata": {},
   "source": [
    "### Find best model using GridSearchCV"
   ]
  },
  {
   "cell_type": "code",
   "execution_count": 161,
   "id": "c53c8828",
   "metadata": {
    "scrolled": true
   },
   "outputs": [],
   "source": [
    "# from sklearn.model_selection import GridSearchCV\n",
    "\n",
    "# from sklearn.linear_model import Lasso\n",
    "# from sklearn.tree import DecisionTreeRegressor\n",
    "\n",
    "# def find_best_model_using_gridsearchcv(X,y):\n",
    "#     algos = {\n",
    "#         'linear_regression' : {\n",
    "#             'model': LinearRegression(),\n",
    "#             'params': {\n",
    "#                 'normalize': [True, False]\n",
    "#             }\n",
    "#         },\n",
    "#         'lasso': {\n",
    "#             'model': Lasso(),\n",
    "#             'params': {\n",
    "#                 'alpha': [1,2],\n",
    "#                 'selection': ['random', 'cyclic']\n",
    "#             }\n",
    "#         },\n",
    "#         'decision_tree': {\n",
    "#             'model': DecisionTreeRegressor(),\n",
    "#             'params': {\n",
    "#                 'criterion' : ['mse','friedman_mse'],\n",
    "#                 'splitter': ['best','random']\n",
    "#             }\n",
    "#         }\n",
    "#     }\n",
    "#     scores = []\n",
    "#     cv = ShuffleSplit(n_splits=5, test_size=0.2, random_state=0)\n",
    "#     for algo_name, config in algos.items():\n",
    "#         gs =  GridSearchCV(config['model'], config['params'], cv=cv, return_train_score=False)\n",
    "#         gs.fit(X,y)\n",
    "#         scores.append({\n",
    "#             'model': algo_name,\n",
    "#             'best_score': gs.best_score_,\n",
    "#             'best_params': gs.best_params_\n",
    "#         })\n",
    "\n",
    "#     return pd.DataFrame(scores,columns=['model','best_score','best_params'])\n",
    "\n",
    "# find_best_model_using_gridsearchcv(X,y)"
   ]
  },
  {
   "cell_type": "markdown",
   "id": "7110cf42",
   "metadata": {},
   "source": [
    "## Feature selection with sklearn f- regessions"
   ]
  },
  {
   "cell_type": "code",
   "execution_count": 67,
   "id": "b9a93488",
   "metadata": {},
   "outputs": [],
   "source": [
    "from sklearn.feature_selection import f_regression"
   ]
  },
  {
   "cell_type": "code",
   "execution_count": 69,
   "id": "7b39e14a",
   "metadata": {},
   "outputs": [
    {
     "data": {
      "text/plain": [
       "(8015,)"
      ]
     },
     "execution_count": 69,
     "metadata": {},
     "output_type": "execute_result"
    }
   ],
   "source": [
    "y.shape"
   ]
  },
  {
   "cell_type": "code",
   "execution_count": 71,
   "id": "fbe24e84",
   "metadata": {},
   "outputs": [],
   "source": [
    "p_values=f_regression(X,y)[1]"
   ]
  },
  {
   "cell_type": "code",
   "execution_count": 162,
   "id": "a95526af",
   "metadata": {},
   "outputs": [],
   "source": [
    "# p_values.round(3)"
   ]
  },
  {
   "cell_type": "markdown",
   "id": "aaf7e88b",
   "metadata": {},
   "source": [
    "### Feature scaling/ Standadization"
   ]
  },
  {
   "cell_type": "code",
   "execution_count": 74,
   "id": "354875e7",
   "metadata": {},
   "outputs": [],
   "source": [
    "from sklearn.preprocessing import StandardScaler"
   ]
  },
  {
   "cell_type": "code",
   "execution_count": 75,
   "id": "8914f93b",
   "metadata": {},
   "outputs": [],
   "source": [
    "scaler = StandardScaler()"
   ]
  },
  {
   "cell_type": "code",
   "execution_count": 77,
   "id": "ab57ddc3",
   "metadata": {},
   "outputs": [
    {
     "data": {
      "text/html": [
       "<style>#sk-container-id-1 {color: black;background-color: white;}#sk-container-id-1 pre{padding: 0;}#sk-container-id-1 div.sk-toggleable {background-color: white;}#sk-container-id-1 label.sk-toggleable__label {cursor: pointer;display: block;width: 100%;margin-bottom: 0;padding: 0.3em;box-sizing: border-box;text-align: center;}#sk-container-id-1 label.sk-toggleable__label-arrow:before {content: \"▸\";float: left;margin-right: 0.25em;color: #696969;}#sk-container-id-1 label.sk-toggleable__label-arrow:hover:before {color: black;}#sk-container-id-1 div.sk-estimator:hover label.sk-toggleable__label-arrow:before {color: black;}#sk-container-id-1 div.sk-toggleable__content {max-height: 0;max-width: 0;overflow: hidden;text-align: left;background-color: #f0f8ff;}#sk-container-id-1 div.sk-toggleable__content pre {margin: 0.2em;color: black;border-radius: 0.25em;background-color: #f0f8ff;}#sk-container-id-1 input.sk-toggleable__control:checked~div.sk-toggleable__content {max-height: 200px;max-width: 100%;overflow: auto;}#sk-container-id-1 input.sk-toggleable__control:checked~label.sk-toggleable__label-arrow:before {content: \"▾\";}#sk-container-id-1 div.sk-estimator input.sk-toggleable__control:checked~label.sk-toggleable__label {background-color: #d4ebff;}#sk-container-id-1 div.sk-label input.sk-toggleable__control:checked~label.sk-toggleable__label {background-color: #d4ebff;}#sk-container-id-1 input.sk-hidden--visually {border: 0;clip: rect(1px 1px 1px 1px);clip: rect(1px, 1px, 1px, 1px);height: 1px;margin: -1px;overflow: hidden;padding: 0;position: absolute;width: 1px;}#sk-container-id-1 div.sk-estimator {font-family: monospace;background-color: #f0f8ff;border: 1px dotted black;border-radius: 0.25em;box-sizing: border-box;margin-bottom: 0.5em;}#sk-container-id-1 div.sk-estimator:hover {background-color: #d4ebff;}#sk-container-id-1 div.sk-parallel-item::after {content: \"\";width: 100%;border-bottom: 1px solid gray;flex-grow: 1;}#sk-container-id-1 div.sk-label:hover label.sk-toggleable__label {background-color: #d4ebff;}#sk-container-id-1 div.sk-serial::before {content: \"\";position: absolute;border-left: 1px solid gray;box-sizing: border-box;top: 0;bottom: 0;left: 50%;z-index: 0;}#sk-container-id-1 div.sk-serial {display: flex;flex-direction: column;align-items: center;background-color: white;padding-right: 0.2em;padding-left: 0.2em;position: relative;}#sk-container-id-1 div.sk-item {position: relative;z-index: 1;}#sk-container-id-1 div.sk-parallel {display: flex;align-items: stretch;justify-content: center;background-color: white;position: relative;}#sk-container-id-1 div.sk-item::before, #sk-container-id-1 div.sk-parallel-item::before {content: \"\";position: absolute;border-left: 1px solid gray;box-sizing: border-box;top: 0;bottom: 0;left: 50%;z-index: -1;}#sk-container-id-1 div.sk-parallel-item {display: flex;flex-direction: column;z-index: 1;position: relative;background-color: white;}#sk-container-id-1 div.sk-parallel-item:first-child::after {align-self: flex-end;width: 50%;}#sk-container-id-1 div.sk-parallel-item:last-child::after {align-self: flex-start;width: 50%;}#sk-container-id-1 div.sk-parallel-item:only-child::after {width: 0;}#sk-container-id-1 div.sk-dashed-wrapped {border: 1px dashed gray;margin: 0 0.4em 0.5em 0.4em;box-sizing: border-box;padding-bottom: 0.4em;background-color: white;}#sk-container-id-1 div.sk-label label {font-family: monospace;font-weight: bold;display: inline-block;line-height: 1.2em;}#sk-container-id-1 div.sk-label-container {text-align: center;}#sk-container-id-1 div.sk-container {/* jupyter's `normalize.less` sets `[hidden] { display: none; }` but bootstrap.min.css set `[hidden] { display: none !important; }` so we also need the `!important` here to be able to override the default hidden behavior on the sphinx rendered scikit-learn.org. See: https://github.com/scikit-learn/scikit-learn/issues/21755 */display: inline-block !important;position: relative;}#sk-container-id-1 div.sk-text-repr-fallback {display: none;}</style><div id=\"sk-container-id-1\" class=\"sk-top-container\"><div class=\"sk-text-repr-fallback\"><pre>StandardScaler()</pre><b>In a Jupyter environment, please rerun this cell to show the HTML representation or trust the notebook. <br />On GitHub, the HTML representation is unable to render, please try loading this page with nbviewer.org.</b></div><div class=\"sk-container\" hidden><div class=\"sk-item\"><div class=\"sk-estimator sk-toggleable\"><input class=\"sk-toggleable__control sk-hidden--visually\" id=\"sk-estimator-id-1\" type=\"checkbox\" checked><label for=\"sk-estimator-id-1\" class=\"sk-toggleable__label sk-toggleable__label-arrow\">StandardScaler</label><div class=\"sk-toggleable__content\"><pre>StandardScaler()</pre></div></div></div></div></div>"
      ],
      "text/plain": [
       "StandardScaler()"
      ]
     },
     "execution_count": 77,
     "metadata": {},
     "output_type": "execute_result"
    }
   ],
   "source": [
    "scaler.fit(X)"
   ]
  },
  {
   "cell_type": "code",
   "execution_count": 82,
   "id": "24e7797f",
   "metadata": {},
   "outputs": [],
   "source": [
    "x_scaled = scaler.fit_transform(X_train)"
   ]
  },
  {
   "cell_type": "code",
   "execution_count": 83,
   "id": "f821d522",
   "metadata": {},
   "outputs": [
    {
     "name": "stderr",
     "output_type": "stream",
     "text": [
      "C:\\Users\\Brian\\anaconda3\\envs\\py3-TF\\lib\\site-packages\\sklearn\\base.py:443: UserWarning: X has feature names, but RandomForestRegressor was fitted without feature names\n",
      "  warnings.warn(\n"
     ]
    },
    {
     "data": {
      "text/plain": [
       "-1.2794492543758436"
      ]
     },
     "execution_count": 83,
     "metadata": {},
     "output_type": "execute_result"
    }
   ],
   "source": [
    "rf_reg.fit(x_scaled, y_train) \n",
    "rf_reg.score(X_test,y_test)"
   ]
  },
  {
   "cell_type": "code",
   "execution_count": 84,
   "id": "7d6ed57a",
   "metadata": {},
   "outputs": [
    {
     "name": "stderr",
     "output_type": "stream",
     "text": [
      "C:\\Users\\Brian\\anaconda3\\envs\\py3-TF\\lib\\site-packages\\sklearn\\base.py:443: UserWarning: X has feature names, but LinearRegression was fitted without feature names\n",
      "  warnings.warn(\n"
     ]
    },
    {
     "data": {
      "text/plain": [
       "-3.236426112189673e+35"
      ]
     },
     "execution_count": 84,
     "metadata": {},
     "output_type": "execute_result"
    }
   ],
   "source": [
    "lr_clf.fit(x_scaled,y_train)\n"
   ]
  },
  {
   "cell_type": "code",
   "execution_count": 85,
   "id": "968e34d5",
   "metadata": {},
   "outputs": [],
   "source": [
    "x_test_scaled = scaler.fit_transform(X_test)"
   ]
  },
  {
   "cell_type": "code",
   "execution_count": 86,
   "id": "30031e3e",
   "metadata": {},
   "outputs": [
    {
     "data": {
      "text/plain": [
       "-4.577395519585258e+21"
      ]
     },
     "execution_count": 86,
     "metadata": {},
     "output_type": "execute_result"
    }
   ],
   "source": [
    "lr_clf.score(x_test_scaled,y_test)"
   ]
  }
 ],
 "metadata": {
  "kernelspec": {
   "display_name": "Python [conda env:py3-TF]",
   "language": "python",
   "name": "conda-env-py3-TF-py"
  },
  "language_info": {
   "codemirror_mode": {
    "name": "ipython",
    "version": 3
   },
   "file_extension": ".py",
   "mimetype": "text/x-python",
   "name": "python",
   "nbconvert_exporter": "python",
   "pygments_lexer": "ipython3",
   "version": "3.8.13"
  }
 },
 "nbformat": 4,
 "nbformat_minor": 5
}
