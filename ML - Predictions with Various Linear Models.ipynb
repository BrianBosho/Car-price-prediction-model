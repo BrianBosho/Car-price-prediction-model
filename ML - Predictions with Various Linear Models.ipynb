{
 "cells": [
  {
   "cell_type": "code",
   "execution_count": 3,
   "id": "15b708b6",
   "metadata": {},
   "outputs": [],
   "source": [
    "import pandas as pd\n",
    "import numpy as np\n",
    "import matplotlib.pyplot as plt"
   ]
  },
  {
   "cell_type": "code",
   "execution_count": 4,
   "id": "ddb9b7f1",
   "metadata": {},
   "outputs": [],
   "source": [
    "import matplotlib.pyplot as plt\n",
    "%matplotlib inline\n",
    "import seaborn as sns\n",
    "from sklearn.model_selection import train_test_split\n",
    "from sklearn.preprocessing import StandardScaler\n",
    "from sklearn.linear_model import LinearRegression\n",
    "from sklearn import metrics"
   ]
  },
  {
   "cell_type": "code",
   "execution_count": 5,
   "id": "a629f87d",
   "metadata": {},
   "outputs": [
    {
     "name": "stderr",
     "output_type": "stream",
     "text": [
      "C:\\Users\\Brian\\AppData\\Local\\Temp\\ipykernel_4820\\3755871208.py:1: DtypeWarning: Columns (9) have mixed types. Specify dtype option on import or set low_memory=False.\n",
      "  df= pd.read_csv('general_car_data.csv')\n"
     ]
    }
   ],
   "source": [
    "df= pd.read_csv('general_car_data.csv')"
   ]
  },
  {
   "cell_type": "code",
   "execution_count": 6,
   "id": "20a0b851",
   "metadata": {},
   "outputs": [
    {
     "data": {
      "text/html": [
       "<div>\n",
       "<style scoped>\n",
       "    .dataframe tbody tr th:only-of-type {\n",
       "        vertical-align: middle;\n",
       "    }\n",
       "\n",
       "    .dataframe tbody tr th {\n",
       "        vertical-align: top;\n",
       "    }\n",
       "\n",
       "    .dataframe thead th {\n",
       "        text-align: right;\n",
       "    }\n",
       "</style>\n",
       "<table border=\"1\" class=\"dataframe\">\n",
       "  <thead>\n",
       "    <tr style=\"text-align: right;\">\n",
       "      <th></th>\n",
       "      <th>Unnamed: 0</th>\n",
       "      <th>Condition</th>\n",
       "      <th>Make</th>\n",
       "      <th>Body</th>\n",
       "      <th>Fuel</th>\n",
       "      <th>Second Condition</th>\n",
       "      <th>Registered Car</th>\n",
       "      <th>Model</th>\n",
       "      <th>Exchange Possible</th>\n",
       "      <th>Seats</th>\n",
       "      <th>...</th>\n",
       "      <th>region_name</th>\n",
       "      <th>count_images</th>\n",
       "      <th>count_views</th>\n",
       "      <th>id_y</th>\n",
       "      <th>description</th>\n",
       "      <th>boost</th>\n",
       "      <th>min_est</th>\n",
       "      <th>max_est</th>\n",
       "      <th>paid_infor</th>\n",
       "      <th>avg_est</th>\n",
       "    </tr>\n",
       "  </thead>\n",
       "  <tbody>\n",
       "    <tr>\n",
       "      <th>0</th>\n",
       "      <td>0</td>\n",
       "      <td>Kenyan Used</td>\n",
       "      <td>Toyota</td>\n",
       "      <td>NaN</td>\n",
       "      <td>NaN</td>\n",
       "      <td>['Original parts', 'Unpainted', 'No faults']</td>\n",
       "      <td>Yes</td>\n",
       "      <td>Crown</td>\n",
       "      <td>['No']</td>\n",
       "      <td>NaN</td>\n",
       "      <td>...</td>\n",
       "      <td>Kilimani</td>\n",
       "      <td>5.0</td>\n",
       "      <td>125.0</td>\n",
       "      <td>10593924.0</td>\n",
       "      <td>Alloy wheels Fog lights Steering controls beig...</td>\n",
       "      <td>40X Diamond</td>\n",
       "      <td>1400000.0</td>\n",
       "      <td>1450000.0</td>\n",
       "      <td>Sponsored</td>\n",
       "      <td>1425000.0</td>\n",
       "    </tr>\n",
       "    <tr>\n",
       "      <th>1</th>\n",
       "      <td>1</td>\n",
       "      <td>Foreign Used</td>\n",
       "      <td>Mazda</td>\n",
       "      <td>NaN</td>\n",
       "      <td>NaN</td>\n",
       "      <td>['No faults']</td>\n",
       "      <td>NaN</td>\n",
       "      <td>CX-5</td>\n",
       "      <td>NaN</td>\n",
       "      <td>NaN</td>\n",
       "      <td>...</td>\n",
       "      <td>Kilimani</td>\n",
       "      <td>8.0</td>\n",
       "      <td>36.0</td>\n",
       "      <td>10717151.0</td>\n",
       "      <td>Mazda CX-5, petrol, 2016, 2000cc, white in col...</td>\n",
       "      <td>VIP TOP+</td>\n",
       "      <td>2500000.0</td>\n",
       "      <td>2650000.0</td>\n",
       "      <td>Sponsored</td>\n",
       "      <td>2575000.0</td>\n",
       "    </tr>\n",
       "    <tr>\n",
       "      <th>2</th>\n",
       "      <td>2</td>\n",
       "      <td>Foreign Used</td>\n",
       "      <td>Mazda</td>\n",
       "      <td>NaN</td>\n",
       "      <td>NaN</td>\n",
       "      <td>['No faults']</td>\n",
       "      <td>Yes</td>\n",
       "      <td>Demio</td>\n",
       "      <td>NaN</td>\n",
       "      <td>NaN</td>\n",
       "      <td>...</td>\n",
       "      <td>Ridgeways</td>\n",
       "      <td>6.0</td>\n",
       "      <td>314.0</td>\n",
       "      <td>10417467.0</td>\n",
       "      <td>2015 Mazda demio diesel,alloy rims, steering c...</td>\n",
       "      <td>VIP TOP+</td>\n",
       "      <td>1080000.0</td>\n",
       "      <td>1100000.0</td>\n",
       "      <td>Sponsored</td>\n",
       "      <td>1090000.0</td>\n",
       "    </tr>\n",
       "    <tr>\n",
       "      <th>3</th>\n",
       "      <td>3</td>\n",
       "      <td>Kenyan Used</td>\n",
       "      <td>Mazda</td>\n",
       "      <td>NaN</td>\n",
       "      <td>NaN</td>\n",
       "      <td>['No faults', 'Original parts']</td>\n",
       "      <td>Yes</td>\n",
       "      <td>CX-5</td>\n",
       "      <td>NaN</td>\n",
       "      <td>NaN</td>\n",
       "      <td>...</td>\n",
       "      <td>Langata</td>\n",
       "      <td>9.0</td>\n",
       "      <td>87.0</td>\n",
       "      <td>10754171.0</td>\n",
       "      <td>2200cc Diesel,\\nSkyactive,\\ncruise control,\\nI...</td>\n",
       "      <td>VIP TOP+</td>\n",
       "      <td>NaN</td>\n",
       "      <td>NaN</td>\n",
       "      <td>Sponsored</td>\n",
       "      <td>NaN</td>\n",
       "    </tr>\n",
       "    <tr>\n",
       "      <th>4</th>\n",
       "      <td>4</td>\n",
       "      <td>Foreign Used</td>\n",
       "      <td>Peugeot</td>\n",
       "      <td>NaN</td>\n",
       "      <td>NaN</td>\n",
       "      <td>['No faults']</td>\n",
       "      <td>No</td>\n",
       "      <td>508</td>\n",
       "      <td>['Yes']</td>\n",
       "      <td>NaN</td>\n",
       "      <td>...</td>\n",
       "      <td>Nairobi Central</td>\n",
       "      <td>17.0</td>\n",
       "      <td>2344.0</td>\n",
       "      <td>7115429.0</td>\n",
       "      <td>Peugeot 508 \\n\\n2014 Model | 1600cc petrol eng...</td>\n",
       "      <td>5X Diamond</td>\n",
       "      <td>NaN</td>\n",
       "      <td>NaN</td>\n",
       "      <td>Sponsored</td>\n",
       "      <td>NaN</td>\n",
       "    </tr>\n",
       "  </tbody>\n",
       "</table>\n",
       "<p>5 rows × 39 columns</p>\n",
       "</div>"
      ],
      "text/plain": [
       "   Unnamed: 0     Condition     Make Body Fuel  \\\n",
       "0           0   Kenyan Used   Toyota  NaN  NaN   \n",
       "1           1  Foreign Used    Mazda  NaN  NaN   \n",
       "2           2  Foreign Used    Mazda  NaN  NaN   \n",
       "3           3   Kenyan Used    Mazda  NaN  NaN   \n",
       "4           4  Foreign Used  Peugeot  NaN  NaN   \n",
       "\n",
       "                               Second Condition Registered Car  Model  \\\n",
       "0  ['Original parts', 'Unpainted', 'No faults']            Yes  Crown   \n",
       "1                                 ['No faults']            NaN   CX-5   \n",
       "2                                 ['No faults']            Yes  Demio   \n",
       "3               ['No faults', 'Original parts']            Yes   CX-5   \n",
       "4                                 ['No faults']             No    508   \n",
       "\n",
       "  Exchange Possible Seats  ...      region_name count_images count_views  \\\n",
       "0            ['No']   NaN  ...         Kilimani          5.0       125.0   \n",
       "1               NaN   NaN  ...         Kilimani          8.0        36.0   \n",
       "2               NaN   NaN  ...        Ridgeways          6.0       314.0   \n",
       "3               NaN   NaN  ...          Langata          9.0        87.0   \n",
       "4           ['Yes']   NaN  ...  Nairobi Central         17.0      2344.0   \n",
       "\n",
       "         id_y                                        description        boost  \\\n",
       "0  10593924.0  Alloy wheels Fog lights Steering controls beig...  40X Diamond   \n",
       "1  10717151.0  Mazda CX-5, petrol, 2016, 2000cc, white in col...     VIP TOP+   \n",
       "2  10417467.0  2015 Mazda demio diesel,alloy rims, steering c...     VIP TOP+   \n",
       "3  10754171.0  2200cc Diesel,\\nSkyactive,\\ncruise control,\\nI...     VIP TOP+   \n",
       "4   7115429.0  Peugeot 508 \\n\\n2014 Model | 1600cc petrol eng...   5X Diamond   \n",
       "\n",
       "     min_est    max_est  paid_infor    avg_est  \n",
       "0  1400000.0  1450000.0   Sponsored  1425000.0  \n",
       "1  2500000.0  2650000.0   Sponsored  2575000.0  \n",
       "2  1080000.0  1100000.0   Sponsored  1090000.0  \n",
       "3        NaN        NaN   Sponsored        NaN  \n",
       "4        NaN        NaN   Sponsored        NaN  \n",
       "\n",
       "[5 rows x 39 columns]"
      ]
     },
     "execution_count": 6,
     "metadata": {},
     "output_type": "execute_result"
    }
   ],
   "source": [
    "df.head()"
   ]
  },
  {
   "cell_type": "code",
   "execution_count": 7,
   "id": "a21c9e68",
   "metadata": {},
   "outputs": [],
   "source": [
    "# Creat a new column called Age:\n",
    "df['Age']= df['Year of Manufacture'].apply(lambda x: (2022-int(x)) if pd.notna(x)  else x)"
   ]
  },
  {
   "cell_type": "markdown",
   "id": "d5399863",
   "metadata": {},
   "source": [
    "# Selecting the columns to use in training the model"
   ]
  },
  {
   "cell_type": "code",
   "execution_count": 8,
   "id": "d44d9e25",
   "metadata": {},
   "outputs": [],
   "source": [
    "selected_cols= ['Condition', 'Make','Age','Model','Transmission','Mileage', 'selling_price', 'Color','Registered Car','region_name',]"
   ]
  },
  {
   "cell_type": "code",
   "execution_count": 9,
   "id": "3e4a8034",
   "metadata": {},
   "outputs": [],
   "source": [
    "df_train = df[selected_cols]"
   ]
  },
  {
   "cell_type": "code",
   "execution_count": 10,
   "id": "564964fb",
   "metadata": {},
   "outputs": [
    {
     "data": {
      "text/plain": [
       "Condition          109\n",
       "Make               109\n",
       "Age                109\n",
       "Model              109\n",
       "Transmission        19\n",
       "Mileage           5349\n",
       "selling_price       18\n",
       "Color               22\n",
       "Registered Car    2482\n",
       "region_name         18\n",
       "dtype: int64"
      ]
     },
     "execution_count": 10,
     "metadata": {},
     "output_type": "execute_result"
    }
   ],
   "source": [
    "# Check null\n",
    "df_train.isnull().sum()"
   ]
  },
  {
   "cell_type": "code",
   "execution_count": 11,
   "id": "784e1efe",
   "metadata": {},
   "outputs": [
    {
     "name": "stderr",
     "output_type": "stream",
     "text": [
      "C:\\Users\\Brian\\AppData\\Local\\Temp\\ipykernel_4820\\1885435260.py:2: SettingWithCopyWarning: \n",
      "A value is trying to be set on a copy of a slice from a DataFrame\n",
      "\n",
      "See the caveats in the documentation: https://pandas.pydata.org/pandas-docs/stable/user_guide/indexing.html#returning-a-view-versus-a-copy\n",
      "  df_train.dropna(inplace=True)\n"
     ]
    }
   ],
   "source": [
    "#Drop null\n",
    "df_train.dropna(inplace=True)"
   ]
  },
  {
   "cell_type": "code",
   "execution_count": 12,
   "id": "7ccdd31a",
   "metadata": {
    "scrolled": true
   },
   "outputs": [
    {
     "data": {
      "text/html": [
       "<div>\n",
       "<style scoped>\n",
       "    .dataframe tbody tr th:only-of-type {\n",
       "        vertical-align: middle;\n",
       "    }\n",
       "\n",
       "    .dataframe tbody tr th {\n",
       "        vertical-align: top;\n",
       "    }\n",
       "\n",
       "    .dataframe thead th {\n",
       "        text-align: right;\n",
       "    }\n",
       "</style>\n",
       "<table border=\"1\" class=\"dataframe\">\n",
       "  <thead>\n",
       "    <tr style=\"text-align: right;\">\n",
       "      <th></th>\n",
       "      <th>Condition</th>\n",
       "      <th>Make</th>\n",
       "      <th>Age</th>\n",
       "      <th>Model</th>\n",
       "      <th>Transmission</th>\n",
       "      <th>Mileage</th>\n",
       "      <th>selling_price</th>\n",
       "      <th>Color</th>\n",
       "      <th>Registered Car</th>\n",
       "      <th>region_name</th>\n",
       "    </tr>\n",
       "  </thead>\n",
       "  <tbody>\n",
       "    <tr>\n",
       "      <th>2</th>\n",
       "      <td>Foreign Used</td>\n",
       "      <td>Mazda</td>\n",
       "      <td>7.0</td>\n",
       "      <td>Demio</td>\n",
       "      <td>Automatic</td>\n",
       "      <td>117000.0</td>\n",
       "      <td>1090000.0</td>\n",
       "      <td>Silver</td>\n",
       "      <td>Yes</td>\n",
       "      <td>Ridgeways</td>\n",
       "    </tr>\n",
       "    <tr>\n",
       "      <th>3</th>\n",
       "      <td>Kenyan Used</td>\n",
       "      <td>Mazda</td>\n",
       "      <td>9.0</td>\n",
       "      <td>CX-5</td>\n",
       "      <td>AMT</td>\n",
       "      <td>92929.0</td>\n",
       "      <td>1720000.0</td>\n",
       "      <td>Black</td>\n",
       "      <td>Yes</td>\n",
       "      <td>Langata</td>\n",
       "    </tr>\n",
       "    <tr>\n",
       "      <th>4</th>\n",
       "      <td>Foreign Used</td>\n",
       "      <td>Peugeot</td>\n",
       "      <td>8.0</td>\n",
       "      <td>508</td>\n",
       "      <td>Automatic</td>\n",
       "      <td>91000.0</td>\n",
       "      <td>1999000.0</td>\n",
       "      <td>Black</td>\n",
       "      <td>No</td>\n",
       "      <td>Nairobi Central</td>\n",
       "    </tr>\n",
       "    <tr>\n",
       "      <th>8</th>\n",
       "      <td>Kenyan Used</td>\n",
       "      <td>Honda</td>\n",
       "      <td>8.0</td>\n",
       "      <td>Fit</td>\n",
       "      <td>Automatic</td>\n",
       "      <td>117000.0</td>\n",
       "      <td>1050000.0</td>\n",
       "      <td>Silver</td>\n",
       "      <td>Yes</td>\n",
       "      <td>Nairobi Central</td>\n",
       "    </tr>\n",
       "    <tr>\n",
       "      <th>10</th>\n",
       "      <td>Foreign Used</td>\n",
       "      <td>Nissan</td>\n",
       "      <td>7.0</td>\n",
       "      <td>X-Trail</td>\n",
       "      <td>Automatic</td>\n",
       "      <td>87000.0</td>\n",
       "      <td>2500000.0</td>\n",
       "      <td>Black</td>\n",
       "      <td>Yes</td>\n",
       "      <td>Kilimani</td>\n",
       "    </tr>\n",
       "  </tbody>\n",
       "</table>\n",
       "</div>"
      ],
      "text/plain": [
       "       Condition     Make  Age    Model Transmission   Mileage  selling_price  \\\n",
       "2   Foreign Used    Mazda  7.0    Demio    Automatic  117000.0      1090000.0   \n",
       "3    Kenyan Used    Mazda  9.0     CX-5          AMT   92929.0      1720000.0   \n",
       "4   Foreign Used  Peugeot  8.0      508    Automatic   91000.0      1999000.0   \n",
       "8    Kenyan Used    Honda  8.0      Fit    Automatic  117000.0      1050000.0   \n",
       "10  Foreign Used   Nissan  7.0  X-Trail    Automatic   87000.0      2500000.0   \n",
       "\n",
       "     Color Registered Car      region_name  \n",
       "2   Silver            Yes        Ridgeways  \n",
       "3    Black            Yes          Langata  \n",
       "4    Black             No  Nairobi Central  \n",
       "8   Silver            Yes  Nairobi Central  \n",
       "10   Black            Yes         Kilimani  "
      ]
     },
     "execution_count": 12,
     "metadata": {},
     "output_type": "execute_result"
    }
   ],
   "source": [
    "df_train.head()"
   ]
  },
  {
   "cell_type": "code",
   "execution_count": 13,
   "id": "beef1a1a",
   "metadata": {},
   "outputs": [
    {
     "data": {
      "text/html": [
       "<div>\n",
       "<style scoped>\n",
       "    .dataframe tbody tr th:only-of-type {\n",
       "        vertical-align: middle;\n",
       "    }\n",
       "\n",
       "    .dataframe tbody tr th {\n",
       "        vertical-align: top;\n",
       "    }\n",
       "\n",
       "    .dataframe thead th {\n",
       "        text-align: right;\n",
       "    }\n",
       "</style>\n",
       "<table border=\"1\" class=\"dataframe\">\n",
       "  <thead>\n",
       "    <tr style=\"text-align: right;\">\n",
       "      <th></th>\n",
       "      <th>Age</th>\n",
       "      <th>Mileage</th>\n",
       "      <th>selling_price</th>\n",
       "    </tr>\n",
       "  </thead>\n",
       "  <tbody>\n",
       "    <tr>\n",
       "      <th>Age</th>\n",
       "      <td>1.000000</td>\n",
       "      <td>0.349015</td>\n",
       "      <td>0.007662</td>\n",
       "    </tr>\n",
       "    <tr>\n",
       "      <th>Mileage</th>\n",
       "      <td>0.349015</td>\n",
       "      <td>1.000000</td>\n",
       "      <td>-0.002995</td>\n",
       "    </tr>\n",
       "    <tr>\n",
       "      <th>selling_price</th>\n",
       "      <td>0.007662</td>\n",
       "      <td>-0.002995</td>\n",
       "      <td>1.000000</td>\n",
       "    </tr>\n",
       "  </tbody>\n",
       "</table>\n",
       "</div>"
      ],
      "text/plain": [
       "                    Age   Mileage  selling_price\n",
       "Age            1.000000  0.349015       0.007662\n",
       "Mileage        0.349015  1.000000      -0.002995\n",
       "selling_price  0.007662 -0.002995       1.000000"
      ]
     },
     "execution_count": 13,
     "metadata": {},
     "output_type": "execute_result"
    }
   ],
   "source": [
    "df_train.corr()"
   ]
  },
  {
   "cell_type": "markdown",
   "id": "c304923a",
   "metadata": {},
   "source": [
    "## Select Car Model & Train for single Model"
   ]
  },
  {
   "cell_type": "code",
   "execution_count": 14,
   "id": "8f066317",
   "metadata": {},
   "outputs": [],
   "source": [
    "selected_model = 'Harrier'"
   ]
  },
  {
   "cell_type": "code",
   "execution_count": 15,
   "id": "168aa1c4",
   "metadata": {},
   "outputs": [],
   "source": [
    "# df['Model'].value_counts()\n",
    "filt1= df_train['Model']==selected_model\n",
    "df1=df_train.loc[filt1]"
   ]
  },
  {
   "cell_type": "code",
   "execution_count": 16,
   "id": "547bfc97",
   "metadata": {},
   "outputs": [],
   "source": [
    "q = df1['selling_price'].quantile(.75)\n",
    "filt2 = df1['selling_price'] <q\n",
    "df1 = df1.loc[filt2]"
   ]
  },
  {
   "cell_type": "code",
   "execution_count": 17,
   "id": "12b32f07",
   "metadata": {},
   "outputs": [],
   "source": [
    "# one hot encoding\n",
    "df1 = pd.get_dummies(df1, columns=['Condition', 'Transmission'], drop_first=True)"
   ]
  },
  {
   "cell_type": "code",
   "execution_count": 18,
   "id": "9a7eb982",
   "metadata": {},
   "outputs": [],
   "source": [
    "# df1.columns\n",
    "ls_drops=['Make', 'Model']"
   ]
  },
  {
   "cell_type": "code",
   "execution_count": 19,
   "id": "84b04d91",
   "metadata": {},
   "outputs": [],
   "source": [
    "df1 = df1.drop(ls_drops, axis=1)"
   ]
  },
  {
   "cell_type": "code",
   "execution_count": 20,
   "id": "c976ecce",
   "metadata": {},
   "outputs": [
    {
     "data": {
      "text/plain": [
       "Index(['Age', 'Mileage', 'selling_price', 'Color', 'Registered Car',\n",
       "       'region_name', 'Condition_Kenyan Used', 'Transmission_CVT'],\n",
       "      dtype='object')"
      ]
     },
     "execution_count": 20,
     "metadata": {},
     "output_type": "execute_result"
    }
   ],
   "source": [
    "df1.columns"
   ]
  },
  {
   "cell_type": "code",
   "execution_count": 21,
   "id": "dffe2e60",
   "metadata": {},
   "outputs": [],
   "source": [
    "x= df1.drop('selling_price', axis=1)\n",
    "y= df1.selling_price"
   ]
  },
  {
   "cell_type": "code",
   "execution_count": 22,
   "id": "ecb58eeb",
   "metadata": {},
   "outputs": [],
   "source": [
    "x_train, x_test, y_train, y_test = train_test_split(x, y, test_size=0.3, random_state=42)"
   ]
  },
  {
   "cell_type": "code",
   "execution_count": 23,
   "id": "4cf11985",
   "metadata": {},
   "outputs": [
    {
     "data": {
      "text/html": [
       "<div>\n",
       "<style scoped>\n",
       "    .dataframe tbody tr th:only-of-type {\n",
       "        vertical-align: middle;\n",
       "    }\n",
       "\n",
       "    .dataframe tbody tr th {\n",
       "        vertical-align: top;\n",
       "    }\n",
       "\n",
       "    .dataframe thead th {\n",
       "        text-align: right;\n",
       "    }\n",
       "</style>\n",
       "<table border=\"1\" class=\"dataframe\">\n",
       "  <thead>\n",
       "    <tr style=\"text-align: right;\">\n",
       "      <th></th>\n",
       "      <th>Age</th>\n",
       "      <th>Mileage</th>\n",
       "      <th>Color</th>\n",
       "      <th>Registered Car</th>\n",
       "      <th>region_name</th>\n",
       "      <th>Condition_Kenyan Used</th>\n",
       "      <th>Transmission_CVT</th>\n",
       "    </tr>\n",
       "  </thead>\n",
       "  <tbody>\n",
       "    <tr>\n",
       "      <th>4244</th>\n",
       "      <td>8.0</td>\n",
       "      <td>41000.0</td>\n",
       "      <td>Silver</td>\n",
       "      <td>Yes</td>\n",
       "      <td>Ganjoni</td>\n",
       "      <td>0</td>\n",
       "      <td>0</td>\n",
       "    </tr>\n",
       "    <tr>\n",
       "      <th>16656</th>\n",
       "      <td>12.0</td>\n",
       "      <td>85000.0</td>\n",
       "      <td>Black</td>\n",
       "      <td>Yes</td>\n",
       "      <td>Langata</td>\n",
       "      <td>1</td>\n",
       "      <td>0</td>\n",
       "    </tr>\n",
       "    <tr>\n",
       "      <th>694</th>\n",
       "      <td>13.0</td>\n",
       "      <td>99663.0</td>\n",
       "      <td>Black</td>\n",
       "      <td>Yes</td>\n",
       "      <td>Muthaiga</td>\n",
       "      <td>1</td>\n",
       "      <td>0</td>\n",
       "    </tr>\n",
       "    <tr>\n",
       "      <th>13461</th>\n",
       "      <td>8.0</td>\n",
       "      <td>58066.0</td>\n",
       "      <td>Off white</td>\n",
       "      <td>No</td>\n",
       "      <td>Mombasa CBD</td>\n",
       "      <td>0</td>\n",
       "      <td>0</td>\n",
       "    </tr>\n",
       "    <tr>\n",
       "      <th>5278</th>\n",
       "      <td>7.0</td>\n",
       "      <td>87408.0</td>\n",
       "      <td>Purple</td>\n",
       "      <td>Yes</td>\n",
       "      <td>Mvita</td>\n",
       "      <td>0</td>\n",
       "      <td>0</td>\n",
       "    </tr>\n",
       "    <tr>\n",
       "      <th>...</th>\n",
       "      <td>...</td>\n",
       "      <td>...</td>\n",
       "      <td>...</td>\n",
       "      <td>...</td>\n",
       "      <td>...</td>\n",
       "      <td>...</td>\n",
       "      <td>...</td>\n",
       "    </tr>\n",
       "    <tr>\n",
       "      <th>8503</th>\n",
       "      <td>7.0</td>\n",
       "      <td>52000.0</td>\n",
       "      <td>Purple</td>\n",
       "      <td>Yes</td>\n",
       "      <td>Mvita</td>\n",
       "      <td>0</td>\n",
       "      <td>0</td>\n",
       "    </tr>\n",
       "    <tr>\n",
       "      <th>4025</th>\n",
       "      <td>12.0</td>\n",
       "      <td>112078.0</td>\n",
       "      <td>White</td>\n",
       "      <td>Yes</td>\n",
       "      <td>Ridgeways</td>\n",
       "      <td>1</td>\n",
       "      <td>0</td>\n",
       "    </tr>\n",
       "    <tr>\n",
       "      <th>5298</th>\n",
       "      <td>8.0</td>\n",
       "      <td>122400.0</td>\n",
       "      <td>Silver</td>\n",
       "      <td>Yes</td>\n",
       "      <td>Mombasa CBD</td>\n",
       "      <td>0</td>\n",
       "      <td>0</td>\n",
       "    </tr>\n",
       "    <tr>\n",
       "      <th>12730</th>\n",
       "      <td>8.0</td>\n",
       "      <td>98000.0</td>\n",
       "      <td>Black</td>\n",
       "      <td>No</td>\n",
       "      <td>Parklands/Highridge</td>\n",
       "      <td>0</td>\n",
       "      <td>0</td>\n",
       "    </tr>\n",
       "    <tr>\n",
       "      <th>5200</th>\n",
       "      <td>7.0</td>\n",
       "      <td>101000.0</td>\n",
       "      <td>Black</td>\n",
       "      <td>No</td>\n",
       "      <td>Kilimani</td>\n",
       "      <td>0</td>\n",
       "      <td>0</td>\n",
       "    </tr>\n",
       "  </tbody>\n",
       "</table>\n",
       "<p>243 rows × 7 columns</p>\n",
       "</div>"
      ],
      "text/plain": [
       "        Age   Mileage      Color Registered Car          region_name  \\\n",
       "4244    8.0   41000.0     Silver            Yes              Ganjoni   \n",
       "16656  12.0   85000.0      Black            Yes              Langata   \n",
       "694    13.0   99663.0      Black            Yes             Muthaiga   \n",
       "13461   8.0   58066.0  Off white             No          Mombasa CBD   \n",
       "5278    7.0   87408.0     Purple            Yes                Mvita   \n",
       "...     ...       ...        ...            ...                  ...   \n",
       "8503    7.0   52000.0     Purple            Yes                Mvita   \n",
       "4025   12.0  112078.0      White            Yes            Ridgeways   \n",
       "5298    8.0  122400.0     Silver            Yes          Mombasa CBD   \n",
       "12730   8.0   98000.0      Black             No  Parklands/Highridge   \n",
       "5200    7.0  101000.0      Black             No             Kilimani   \n",
       "\n",
       "       Condition_Kenyan Used  Transmission_CVT  \n",
       "4244                       0                 0  \n",
       "16656                      1                 0  \n",
       "694                        1                 0  \n",
       "13461                      0                 0  \n",
       "5278                       0                 0  \n",
       "...                      ...               ...  \n",
       "8503                       0                 0  \n",
       "4025                       1                 0  \n",
       "5298                       0                 0  \n",
       "12730                      0                 0  \n",
       "5200                       0                 0  \n",
       "\n",
       "[243 rows x 7 columns]"
      ]
     },
     "execution_count": 23,
     "metadata": {},
     "output_type": "execute_result"
    }
   ],
   "source": [
    "x_train"
   ]
  },
  {
   "cell_type": "code",
   "execution_count": 24,
   "id": "c39651df",
   "metadata": {},
   "outputs": [
    {
     "ename": "ValueError",
     "evalue": "could not convert string to float: 'Silver'",
     "output_type": "error",
     "traceback": [
      "\u001b[1;31m---------------------------------------------------------------------------\u001b[0m",
      "\u001b[1;31mValueError\u001b[0m                                Traceback (most recent call last)",
      "Input \u001b[1;32mIn [24]\u001b[0m, in \u001b[0;36m<cell line: 3>\u001b[1;34m()\u001b[0m\n\u001b[0;32m      1\u001b[0m \u001b[38;5;66;03m# normalize the data\u001b[39;00m\n\u001b[0;32m      2\u001b[0m scaler \u001b[38;5;241m=\u001b[39m StandardScaler()\n\u001b[1;32m----> 3\u001b[0m x_train \u001b[38;5;241m=\u001b[39m \u001b[43mscaler\u001b[49m\u001b[38;5;241;43m.\u001b[39;49m\u001b[43mfit_transform\u001b[49m\u001b[43m(\u001b[49m\u001b[43mx_train\u001b[49m\u001b[43m)\u001b[49m\n\u001b[0;32m      4\u001b[0m x_test \u001b[38;5;241m=\u001b[39m scaler\u001b[38;5;241m.\u001b[39mtransform(x_test)\n",
      "File \u001b[1;32m~\\anaconda3\\lib\\site-packages\\sklearn\\base.py:852\u001b[0m, in \u001b[0;36mTransformerMixin.fit_transform\u001b[1;34m(self, X, y, **fit_params)\u001b[0m\n\u001b[0;32m    848\u001b[0m \u001b[38;5;66;03m# non-optimized default implementation; override when a better\u001b[39;00m\n\u001b[0;32m    849\u001b[0m \u001b[38;5;66;03m# method is possible for a given clustering algorithm\u001b[39;00m\n\u001b[0;32m    850\u001b[0m \u001b[38;5;28;01mif\u001b[39;00m y \u001b[38;5;129;01mis\u001b[39;00m \u001b[38;5;28;01mNone\u001b[39;00m:\n\u001b[0;32m    851\u001b[0m     \u001b[38;5;66;03m# fit method of arity 1 (unsupervised transformation)\u001b[39;00m\n\u001b[1;32m--> 852\u001b[0m     \u001b[38;5;28;01mreturn\u001b[39;00m \u001b[38;5;28mself\u001b[39m\u001b[38;5;241m.\u001b[39mfit(X, \u001b[38;5;241m*\u001b[39m\u001b[38;5;241m*\u001b[39mfit_params)\u001b[38;5;241m.\u001b[39mtransform(X)\n\u001b[0;32m    853\u001b[0m \u001b[38;5;28;01melse\u001b[39;00m:\n\u001b[0;32m    854\u001b[0m     \u001b[38;5;66;03m# fit method of arity 2 (supervised transformation)\u001b[39;00m\n\u001b[0;32m    855\u001b[0m     \u001b[38;5;28;01mreturn\u001b[39;00m \u001b[38;5;28mself\u001b[39m\u001b[38;5;241m.\u001b[39mfit(X, y, \u001b[38;5;241m*\u001b[39m\u001b[38;5;241m*\u001b[39mfit_params)\u001b[38;5;241m.\u001b[39mtransform(X)\n",
      "File \u001b[1;32m~\\anaconda3\\lib\\site-packages\\sklearn\\preprocessing\\_data.py:806\u001b[0m, in \u001b[0;36mStandardScaler.fit\u001b[1;34m(self, X, y, sample_weight)\u001b[0m\n\u001b[0;32m    804\u001b[0m \u001b[38;5;66;03m# Reset internal state before fitting\u001b[39;00m\n\u001b[0;32m    805\u001b[0m \u001b[38;5;28mself\u001b[39m\u001b[38;5;241m.\u001b[39m_reset()\n\u001b[1;32m--> 806\u001b[0m \u001b[38;5;28;01mreturn\u001b[39;00m \u001b[38;5;28;43mself\u001b[39;49m\u001b[38;5;241;43m.\u001b[39;49m\u001b[43mpartial_fit\u001b[49m\u001b[43m(\u001b[49m\u001b[43mX\u001b[49m\u001b[43m,\u001b[49m\u001b[43m \u001b[49m\u001b[43my\u001b[49m\u001b[43m,\u001b[49m\u001b[43m \u001b[49m\u001b[43msample_weight\u001b[49m\u001b[43m)\u001b[49m\n",
      "File \u001b[1;32m~\\anaconda3\\lib\\site-packages\\sklearn\\preprocessing\\_data.py:841\u001b[0m, in \u001b[0;36mStandardScaler.partial_fit\u001b[1;34m(self, X, y, sample_weight)\u001b[0m\n\u001b[0;32m    809\u001b[0m \u001b[38;5;124;03m\"\"\"Online computation of mean and std on X for later scaling.\u001b[39;00m\n\u001b[0;32m    810\u001b[0m \n\u001b[0;32m    811\u001b[0m \u001b[38;5;124;03mAll of X is processed as a single batch. This is intended for cases\u001b[39;00m\n\u001b[1;32m   (...)\u001b[0m\n\u001b[0;32m    838\u001b[0m \u001b[38;5;124;03m    Fitted scaler.\u001b[39;00m\n\u001b[0;32m    839\u001b[0m \u001b[38;5;124;03m\"\"\"\u001b[39;00m\n\u001b[0;32m    840\u001b[0m first_call \u001b[38;5;241m=\u001b[39m \u001b[38;5;129;01mnot\u001b[39;00m \u001b[38;5;28mhasattr\u001b[39m(\u001b[38;5;28mself\u001b[39m, \u001b[38;5;124m\"\u001b[39m\u001b[38;5;124mn_samples_seen_\u001b[39m\u001b[38;5;124m\"\u001b[39m)\n\u001b[1;32m--> 841\u001b[0m X \u001b[38;5;241m=\u001b[39m \u001b[38;5;28;43mself\u001b[39;49m\u001b[38;5;241;43m.\u001b[39;49m\u001b[43m_validate_data\u001b[49m\u001b[43m(\u001b[49m\n\u001b[0;32m    842\u001b[0m \u001b[43m    \u001b[49m\u001b[43mX\u001b[49m\u001b[43m,\u001b[49m\n\u001b[0;32m    843\u001b[0m \u001b[43m    \u001b[49m\u001b[43maccept_sparse\u001b[49m\u001b[38;5;241;43m=\u001b[39;49m\u001b[43m(\u001b[49m\u001b[38;5;124;43m\"\u001b[39;49m\u001b[38;5;124;43mcsr\u001b[39;49m\u001b[38;5;124;43m\"\u001b[39;49m\u001b[43m,\u001b[49m\u001b[43m \u001b[49m\u001b[38;5;124;43m\"\u001b[39;49m\u001b[38;5;124;43mcsc\u001b[39;49m\u001b[38;5;124;43m\"\u001b[39;49m\u001b[43m)\u001b[49m\u001b[43m,\u001b[49m\n\u001b[0;32m    844\u001b[0m \u001b[43m    \u001b[49m\u001b[43mestimator\u001b[49m\u001b[38;5;241;43m=\u001b[39;49m\u001b[38;5;28;43mself\u001b[39;49m\u001b[43m,\u001b[49m\n\u001b[0;32m    845\u001b[0m \u001b[43m    \u001b[49m\u001b[43mdtype\u001b[49m\u001b[38;5;241;43m=\u001b[39;49m\u001b[43mFLOAT_DTYPES\u001b[49m\u001b[43m,\u001b[49m\n\u001b[0;32m    846\u001b[0m \u001b[43m    \u001b[49m\u001b[43mforce_all_finite\u001b[49m\u001b[38;5;241;43m=\u001b[39;49m\u001b[38;5;124;43m\"\u001b[39;49m\u001b[38;5;124;43mallow-nan\u001b[39;49m\u001b[38;5;124;43m\"\u001b[39;49m\u001b[43m,\u001b[49m\n\u001b[0;32m    847\u001b[0m \u001b[43m    \u001b[49m\u001b[43mreset\u001b[49m\u001b[38;5;241;43m=\u001b[39;49m\u001b[43mfirst_call\u001b[49m\u001b[43m,\u001b[49m\n\u001b[0;32m    848\u001b[0m \u001b[43m\u001b[49m\u001b[43m)\u001b[49m\n\u001b[0;32m    849\u001b[0m n_features \u001b[38;5;241m=\u001b[39m X\u001b[38;5;241m.\u001b[39mshape[\u001b[38;5;241m1\u001b[39m]\n\u001b[0;32m    851\u001b[0m \u001b[38;5;28;01mif\u001b[39;00m sample_weight \u001b[38;5;129;01mis\u001b[39;00m \u001b[38;5;129;01mnot\u001b[39;00m \u001b[38;5;28;01mNone\u001b[39;00m:\n",
      "File \u001b[1;32m~\\anaconda3\\lib\\site-packages\\sklearn\\base.py:566\u001b[0m, in \u001b[0;36mBaseEstimator._validate_data\u001b[1;34m(self, X, y, reset, validate_separately, **check_params)\u001b[0m\n\u001b[0;32m    564\u001b[0m     \u001b[38;5;28;01mraise\u001b[39;00m \u001b[38;5;167;01mValueError\u001b[39;00m(\u001b[38;5;124m\"\u001b[39m\u001b[38;5;124mValidation should be done on X, y or both.\u001b[39m\u001b[38;5;124m\"\u001b[39m)\n\u001b[0;32m    565\u001b[0m \u001b[38;5;28;01melif\u001b[39;00m \u001b[38;5;129;01mnot\u001b[39;00m no_val_X \u001b[38;5;129;01mand\u001b[39;00m no_val_y:\n\u001b[1;32m--> 566\u001b[0m     X \u001b[38;5;241m=\u001b[39m check_array(X, \u001b[38;5;241m*\u001b[39m\u001b[38;5;241m*\u001b[39mcheck_params)\n\u001b[0;32m    567\u001b[0m     out \u001b[38;5;241m=\u001b[39m X\n\u001b[0;32m    568\u001b[0m \u001b[38;5;28;01melif\u001b[39;00m no_val_X \u001b[38;5;129;01mand\u001b[39;00m \u001b[38;5;129;01mnot\u001b[39;00m no_val_y:\n",
      "File \u001b[1;32m~\\anaconda3\\lib\\site-packages\\sklearn\\utils\\validation.py:746\u001b[0m, in \u001b[0;36mcheck_array\u001b[1;34m(array, accept_sparse, accept_large_sparse, dtype, order, copy, force_all_finite, ensure_2d, allow_nd, ensure_min_samples, ensure_min_features, estimator)\u001b[0m\n\u001b[0;32m    744\u001b[0m         array \u001b[38;5;241m=\u001b[39m array\u001b[38;5;241m.\u001b[39mastype(dtype, casting\u001b[38;5;241m=\u001b[39m\u001b[38;5;124m\"\u001b[39m\u001b[38;5;124munsafe\u001b[39m\u001b[38;5;124m\"\u001b[39m, copy\u001b[38;5;241m=\u001b[39m\u001b[38;5;28;01mFalse\u001b[39;00m)\n\u001b[0;32m    745\u001b[0m     \u001b[38;5;28;01melse\u001b[39;00m:\n\u001b[1;32m--> 746\u001b[0m         array \u001b[38;5;241m=\u001b[39m \u001b[43mnp\u001b[49m\u001b[38;5;241;43m.\u001b[39;49m\u001b[43masarray\u001b[49m\u001b[43m(\u001b[49m\u001b[43marray\u001b[49m\u001b[43m,\u001b[49m\u001b[43m \u001b[49m\u001b[43morder\u001b[49m\u001b[38;5;241;43m=\u001b[39;49m\u001b[43morder\u001b[49m\u001b[43m,\u001b[49m\u001b[43m \u001b[49m\u001b[43mdtype\u001b[49m\u001b[38;5;241;43m=\u001b[39;49m\u001b[43mdtype\u001b[49m\u001b[43m)\u001b[49m\n\u001b[0;32m    747\u001b[0m \u001b[38;5;28;01mexcept\u001b[39;00m ComplexWarning \u001b[38;5;28;01mas\u001b[39;00m complex_warning:\n\u001b[0;32m    748\u001b[0m     \u001b[38;5;28;01mraise\u001b[39;00m \u001b[38;5;167;01mValueError\u001b[39;00m(\n\u001b[0;32m    749\u001b[0m         \u001b[38;5;124m\"\u001b[39m\u001b[38;5;124mComplex data not supported\u001b[39m\u001b[38;5;130;01m\\n\u001b[39;00m\u001b[38;5;132;01m{}\u001b[39;00m\u001b[38;5;130;01m\\n\u001b[39;00m\u001b[38;5;124m\"\u001b[39m\u001b[38;5;241m.\u001b[39mformat(array)\n\u001b[0;32m    750\u001b[0m     ) \u001b[38;5;28;01mfrom\u001b[39;00m \u001b[38;5;21;01mcomplex_warning\u001b[39;00m\n",
      "File \u001b[1;32m~\\anaconda3\\lib\\site-packages\\pandas\\core\\generic.py:2064\u001b[0m, in \u001b[0;36mNDFrame.__array__\u001b[1;34m(self, dtype)\u001b[0m\n\u001b[0;32m   2063\u001b[0m \u001b[38;5;28;01mdef\u001b[39;00m \u001b[38;5;21m__array__\u001b[39m(\u001b[38;5;28mself\u001b[39m, dtype: npt\u001b[38;5;241m.\u001b[39mDTypeLike \u001b[38;5;241m|\u001b[39m \u001b[38;5;28;01mNone\u001b[39;00m \u001b[38;5;241m=\u001b[39m \u001b[38;5;28;01mNone\u001b[39;00m) \u001b[38;5;241m-\u001b[39m\u001b[38;5;241m>\u001b[39m np\u001b[38;5;241m.\u001b[39mndarray:\n\u001b[1;32m-> 2064\u001b[0m     \u001b[38;5;28;01mreturn\u001b[39;00m \u001b[43mnp\u001b[49m\u001b[38;5;241;43m.\u001b[39;49m\u001b[43masarray\u001b[49m\u001b[43m(\u001b[49m\u001b[38;5;28;43mself\u001b[39;49m\u001b[38;5;241;43m.\u001b[39;49m\u001b[43m_values\u001b[49m\u001b[43m,\u001b[49m\u001b[43m \u001b[49m\u001b[43mdtype\u001b[49m\u001b[38;5;241;43m=\u001b[39;49m\u001b[43mdtype\u001b[49m\u001b[43m)\u001b[49m\n",
      "\u001b[1;31mValueError\u001b[0m: could not convert string to float: 'Silver'"
     ]
    }
   ],
   "source": [
    "# normalize the data\n",
    "scaler = StandardScaler()\n",
    "x_train = scaler.fit_transform(x_train)\n",
    "x_test = scaler.transform(x_test)"
   ]
  },
  {
   "cell_type": "code",
   "execution_count": null,
   "id": "1799310a",
   "metadata": {},
   "outputs": [],
   "source": [
    "model=LinearRegression()\n",
    "model.fit(x_train, y_train)\n",
    "pred = model.predict(x_test)"
   ]
  },
  {
   "cell_type": "code",
   "execution_count": null,
   "id": "837a5c6f",
   "metadata": {},
   "outputs": [],
   "source": [
    "from sklearn.metrics import mean_absolute_error, mean_squared_error, r2_score"
   ]
  },
  {
   "cell_type": "code",
   "execution_count": null,
   "id": "fa95a4d7",
   "metadata": {},
   "outputs": [],
   "source": [
    "print('MAE', (mean_absolute_error(pred,y_test)))\n",
    "print('MSE', (mean_squared_error(pred,y_test)))\n",
    "print('R2', (metrics.r2_score(pred,y_test)))"
   ]
  },
  {
   "cell_type": "code",
   "execution_count": null,
   "id": "a4260707",
   "metadata": {},
   "outputs": [],
   "source": [
    "sns.regplot(x=pred, y=y_test)\n",
    "plt.xlabel('Predicted Price')\n",
    "plt.ylabel('Actual Price')\n",
    "plt.title('Linear Model')\n",
    "plt.show()"
   ]
  },
  {
   "cell_type": "code",
   "execution_count": null,
   "id": "0d22d29c",
   "metadata": {},
   "outputs": [],
   "source": [
    "model.score(x_test, y_test)"
   ]
  },
  {
   "cell_type": "markdown",
   "id": "cca5e2e9",
   "metadata": {},
   "source": [
    "### Decision tree regressor "
   ]
  },
  {
   "cell_type": "code",
   "execution_count": null,
   "id": "bba8a6f5",
   "metadata": {},
   "outputs": [],
   "source": [
    "from sklearn.tree import DecisionTreeRegressor \n",
    "\n",
    "# create a regressor object\n",
    "regressor = DecisionTreeRegressor(random_state = 0) \n",
    "  \n",
    "# fit the regressor with X and Y data\n",
    "regressor.fit(x_train, y_train)"
   ]
  },
  {
   "cell_type": "code",
   "execution_count": null,
   "id": "af822829",
   "metadata": {},
   "outputs": [],
   "source": [
    "predictions = regressor.predict(x_test)"
   ]
  },
  {
   "cell_type": "code",
   "execution_count": null,
   "id": "f41bac9a",
   "metadata": {
    "scrolled": true
   },
   "outputs": [],
   "source": [
    "# predictions"
   ]
  },
  {
   "cell_type": "code",
   "execution_count": null,
   "id": "4cef6cae",
   "metadata": {},
   "outputs": [],
   "source": [
    "regressor.score(x_test, y_test)"
   ]
  },
  {
   "cell_type": "code",
   "execution_count": null,
   "id": "f8e16256",
   "metadata": {},
   "outputs": [],
   "source": [
    "print('MAE', (mean_absolute_error(predictions,y_test)))\n",
    "print('MSE', (mean_squared_error(predictions,y_test)))\n",
    "print('R2', (metrics.r2_score(predictions,y_test)))"
   ]
  },
  {
   "cell_type": "code",
   "execution_count": null,
   "id": "e50435df",
   "metadata": {},
   "outputs": [],
   "source": [
    "sns.regplot(x=predictions, y=y_test)\n",
    "plt.xlabel('Predicted Price')\n",
    "plt.ylabel('Actual Price')\n",
    "plt.title('Decision Tree regressor')\n",
    "plt.show()"
   ]
  },
  {
   "cell_type": "markdown",
   "id": "a866ad68",
   "metadata": {},
   "source": [
    "### Random forest regressor"
   ]
  },
  {
   "cell_type": "code",
   "execution_count": null,
   "id": "209367f5",
   "metadata": {},
   "outputs": [],
   "source": [
    "# import the regressor\n",
    "from sklearn.ensemble import RandomForestRegressor  \n",
    " # create regressor object\n",
    "r_regressor = RandomForestRegressor(n_estimators = 100, random_state = 0)  \n",
    "# fit the regressor with x and y data\n",
    "r_regressor.fit(x_train, y_train) "
   ]
  },
  {
   "cell_type": "code",
   "execution_count": null,
   "id": "42840f31",
   "metadata": {},
   "outputs": [],
   "source": [
    "r_predictions = r_regressor.predict(x_test)"
   ]
  },
  {
   "cell_type": "code",
   "execution_count": null,
   "id": "56b0f2f3",
   "metadata": {},
   "outputs": [],
   "source": [
    "print('MAE', (mean_absolute_error(r_predictions,y_test)))\n",
    "print('MSE', (mean_squared_error(r_predictions,y_test)))\n",
    "print('R2', (metrics.r2_score(r_predictions,y_test)))"
   ]
  },
  {
   "cell_type": "code",
   "execution_count": null,
   "id": "1294d2ce",
   "metadata": {},
   "outputs": [],
   "source": [
    "sns.regplot(x=r_predictions, y=y_test)\n",
    "plt.xlabel('Predicted Price')\n",
    "plt.ylabel('Actual Price')\n",
    "plt.title('Random Forest regressor')\n",
    "plt.show()"
   ]
  },
  {
   "cell_type": "markdown",
   "id": "c1d4da81",
   "metadata": {},
   "source": [
    "## Predict car prices with linear regression"
   ]
  },
  {
   "cell_type": "code",
   "execution_count": null,
   "id": "5af7fa9c",
   "metadata": {},
   "outputs": [],
   "source": [
    "import matplotlib.pyplot as plt\n",
    "%matplotlib inline\n",
    "import seaborn as sns\n",
    "from sklearn.model_selection import train_test_split\n",
    "from sklearn.preprocessing import StandardScaler\n",
    "from sklearn.linear_model import LinearRegression\n",
    "from sklearn import metrics"
   ]
  },
  {
   "cell_type": "code",
   "execution_count": null,
   "id": "98ec9f1e",
   "metadata": {},
   "outputs": [],
   "source": [
    "df_train.columns"
   ]
  },
  {
   "cell_type": "code",
   "execution_count": 25,
   "id": "8aba340e",
   "metadata": {},
   "outputs": [
    {
     "data": {
      "text/plain": [
       "Model\n",
       "1.8      1.097500e+06\n",
       "100      9.400000e+05\n",
       "116i     2.133298e+06\n",
       "120i     3.575000e+06\n",
       "1400     5.200000e+06\n",
       "             ...     \n",
       "XF       1.543333e+06\n",
       "XV       1.971695e+06\n",
       "Xenon    3.000000e+06\n",
       "bB       1.995000e+06\n",
       "iQ       9.195000e+05\n",
       "Name: selling_price, Length: 329, dtype: float64"
      ]
     },
     "execution_count": 25,
     "metadata": {},
     "output_type": "execute_result"
    }
   ],
   "source": [
    "df_train.groupby(['Model'])['selling_price'].mean()"
   ]
  },
  {
   "cell_type": "code",
   "execution_count": 26,
   "id": "0d97357c",
   "metadata": {},
   "outputs": [],
   "source": [
    "Mean_encoded_model = df_train.groupby(['Model'])['selling_price'].mean().to_dict()"
   ]
  },
  {
   "cell_type": "code",
   "execution_count": 27,
   "id": "cee3172d",
   "metadata": {},
   "outputs": [
    {
     "name": "stderr",
     "output_type": "stream",
     "text": [
      "C:\\Users\\Brian\\AppData\\Local\\Temp\\ipykernel_4820\\1843895128.py:1: SettingWithCopyWarning: \n",
      "A value is trying to be set on a copy of a slice from a DataFrame.\n",
      "Try using .loc[row_indexer,col_indexer] = value instead\n",
      "\n",
      "See the caveats in the documentation: https://pandas.pydata.org/pandas-docs/stable/user_guide/indexing.html#returning-a-view-versus-a-copy\n",
      "  df_train['Model_en'] =  df_train['Model'].map(Mean_encoded_model)\n"
     ]
    }
   ],
   "source": [
    "df_train['Model_en'] =  df_train['Model'].map(Mean_encoded_model)"
   ]
  },
  {
   "cell_type": "code",
   "execution_count": 28,
   "id": "7120280f",
   "metadata": {},
   "outputs": [
    {
     "name": "stderr",
     "output_type": "stream",
     "text": [
      "C:\\Users\\Brian\\AppData\\Local\\Temp\\ipykernel_4820\\3327053382.py:2: SettingWithCopyWarning: \n",
      "A value is trying to be set on a copy of a slice from a DataFrame.\n",
      "Try using .loc[row_indexer,col_indexer] = value instead\n",
      "\n",
      "See the caveats in the documentation: https://pandas.pydata.org/pandas-docs/stable/user_guide/indexing.html#returning-a-view-versus-a-copy\n",
      "  df_train['Make_en'] =  df_train['Make'].map(Mean_encoded_make)\n"
     ]
    }
   ],
   "source": [
    "Mean_encoded_make = df_train.groupby(['Make'])['selling_price'].mean().to_dict()\n",
    "df_train['Make_en'] =  df_train['Make'].map(Mean_encoded_make)"
   ]
  },
  {
   "cell_type": "code",
   "execution_count": 29,
   "id": "56e6f58f",
   "metadata": {},
   "outputs": [
    {
     "name": "stderr",
     "output_type": "stream",
     "text": [
      "C:\\Users\\Brian\\AppData\\Local\\Temp\\ipykernel_4820\\672006822.py:2: SettingWithCopyWarning: \n",
      "A value is trying to be set on a copy of a slice from a DataFrame.\n",
      "Try using .loc[row_indexer,col_indexer] = value instead\n",
      "\n",
      "See the caveats in the documentation: https://pandas.pydata.org/pandas-docs/stable/user_guide/indexing.html#returning-a-view-versus-a-copy\n",
      "  df_train['Cond_en'] =  df_train['Condition'].map(Mean_encoded_cond)\n"
     ]
    }
   ],
   "source": [
    "Mean_encoded_cond = df_train.groupby(['Condition'])['selling_price'].mean().to_dict()\n",
    "df_train['Cond_en'] =  df_train['Condition'].map(Mean_encoded_cond)"
   ]
  },
  {
   "cell_type": "code",
   "execution_count": 30,
   "id": "4c5bcfc3",
   "metadata": {},
   "outputs": [
    {
     "name": "stderr",
     "output_type": "stream",
     "text": [
      "C:\\Users\\Brian\\AppData\\Local\\Temp\\ipykernel_4820\\1896825002.py:2: SettingWithCopyWarning: \n",
      "A value is trying to be set on a copy of a slice from a DataFrame.\n",
      "Try using .loc[row_indexer,col_indexer] = value instead\n",
      "\n",
      "See the caveats in the documentation: https://pandas.pydata.org/pandas-docs/stable/user_guide/indexing.html#returning-a-view-versus-a-copy\n",
      "  df_train['trans_en'] =  df_train['Transmission'].map(Mean_encoded_trans)\n"
     ]
    }
   ],
   "source": [
    "Mean_encoded_trans = df_train.groupby(['Transmission'])['selling_price'].mean().to_dict()\n",
    "df_train['trans_en'] =  df_train['Transmission'].map(Mean_encoded_trans)"
   ]
  },
  {
   "cell_type": "code",
   "execution_count": 31,
   "id": "b137075c",
   "metadata": {},
   "outputs": [
    {
     "data": {
      "text/html": [
       "<div>\n",
       "<style scoped>\n",
       "    .dataframe tbody tr th:only-of-type {\n",
       "        vertical-align: middle;\n",
       "    }\n",
       "\n",
       "    .dataframe tbody tr th {\n",
       "        vertical-align: top;\n",
       "    }\n",
       "\n",
       "    .dataframe thead th {\n",
       "        text-align: right;\n",
       "    }\n",
       "</style>\n",
       "<table border=\"1\" class=\"dataframe\">\n",
       "  <thead>\n",
       "    <tr style=\"text-align: right;\">\n",
       "      <th></th>\n",
       "      <th>Age</th>\n",
       "      <th>Mileage</th>\n",
       "      <th>selling_price</th>\n",
       "      <th>Model_en</th>\n",
       "      <th>Make_en</th>\n",
       "      <th>Cond_en</th>\n",
       "      <th>trans_en</th>\n",
       "    </tr>\n",
       "  </thead>\n",
       "  <tbody>\n",
       "    <tr>\n",
       "      <th>Age</th>\n",
       "      <td>1.000000</td>\n",
       "      <td>0.349015</td>\n",
       "      <td>0.007662</td>\n",
       "      <td>0.031835</td>\n",
       "      <td>0.027374</td>\n",
       "      <td>0.289589</td>\n",
       "      <td>0.150819</td>\n",
       "    </tr>\n",
       "    <tr>\n",
       "      <th>Mileage</th>\n",
       "      <td>0.349015</td>\n",
       "      <td>1.000000</td>\n",
       "      <td>-0.002995</td>\n",
       "      <td>0.014805</td>\n",
       "      <td>0.006066</td>\n",
       "      <td>0.173981</td>\n",
       "      <td>0.111453</td>\n",
       "    </tr>\n",
       "    <tr>\n",
       "      <th>selling_price</th>\n",
       "      <td>0.007662</td>\n",
       "      <td>-0.002995</td>\n",
       "      <td>1.000000</td>\n",
       "      <td>0.202446</td>\n",
       "      <td>0.077170</td>\n",
       "      <td>0.008243</td>\n",
       "      <td>0.025217</td>\n",
       "    </tr>\n",
       "    <tr>\n",
       "      <th>Model_en</th>\n",
       "      <td>0.031835</td>\n",
       "      <td>0.014805</td>\n",
       "      <td>0.202446</td>\n",
       "      <td>1.000000</td>\n",
       "      <td>0.381187</td>\n",
       "      <td>0.011005</td>\n",
       "      <td>0.060200</td>\n",
       "    </tr>\n",
       "    <tr>\n",
       "      <th>Make_en</th>\n",
       "      <td>0.027374</td>\n",
       "      <td>0.006066</td>\n",
       "      <td>0.077170</td>\n",
       "      <td>0.381187</td>\n",
       "      <td>1.000000</td>\n",
       "      <td>0.028244</td>\n",
       "      <td>0.009611</td>\n",
       "    </tr>\n",
       "    <tr>\n",
       "      <th>Cond_en</th>\n",
       "      <td>0.289589</td>\n",
       "      <td>0.173981</td>\n",
       "      <td>0.008243</td>\n",
       "      <td>0.011005</td>\n",
       "      <td>0.028244</td>\n",
       "      <td>1.000000</td>\n",
       "      <td>0.081279</td>\n",
       "    </tr>\n",
       "    <tr>\n",
       "      <th>trans_en</th>\n",
       "      <td>0.150819</td>\n",
       "      <td>0.111453</td>\n",
       "      <td>0.025217</td>\n",
       "      <td>0.060200</td>\n",
       "      <td>0.009611</td>\n",
       "      <td>0.081279</td>\n",
       "      <td>1.000000</td>\n",
       "    </tr>\n",
       "  </tbody>\n",
       "</table>\n",
       "</div>"
      ],
      "text/plain": [
       "                    Age   Mileage  selling_price  Model_en   Make_en  \\\n",
       "Age            1.000000  0.349015       0.007662  0.031835  0.027374   \n",
       "Mileage        0.349015  1.000000      -0.002995  0.014805  0.006066   \n",
       "selling_price  0.007662 -0.002995       1.000000  0.202446  0.077170   \n",
       "Model_en       0.031835  0.014805       0.202446  1.000000  0.381187   \n",
       "Make_en        0.027374  0.006066       0.077170  0.381187  1.000000   \n",
       "Cond_en        0.289589  0.173981       0.008243  0.011005  0.028244   \n",
       "trans_en       0.150819  0.111453       0.025217  0.060200  0.009611   \n",
       "\n",
       "                Cond_en  trans_en  \n",
       "Age            0.289589  0.150819  \n",
       "Mileage        0.173981  0.111453  \n",
       "selling_price  0.008243  0.025217  \n",
       "Model_en       0.011005  0.060200  \n",
       "Make_en        0.028244  0.009611  \n",
       "Cond_en        1.000000  0.081279  \n",
       "trans_en       0.081279  1.000000  "
      ]
     },
     "execution_count": 31,
     "metadata": {},
     "output_type": "execute_result"
    }
   ],
   "source": [
    "df_train.corr()"
   ]
  },
  {
   "cell_type": "code",
   "execution_count": 32,
   "id": "a35ed207",
   "metadata": {},
   "outputs": [],
   "source": [
    "# df_train.columns\n",
    "cols = ['Age','Mileage','selling_price', 'Model_en', 'Make_en', 'Cond_en', 'trans_en']"
   ]
  },
  {
   "cell_type": "code",
   "execution_count": 33,
   "id": "7bf56961",
   "metadata": {},
   "outputs": [],
   "source": [
    "df2 = df_train[cols]"
   ]
  },
  {
   "cell_type": "code",
   "execution_count": 34,
   "id": "d5e73678",
   "metadata": {},
   "outputs": [],
   "source": [
    "q = df2['selling_price'].quantile(.95)\n",
    "filt2 = df2['selling_price'] <q\n",
    "df2 = df2.loc[filt2]"
   ]
  },
  {
   "cell_type": "code",
   "execution_count": 35,
   "id": "060b18f5",
   "metadata": {},
   "outputs": [
    {
     "data": {
      "text/plain": [
       "Index(['Age', 'Mileage', 'selling_price', 'Model_en', 'Make_en', 'Cond_en',\n",
       "       'trans_en'],\n",
       "      dtype='object')"
      ]
     },
     "execution_count": 35,
     "metadata": {},
     "output_type": "execute_result"
    }
   ],
   "source": [
    "df2.columns"
   ]
  },
  {
   "cell_type": "code",
   "execution_count": 36,
   "id": "3d9be3e5",
   "metadata": {},
   "outputs": [],
   "source": [
    "# df2 = df2.drop(['min_est', 'max_est'], axis = 1)"
   ]
  },
  {
   "cell_type": "code",
   "execution_count": 37,
   "id": "2e806c77",
   "metadata": {},
   "outputs": [],
   "source": [
    "# one hot encoding\n",
    "# df2 = pd.get_dummies(df2, columns=['Condition', 'Make','Model','Transmission'], drop_first=True)"
   ]
  },
  {
   "cell_type": "code",
   "execution_count": 38,
   "id": "3e5a224f",
   "metadata": {},
   "outputs": [
    {
     "data": {
      "text/plain": [
       "Index(['Age', 'Mileage', 'selling_price', 'Model_en', 'Make_en', 'Cond_en',\n",
       "       'trans_en'],\n",
       "      dtype='object')"
      ]
     },
     "execution_count": 38,
     "metadata": {},
     "output_type": "execute_result"
    }
   ],
   "source": [
    "df2.columns"
   ]
  },
  {
   "cell_type": "code",
   "execution_count": 39,
   "id": "f212ee7a",
   "metadata": {},
   "outputs": [],
   "source": [
    "# Check the correlation\n",
    "# plt.figure(figsize=(10,7))\n",
    "# sns.heatmap(df.corr(), annot=True)\n",
    "# plt.title('Correlation between variables')\n",
    "# plt.show()"
   ]
  },
  {
   "cell_type": "code",
   "execution_count": 40,
   "id": "aec3d309",
   "metadata": {},
   "outputs": [],
   "source": [
    "x= df2.drop('selling_price', axis=1)\n",
    "y= df2['selling_price']"
   ]
  },
  {
   "cell_type": "code",
   "execution_count": 41,
   "id": "9d9492a1",
   "metadata": {},
   "outputs": [
    {
     "data": {
      "text/plain": [
       "6199999.0"
      ]
     },
     "execution_count": 41,
     "metadata": {},
     "output_type": "execute_result"
    }
   ],
   "source": [
    "df2.selling_price.max()"
   ]
  },
  {
   "cell_type": "code",
   "execution_count": 42,
   "id": "34e0c3b3",
   "metadata": {},
   "outputs": [
    {
     "name": "stdout",
     "output_type": "stream",
     "text": [
      "(10623, 6) (10623,)\n"
     ]
    }
   ],
   "source": [
    "print(x.shape, y.shape)"
   ]
  },
  {
   "cell_type": "code",
   "execution_count": 43,
   "id": "25bd21a5",
   "metadata": {},
   "outputs": [],
   "source": [
    "# Separate the training and the test data\n",
    "x_train, x_test, y_train, y_test = train_test_split(x, y, test_size=0.3, random_state=42)"
   ]
  },
  {
   "cell_type": "code",
   "execution_count": 44,
   "id": "2f9e0127",
   "metadata": {},
   "outputs": [
    {
     "name": "stdout",
     "output_type": "stream",
     "text": [
      "(7436, 6) (3187, 6)\n"
     ]
    }
   ],
   "source": [
    "print(x_train.shape, x_test.shape)"
   ]
  },
  {
   "cell_type": "code",
   "execution_count": 45,
   "id": "889ec5f2",
   "metadata": {},
   "outputs": [],
   "source": [
    "#normalize the data\n",
    "scaler = StandardScaler()\n",
    "x_train = scaler.fit_transform(x_train)\n",
    "x_test = scaler.transform(x_test)"
   ]
  },
  {
   "cell_type": "code",
   "execution_count": 46,
   "id": "fa9ecb30",
   "metadata": {},
   "outputs": [],
   "source": [
    "model=LinearRegression()\n",
    "model.fit(x_train, y_train)\n",
    "pred = model.predict(x_test)"
   ]
  },
  {
   "cell_type": "code",
   "execution_count": 47,
   "id": "a9e032bd",
   "metadata": {},
   "outputs": [],
   "source": [
    "# model.fit(x_train, y_train)"
   ]
  },
  {
   "cell_type": "code",
   "execution_count": 48,
   "id": "49b54c61",
   "metadata": {},
   "outputs": [],
   "source": [
    "# pred = model.predict(x_test)"
   ]
  },
  {
   "cell_type": "code",
   "execution_count": 49,
   "id": "88144828",
   "metadata": {},
   "outputs": [],
   "source": [
    "from sklearn.metrics import mean_absolute_error, mean_squared_error, r2_score"
   ]
  },
  {
   "cell_type": "code",
   "execution_count": 50,
   "id": "87bdbf5b",
   "metadata": {},
   "outputs": [
    {
     "name": "stdout",
     "output_type": "stream",
     "text": [
      "MAE 868071.6145677004\n",
      "MSE 1261548358679.739\n",
      "R2 -58.43239511465085\n"
     ]
    }
   ],
   "source": [
    "print('MAE', (mean_absolute_error(pred,y_test)))\n",
    "print('MSE', (mean_squared_error(pred,y_test)))\n",
    "print('R2', (metrics.r2_score(pred,y_test)))"
   ]
  },
  {
   "cell_type": "code",
   "execution_count": 51,
   "id": "ca1b50f1",
   "metadata": {},
   "outputs": [
    {
     "data": {
      "image/png": "[encoded data removed]",
      "text/plain": [
       "<Figure size 432x288 with 1 Axes>"
      ]
     },
     "metadata": {
      "needs_background": "light"
     },
     "output_type": "display_data"
    }
   ],
   "source": [
    "sns.regplot(x=pred, y=y_test)\n",
    "plt.xlabel('Predicted Price')\n",
    "plt.ylabel('Actual Price')\n",
    "plt.title('Linear Model')\n",
    "plt.show()"
   ]
  },
  {
   "cell_type": "code",
   "execution_count": 52,
   "id": "2bb0d238",
   "metadata": {},
   "outputs": [
    {
     "data": {
      "text/plain": [
       "0.0050086610082172855"
      ]
     },
     "execution_count": 52,
     "metadata": {},
     "output_type": "execute_result"
    }
   ],
   "source": [
    "model.score(x_test, y_test)"
   ]
  },
  {
   "cell_type": "markdown",
   "id": "24eedb90",
   "metadata": {},
   "source": [
    "### Random forest regressor"
   ]
  },
  {
   "cell_type": "code",
   "execution_count": 53,
   "id": "d9d6c1ae",
   "metadata": {},
   "outputs": [
    {
     "name": "stdout",
     "output_type": "stream",
     "text": [
      "(7436, 6) (7436,)\n"
     ]
    }
   ],
   "source": [
    "print(x_train.shape, y_train.shape)"
   ]
  },
  {
   "cell_type": "code",
   "execution_count": 54,
   "id": "71fc4f3b",
   "metadata": {},
   "outputs": [
    {
     "data": {
      "text/plain": [
       "RandomForestRegressor(random_state=0)"
      ]
     },
     "execution_count": 54,
     "metadata": {},
     "output_type": "execute_result"
    }
   ],
   "source": [
    "from sklearn.ensemble import RandomForestRegressor\n",
    "  \n",
    " # create regressor object\n",
    "r_regressor = RandomForestRegressor(n_estimators = 100, random_state = 0)\n",
    "  \n",
    "# fit the regressor with x and y data\n",
    "r_regressor.fit(x_train, y_train)"
   ]
  },
  {
   "cell_type": "code",
   "execution_count": 55,
   "id": "96ca47c6",
   "metadata": {},
   "outputs": [],
   "source": [
    "r_predictions = r_regressor.predict(x_test)"
   ]
  },
  {
   "cell_type": "code",
   "execution_count": 56,
   "id": "7011916d",
   "metadata": {},
   "outputs": [
    {
     "name": "stdout",
     "output_type": "stream",
     "text": [
      "MAE 966389.8929628193\n",
      "MSE 1627421402155.9373\n",
      "R2 -3.0360531061834886\n"
     ]
    }
   ],
   "source": [
    "print('MAE', (mean_absolute_error(r_predictions,y_test)))\n",
    "print('MSE', (mean_squared_error(r_predictions,y_test)))\n",
    "print('R2', (metrics.r2_score(r_predictions,y_test)))"
   ]
  },
  {
   "cell_type": "code",
   "execution_count": 57,
   "id": "4e7a598c",
   "metadata": {},
   "outputs": [
    {
     "data": {
      "image/png": "[encoded data removed]",
      "text/plain": [
       "<Figure size 432x288 with 1 Axes>"
      ]
     },
     "metadata": {
      "needs_background": "light"
     },
     "output_type": "display_data"
    }
   ],
   "source": [
    "sns.regplot(x=r_predictions, y=y_test)\n",
    "plt.xlabel('Predicted Price')\n",
    "plt.ylabel('Actual Price')\n",
    "plt.title('Linear Model')\n",
    "plt.show()"
   ]
  },
  {
   "cell_type": "code",
   "execution_count": 58,
   "id": "abcd9638",
   "metadata": {},
   "outputs": [],
   "source": [
    "df_3 = pd.DataFrame({'pred':r_predictions,'test':y_test})"
   ]
  },
  {
   "cell_type": "code",
   "execution_count": 59,
   "id": "64da2c21",
   "metadata": {},
   "outputs": [
    {
     "data": {
      "text/html": [
       "<div>\n",
       "<style scoped>\n",
       "    .dataframe tbody tr th:only-of-type {\n",
       "        vertical-align: middle;\n",
       "    }\n",
       "\n",
       "    .dataframe tbody tr th {\n",
       "        vertical-align: top;\n",
       "    }\n",
       "\n",
       "    .dataframe thead th {\n",
       "        text-align: right;\n",
       "    }\n",
       "</style>\n",
       "<table border=\"1\" class=\"dataframe\">\n",
       "  <thead>\n",
       "    <tr style=\"text-align: right;\">\n",
       "      <th></th>\n",
       "      <th>pred</th>\n",
       "      <th>test</th>\n",
       "    </tr>\n",
       "  </thead>\n",
       "  <tbody>\n",
       "    <tr>\n",
       "      <th>875</th>\n",
       "      <td>1.658658e+06</td>\n",
       "      <td>2500000.0</td>\n",
       "    </tr>\n",
       "    <tr>\n",
       "      <th>4397</th>\n",
       "      <td>1.585166e+06</td>\n",
       "      <td>4295000.0</td>\n",
       "    </tr>\n",
       "    <tr>\n",
       "      <th>2941</th>\n",
       "      <td>2.916889e+06</td>\n",
       "      <td>970000.0</td>\n",
       "    </tr>\n",
       "    <tr>\n",
       "      <th>1506</th>\n",
       "      <td>1.261933e+06</td>\n",
       "      <td>4500000.0</td>\n",
       "    </tr>\n",
       "    <tr>\n",
       "      <th>5423</th>\n",
       "      <td>1.501765e+06</td>\n",
       "      <td>4000000.0</td>\n",
       "    </tr>\n",
       "    <tr>\n",
       "      <th>...</th>\n",
       "      <td>...</td>\n",
       "      <td>...</td>\n",
       "    </tr>\n",
       "    <tr>\n",
       "      <th>10378</th>\n",
       "      <td>2.781097e+06</td>\n",
       "      <td>1100000.0</td>\n",
       "    </tr>\n",
       "    <tr>\n",
       "      <th>3208</th>\n",
       "      <td>1.834650e+06</td>\n",
       "      <td>2700000.0</td>\n",
       "    </tr>\n",
       "    <tr>\n",
       "      <th>10882</th>\n",
       "      <td>1.638868e+06</td>\n",
       "      <td>1900000.0</td>\n",
       "    </tr>\n",
       "    <tr>\n",
       "      <th>561</th>\n",
       "      <td>2.525071e+06</td>\n",
       "      <td>5499999.0</td>\n",
       "    </tr>\n",
       "    <tr>\n",
       "      <th>7253</th>\n",
       "      <td>1.312552e+06</td>\n",
       "      <td>980000.0</td>\n",
       "    </tr>\n",
       "  </tbody>\n",
       "</table>\n",
       "<p>3187 rows × 2 columns</p>\n",
       "</div>"
      ],
      "text/plain": [
       "               pred       test\n",
       "875    1.658658e+06  2500000.0\n",
       "4397   1.585166e+06  4295000.0\n",
       "2941   2.916889e+06   970000.0\n",
       "1506   1.261933e+06  4500000.0\n",
       "5423   1.501765e+06  4000000.0\n",
       "...             ...        ...\n",
       "10378  2.781097e+06  1100000.0\n",
       "3208   1.834650e+06  2700000.0\n",
       "10882  1.638868e+06  1900000.0\n",
       "561    2.525071e+06  5499999.0\n",
       "7253   1.312552e+06   980000.0\n",
       "\n",
       "[3187 rows x 2 columns]"
      ]
     },
     "execution_count": 59,
     "metadata": {},
     "output_type": "execute_result"
    }
   ],
   "source": [
    "df_3"
   ]
  },
  {
   "cell_type": "code",
   "execution_count": 60,
   "id": "f7479680",
   "metadata": {},
   "outputs": [
    {
     "data": {
      "text/plain": [
       "pred    0\n",
       "test    0\n",
       "dtype: int64"
      ]
     },
     "execution_count": 60,
     "metadata": {},
     "output_type": "execute_result"
    }
   ],
   "source": [
    "df_3.isnull().sum()"
   ]
  },
  {
   "cell_type": "code",
   "execution_count": null,
   "id": "2d30981e",
   "metadata": {},
   "outputs": [],
   "source": []
  },
  {
   "cell_type": "code",
   "execution_count": null,
   "id": "0a219093",
   "metadata": {},
   "outputs": [],
   "source": []
  }
 ],
 "metadata": {
  "kernelspec": {
   "display_name": "Python 3 (ipykernel)",
   "language": "python",
   "name": "python3"
  },
  "language_info": {
   "codemirror_mode": {
    "name": "ipython",
    "version": 3
   },
   "file_extension": ".py",
   "mimetype": "text/x-python",
   "name": "python",
   "nbconvert_exporter": "python",
   "pygments_lexer": "ipython3",
   "version": "3.9.12"
  }
 },
 "nbformat": 4,
 "nbformat_minor": 5
}
